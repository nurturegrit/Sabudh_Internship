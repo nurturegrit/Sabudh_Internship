{
 "cells": [
  {
   "cell_type": "markdown",
   "id": "f15ff870-7ae2-4d07-b427-d10474ebffbd",
   "metadata": {},
   "source": [
    "### Given an integer array nums, \n",
    "return all the triplets [nums[i], nums[j], nums[k]] \n",
    "such that \n",
    "* i != j, i != k, and j != k\n",
    "* nums[i] + nums[j] + nums[k] == 0."
   ]
  },
  {
   "cell_type": "code",
   "execution_count": 7,
   "id": "5ba22b3e-000d-4152-9c12-5ef86dd32c2d",
   "metadata": {},
   "outputs": [
    {
     "name": "stdout",
     "output_type": "stream",
     "text": [
      "[[0, 0, 0]]\n",
      "[]\n"
     ]
    },
    {
     "data": {
      "text/plain": [
       "[[-1, 0, 1], [-1, 2, -1], [0, 1, -1]]"
      ]
     },
     "execution_count": 7,
     "metadata": {},
     "output_type": "execute_result"
    }
   ],
   "source": [
    "def solution(array):\n",
    "    triplets = []\n",
    "    for i in range(len(array)):\n",
    "        found = set()\n",
    "        for j in range(i+1, len(array)):\n",
    "            compliment = - (array[i] + array[j])\n",
    "            if compliment in found:\n",
    "                continue\n",
    "            for k in range(j+1, len(array)):\n",
    "                if array[k] == compliment:\n",
    "                    triplets.append([array[i], array[j], array[k]])\n",
    "                    found.add(compliment)\n",
    "                    break\n",
    "    return triplets\n",
    "\n",
    "print(solution([0]*3))\n",
    "print(solution([0,1,1]))\n",
    "solution([-1,0,1,2,-1,-4])           "
   ]
  },
  {
   "cell_type": "markdown",
   "id": "90257eb5-35bf-4239-911e-c9021cd43de6",
   "metadata": {},
   "source": [
    "Given an array of positive and negative numbers\n",
    "* arrange them such that all negative integers appear before all the positive integers in the array\n",
    "* without using any additional data structure like a hash table, arrays, etc. The order of appearance should be maintained."
   ]
  },
  {
   "cell_type": "code",
   "execution_count": 31,
   "id": "3317a828-320b-4988-a4af-133b48fdff68",
   "metadata": {},
   "outputs": [
    {
     "name": "stdout",
     "output_type": "stream",
     "text": [
      "[-1, -1, -2, 1, 0, 0, 1] \n",
      "\n",
      "\n"
     ]
    },
    {
     "data": {
      "text/plain": [
       "[-1, -1, -2, 1, 0, 0, 1]"
      ]
     },
     "execution_count": 31,
     "metadata": {},
     "output_type": "execute_result"
    }
   ],
   "source": [
    "def segregate_numbers(array):\n",
    "    pos_idx = None\n",
    "    for idx, num in enumerate(array):\n",
    "        if pos_idx is None and num < 0:\n",
    "            continue\n",
    "        elif pos_idx is None:\n",
    "            pos_idx = idx\n",
    "            continue\n",
    "        if pos_idx is not None and num < 0:\n",
    "            array[pos_idx + 1: idx + 1] = array[pos_idx : idx] # shifting positive values 1 step right\n",
    "            array[pos_idx] = num\n",
    "            pos_idx += 1\n",
    "    return array\n",
    "\n",
    "def recursive_seg_nums(array):\n",
    "    pos_idx = None\n",
    "    def change_neg_pos(pos_idx):\n",
    "        sav = array[pos_idx]\n",
    "        for i in range(pos_idx + 1, len(array)):\n",
    "            if array[i] >= 0:\n",
    "                temp = array[i]\n",
    "                array[i] = sav\n",
    "                sav = temp\n",
    "            else:\n",
    "                array[pos_idx] = array[i]\n",
    "                array[i] = sav\n",
    "                return i\n",
    "    for idx, num in enumerate(array):\n",
    "        if pos_idx is not None:\n",
    "            if change_neg_pos(pos_idx) == len(array) - 1:\n",
    "                return array\n",
    "            pos_idx += 1\n",
    "        elif num >= 0:\n",
    "            pos_idx = idx\n",
    "    return array\n",
    "            \n",
    "print(recursive_seg_nums([1, 0, -1, -1, 0, 1, -2]), '\\n\\n' )        \n",
    "segregate_numbers([1, 0, -1, -1, 0, 1, -2])"
   ]
  },
  {
   "cell_type": "code",
   "execution_count": 30,
   "id": "ee7f68ef-38fa-460e-991d-e59be6deda20",
   "metadata": {},
   "outputs": [
    {
     "name": "stdout",
     "output_type": "stream",
     "text": [
      "[-12, -13, -5, -7, -3, -6, 11, 6, 5] \n",
      "\n",
      " [-12, -5, -7, -3, 11, 13, 6, 5, 8]\n"
     ]
    }
   ],
   "source": [
    "# Test Cases\n",
    "print(segregate_numbers([-12, 11, -13, -5, 6, -7, 5, -3, -6]), \"\\n\\n\", segregate_numbers([ -12, 11, 13, -5, 6, -7, 5, -3, 8]))"
   ]
  },
  {
   "cell_type": "markdown",
   "id": "6789b2d7-a8d1-4d2d-8a02-db048f96a1d1",
   "metadata": {},
   "source": [
    "Given an array of N integers and a number K, the task is \n",
    "* to find the number of pairs of integers in the array whose sum is equal to K."
   ]
  },
  {
   "cell_type": "code",
   "execution_count": 68,
   "id": "593337be-1017-4b2e-a7e4-3c4afed56893",
   "metadata": {},
   "outputs": [],
   "source": [
    "def pair_sum_k(array, k):\n",
    "    pairs = []\n",
    "    counter = {}\n",
    "    for num in array:\n",
    "        counter[num] = counter.get(num, 0) + 1\n",
    "    found = set()\n",
    "    for key in counter.keys():\n",
    "        if key in found:\n",
    "            continue\n",
    "        elif k - key == key:\n",
    "            found.add(key)\n",
    "            pairs.extend([key, key] for i in range((counter[key] * (counter[key] - 1))//2))\n",
    "        elif k - key in counter.keys():\n",
    "            found.add(k - key)\n",
    "            pairs.extend([[key, k - key] for  i in range(counter[key] * counter[k - key])])\n",
    "    return pairs"
   ]
  },
  {
   "cell_type": "code",
   "execution_count": 71,
   "id": "afa02ae8-70c8-4bed-874b-e4790aee8d92",
   "metadata": {},
   "outputs": [
    {
     "name": "stdout",
     "output_type": "stream",
     "text": [
      "[[1, 5], [7, -1], [3, 3]]\n",
      "[[1, 5], [1, 5], [7, -1]]\n"
     ]
    }
   ],
   "source": [
    "# test case\n",
    "print(pair_sum_k([1, 5, 7, -1, 3, 3], 6))\n",
    "print(pair_sum_k([1, 5, 7, -1, 5], 6))"
   ]
  },
  {
   "cell_type": "markdown",
   "id": "8998e0b5-b666-4597-abd5-62af51153ab6",
   "metadata": {},
   "source": [
    "Given an array of `N integers where each value represents the number of chocolates in a packet`. \n",
    "Each packet can have a variable number of chocolates. \n",
    "There are `m students`, the task is to distribute chocolate packets such that:\n",
    "\n",
    "\n",
    "    Each student gets one packet.\n",
    "    The difference between the number of chocolates in the packet with maximum chocolates and the packet with minimum chocolates given to the students is Minimum.\n"
   ]
  },
  {
   "cell_type": "code",
   "execution_count": 84,
   "id": "d65290aa-904d-4734-8666-c6eb25d5ebf8",
   "metadata": {},
   "outputs": [],
   "source": [
    "def evenly_distribute(packets, m, get_packets=False):\n",
    "    # sort the packets\n",
    "    packets.sort()\n",
    "    # minimum difference = packets[i: i+m] for min(packets[i + m - 1] - packets[i])\n",
    "    i = 0\n",
    "    diff = packets[i + m - 1] - packets[i] # diff for first m packets.sort()\n",
    "    start = i\n",
    "    while i < len(packets) - m:\n",
    "        i += 1\n",
    "        if diff > packets[i + m - 1] - packets[i]:\n",
    "            diff = packets[i + m - 1] - packets[i]\n",
    "            start = i\n",
    "    if get_packets:\n",
    "        return diff, packets[start : start + m]\n",
    "    else:\n",
    "        return diff"
   ]
  },
  {
   "cell_type": "code",
   "execution_count": 85,
   "id": "ca511d1e-3f7d-4f0d-83a9-fd2c48cec672",
   "metadata": {},
   "outputs": [
    {
     "data": {
      "text/plain": [
       "2"
      ]
     },
     "execution_count": 85,
     "metadata": {},
     "output_type": "execute_result"
    }
   ],
   "source": [
    "evenly_distribute([7, 3, 2, 4, 9, 12, 56], 3)"
   ]
  },
  {
   "cell_type": "code",
   "execution_count": 87,
   "id": "80f05bef-cb3e-4a61-a238-d68b28f71c63",
   "metadata": {},
   "outputs": [
    {
     "data": {
      "text/plain": [
       "(6, [3, 4, 7, 9, 9])"
      ]
     },
     "execution_count": 87,
     "metadata": {},
     "output_type": "execute_result"
    }
   ],
   "source": [
    "\n",
    "evenly_distribute([3, 4, 1, 9, 56, 7, 9, 12], 5, True)"
   ]
  },
  {
   "cell_type": "markdown",
   "id": "737d71e7-3dde-472f-9971-ff6aaf61c6ee",
   "metadata": {},
   "source": [
    "Seven different symbols represent Roman numerals with the following values:\n",
    "Symbol\n",
    "\n",
    "Value\n",
    "\n",
    "* I     1\n",
    "* V     5\n",
    "* X     10\n",
    "* L     50\n",
    "* C     100\n",
    "* D     500\n",
    "* M     1000\n",
    "\n",
    "Roman numerals are formed by appending the conversions of decimal place values from highest to lowest. Converting a decimal place value into a Roman numeral has the following rules:\n",
    "\n",
    "    If the value does not start with 4 or 9, select the symbol of the maximal value that can be subtracted from the input, append that symbol to the result, subtract its value, and convert the remainder to a Roman numeral.\n",
    "    \n",
    "    If the value starts with 4 or 9 use the subtractive form representing one symbol subtracted from the following symbol, for example, 4 is 1 (I) less than 5 (V): IV and 9 is 1 (I) less than 10 (X): IX. Only the following subtractive forms are used: 4 (IV), 9 (IX), 40 (XL), 90 (XC), 400 (CD) and 900 (CM).\n",
    "    \n",
    "    Only powers of 10 (I, X, C, M) can be appended consecutively at most 3 times to represent multiples of 10. You cannot append 5 (V), 50 (L), or 500 (D) multiple times. If you need to append a symbol 4 times use the subtractive form\n",
    "\n",
    "Given an integer, convert it to a Roman numeral."
   ]
  },
  {
   "cell_type": "code",
   "execution_count": 101,
   "id": "eeb869e8-6595-476e-b1dd-fc68d79060b8",
   "metadata": {},
   "outputs": [],
   "source": [
    "def get_roman_numeral(num):\n",
    "    def convert_to_roman(num):\n",
    "        if num >= 1000:\n",
    "            n = num//1000\n",
    "            remainder = num%1000\n",
    "            return 'M'*n, remainder\n",
    "        elif num >= 100:\n",
    "            n = num//100\n",
    "            remainder = num%100\n",
    "            if n == 9:\n",
    "                return 'CM', remainder\n",
    "            elif n >= 5:\n",
    "                return 'D'+('C'* (n - 5)), remainder\n",
    "            elif n == 4:\n",
    "                return 'CD', remainder\n",
    "            else:\n",
    "                return 'C'*n, remainder\n",
    "        elif num >= 10:\n",
    "            n = num//10\n",
    "            remainder = n%10\n",
    "            if n == 9:\n",
    "                return 'XC', remainder\n",
    "            elif n >= 5:\n",
    "                return 'L' + ((n - 5) * 'X'), remainder\n",
    "            elif n == 4:\n",
    "                return 'XL', remainder\n",
    "            else:\n",
    "                return 'X'*n, remainder\n",
    "        else:\n",
    "            if num == 9:\n",
    "                return 'IX', 0\n",
    "            elif num >= 5:\n",
    "                return 'V' + ((num - 5) * 'I'), 0\n",
    "            elif num == 4:\n",
    "                return 'IV', 0\n",
    "            else:\n",
    "                return 'I' * num, 0\n",
    "    ans = ''\n",
    "    while num != 0:\n",
    "        roman_numeral, num = convert_to_roman(num)\n",
    "        ans += roman_numeral\n",
    "    return ans\n",
    "    "
   ]
  },
  {
   "cell_type": "code",
   "execution_count": 106,
   "id": "335413ab-4fa5-4524-8b15-5269b1198ca8",
   "metadata": {},
   "outputs": [
    {
     "data": {
      "text/plain": [
       "'MMMCMXCIX'"
      ]
     },
     "execution_count": 106,
     "metadata": {},
     "output_type": "execute_result"
    }
   ],
   "source": [
    "get_roman_numeral(3999)"
   ]
  },
  {
   "cell_type": "code",
   "execution_count": 141,
   "id": "295b090c-c09f-4f8e-8862-263ca1f9b18c",
   "metadata": {},
   "outputs": [],
   "source": [
    "def roman_to_num(romans):\n",
    "    roman_dict = {'M': 1000, 'CM': 900, 'D': 500,\n",
    "                 'CD': 400, 'C': 100, 'XC': 90, 'L': 50,\n",
    "                 'XL': 40, 'X': 10, 'IX': 9, 'V': 5,\n",
    "                 'IV': 4, 'I': 1}\n",
    "    search = ''\n",
    "    ans = 0\n",
    "    i = 0\n",
    "    while not ans or search or i < len(romans):\n",
    "        if len(search) < 2 and i < len(romans):\n",
    "            search += romans[i]\n",
    "            i += 1\n",
    "        else:\n",
    "            if search in roman_dict:\n",
    "                ans += roman_dict[search]\n",
    "                search = ''\n",
    "            else:\n",
    "                ans += roman_dict[search[0]]\n",
    "                search = search[-1]\n",
    "    return ans"
   ]
  },
  {
   "cell_type": "code",
   "execution_count": 142,
   "id": "69923efd-a4c1-4b4a-b29a-f43647358de8",
   "metadata": {},
   "outputs": [
    {
     "data": {
      "text/plain": [
       "3999"
      ]
     },
     "execution_count": 142,
     "metadata": {},
     "output_type": "execute_result"
    }
   ],
   "source": [
    "roman_to_num('MMMCMXCIX')"
   ]
  },
  {
   "cell_type": "markdown",
   "id": "c1c28f8e-8a6b-46e7-a86d-7086df74f9a0",
   "metadata": {},
   "source": [
    "Problem 7: You are given an n x n 2D matrix representing an image, rotate the image by 90 degrees (clockwise). \n",
    "\n",
    "You have to rotate the image in-place, which means you have to modify the input 2D matrix directly.\n",
    "DO NOT allocate another 2D matrix and do the rotation."
   ]
  },
  {
   "cell_type": "code",
   "execution_count": 332,
   "id": "169c3df1-ba15-45d1-991b-af79bc71e5b1",
   "metadata": {},
   "outputs": [],
   "source": [
    "n = 5\n",
    "matrix = [[f'{j}{i}' for i in range(n)] for j in range(n)]"
   ]
  },
  {
   "cell_type": "code",
   "execution_count": 333,
   "id": "c1af041a-911b-4483-b8cf-f73ad76a1a21",
   "metadata": {},
   "outputs": [],
   "source": [
    "import numpy as np\n",
    "def rotate_right(matrix):\n",
    "    \"\"\"\n",
    "    Approach : Shifting elements starting from Corner for each sub_matrix/layer in matrix \n",
    "    \"\"\"\n",
    "    for sub_matrix in range(len(matrix)//2):\n",
    "        for i in range(sub_matrix, len(matrix) - 1 - sub_matrix):\n",
    "            # Each subsequent lower layer, the row_index, col index starts from the sub_matrix\n",
    "            j, r = sub_matrix, i\n",
    "            sav = matrix[j][r]\n",
    "            for _ in range(4):\n",
    "                temp = matrix[j][r]\n",
    "                matrix[j][r] = sav\n",
    "                sav = temp\n",
    "                j, r = r, (len(matrix) - 1 - j)\n",
    "            matrix[sub_matrix][i] = sav\n",
    "    return matrix"
   ]
  },
  {
   "cell_type": "code",
   "execution_count": 334,
   "id": "0beec6b2-184c-415f-b3c2-8aba571b8be6",
   "metadata": {
    "scrolled": true
   },
   "outputs": [
    {
     "data": {
      "text/plain": [
       "array([['00', '01', '02', '03', '04'],\n",
       "       ['10', '11', '12', '13', '14'],\n",
       "       ['20', '21', '22', '23', '24'],\n",
       "       ['30', '31', '32', '33', '34'],\n",
       "       ['40', '41', '42', '43', '44']], dtype='<U2')"
      ]
     },
     "execution_count": 334,
     "metadata": {},
     "output_type": "execute_result"
    }
   ],
   "source": [
    "np.array(matrix)"
   ]
  },
  {
   "cell_type": "code",
   "execution_count": 335,
   "id": "ef0fb15a-a938-402d-ad1a-2c66783051f2",
   "metadata": {},
   "outputs": [
    {
     "data": {
      "text/plain": [
       "array([['40', '30', '20', '10', '00'],\n",
       "       ['41', '31', '21', '11', '01'],\n",
       "       ['42', '32', '22', '12', '02'],\n",
       "       ['43', '33', '23', '13', '03'],\n",
       "       ['44', '34', '24', '14', '04']], dtype='<U2')"
      ]
     },
     "execution_count": 335,
     "metadata": {},
     "output_type": "execute_result"
    }
   ],
   "source": [
    "np.array(rotate_right(matrix))"
   ]
  },
  {
   "cell_type": "code",
   "execution_count": 345,
   "id": "2037b792-f157-424a-9472-b6ac2ca541ab",
   "metadata": {},
   "outputs": [
    {
     "data": {
      "text/plain": [
       "array([[ True,  True,  True,  True],\n",
       "       [ True,  True,  True,  True],\n",
       "       [ True,  True,  True,  True],\n",
       "       [ True,  True,  True,  True]])"
      ]
     },
     "execution_count": 345,
     "metadata": {},
     "output_type": "execute_result"
    }
   ],
   "source": [
    "np.array(rotate_right([[5,1,9,11],[2,4,8,10],[13,3,6,7],[15,14,12,16]])) == np.array([[15,13,2,5],[14,3,4,1],[12,6,8,9],[16,7,10,11]])"
   ]
  },
  {
   "cell_type": "code",
   "execution_count": 353,
   "id": "d2a3ce1b-ab59-49b2-9763-c6c65a3eeb2f",
   "metadata": {},
   "outputs": [
    {
     "data": {
      "text/plain": [
       "array([[ True,  True,  True],\n",
       "       [ True,  True,  True],\n",
       "       [ True,  True,  True]])"
      ]
     },
     "execution_count": 353,
     "metadata": {},
     "output_type": "execute_result"
    }
   ],
   "source": [
    "matrix = np.array([\n",
    "    [1, 2, 3],\n",
    "    [4, 5, 6],\n",
    "    [7, 8, 9]\n",
    "])\n",
    "\n",
    "rotate_right(matrix) == np.array([\n",
    "    [7, 4, 1],\n",
    "    [8, 5, 2],\n",
    "    [9, 6, 3]\n",
    "])"
   ]
  },
  {
   "cell_type": "code",
   "execution_count": 359,
   "id": "63934a55-95c4-46c7-8858-f9179b1feb33",
   "metadata": {},
   "outputs": [],
   "source": [
    "def rotate_90(matrix):\n",
    "    for sub_layer in range(len(matrix)//2):\n",
    "        for i in range(sub_layer, len(matrix) - 1 - sub_layer):\n",
    "            j, r = sub_layer, i\n",
    "            sav = matrix[j][r]\n",
    "            for _ in range(4):\n",
    "                j, r = r, len(matrix) - 1 - j\n",
    "                temp = matrix[j][r]\n",
    "                matrix[j][r] = sav\n",
    "                sav = temp\n",
    "    return matrix"
   ]
  },
  {
   "cell_type": "code",
   "execution_count": 361,
   "id": "d2fcbabb-4600-4927-b13b-fabef7a7cf65",
   "metadata": {},
   "outputs": [
    {
     "data": {
      "text/plain": [
       "array([[ True,  True,  True,  True,  True],\n",
       "       [ True,  True,  True,  True,  True],\n",
       "       [ True,  True,  True,  True,  True],\n",
       "       [ True,  True,  True,  True,  True],\n",
       "       [ True,  True,  True,  True,  True]])"
      ]
     },
     "execution_count": 361,
     "metadata": {},
     "output_type": "execute_result"
    }
   ],
   "source": [
    "n = 5\n",
    "matrix = [[f'{j}{i}' for i in range(n)] for j in range(n)]\n",
    "rotate_90(matrix) == np.array([['40', '30', '20', '10', '00'],\n",
    "       ['41', '31', '21', '11', '01'],\n",
    "       ['42', '32', '22', '12', '02'],\n",
    "       ['43', '33', '23', '13', '03'],\n",
    "       ['44', '34', '24', '14', '04']])"
   ]
  },
  {
   "cell_type": "code",
   "execution_count": null,
   "id": "f8620fc1-fd8b-4863-9bda-ce0e84775610",
   "metadata": {},
   "outputs": [],
   "source": []
  },
  {
   "cell_type": "code",
   "execution_count": null,
   "id": "df94d7ae-b9db-40b0-bcb1-67ce7b3dd737",
   "metadata": {},
   "outputs": [],
   "source": []
  }
 ],
 "metadata": {
  "kernelspec": {
   "display_name": "Python 3 (ipykernel)",
   "language": "python",
   "name": "python3"
  },
  "language_info": {
   "codemirror_mode": {
    "name": "ipython",
    "version": 3
   },
   "file_extension": ".py",
   "mimetype": "text/x-python",
   "name": "python",
   "nbconvert_exporter": "python",
   "pygments_lexer": "ipython3",
   "version": "3.11.7"
  }
 },
 "nbformat": 4,
 "nbformat_minor": 5
}
