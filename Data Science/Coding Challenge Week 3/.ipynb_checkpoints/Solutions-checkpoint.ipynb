{
 "cells": [
  {
   "cell_type": "markdown",
   "id": "e93c3082-e90b-4b6c-b83e-ead5b270fd62",
   "metadata": {},
   "source": [
    "Given an array of 2n elements in the following format { a1, a2, a3, a4, ….., an, b1, b2, b3, b4, …., bn }. The task is to shuffle the array to {a1, b1, a2, b2, a3, b3, ……, an, bn } without using extra space. \n",
    "\n",
    "Input : arr[] = { 1, 2, 9, 15 }\n",
    "Output: 1 9 2 15\n",
    "\n",
    "Input:  arr[] = { 1, 2, 3, 4, 5, 6 }\n",
    "Output: 1 4 2 5 3 6"
   ]
  },
  {
   "cell_type": "code",
   "execution_count": 1,
   "id": "1760663d-7d68-48a0-9efc-93b612118f08",
   "metadata": {},
   "outputs": [],
   "source": [
    "def shuffle(arr):\n",
    "    \"\"\"\n",
    "    we will only consider the elements around the middle point in case of odd len of array\n",
    "    \"\"\"\n",
    "    # n ranges from 1 to n as in statement\n",
    "    # Starting point of an\n",
    "    an = 0\n",
    "    if len(arr)%2:\n",
    "        # Starting point of bn for odd lengths\n",
    "        bn = len(arr)//2 + 1\n",
    "        mid_element = arr[bn - 1]\n",
    "    else:\n",
    "        # Starting point of bn\n",
    "        # for even lengths\n",
    "        bn = len(arr)//2\n",
    "    next_an = None\n",
    "    while bn < len(arr) and an < len(arr) - 1:\n",
    "        if next_an is None:\n",
    "            next_an = arr[an + 1]\n",
    "        else:\n",
    "            temp = arr[an + 1]\n",
    "            arr[an + 1] = next_an\n",
    "            next_an = temp\n",
    "            an += 1\n",
    "            bn += 1\n",
    "            if bn == len(arr):\n",
    "                # Only occurs in case of odd elements\n",
    "                arr[bn - 1] = mid_element\n",
    "                break\n",
    "        arr[an + 1] = arr[bn]\n",
    "        an += 1\n",
    "\n",
    "    return arr"
   ]
  },
  {
   "cell_type": "code",
   "execution_count": 2,
   "id": "c6963a59-f49a-43ba-88a0-7bf4219df474",
   "metadata": {},
   "outputs": [
    {
     "data": {
      "text/plain": [
       "[1, 9, 2, 15]"
      ]
     },
     "execution_count": 2,
     "metadata": {},
     "output_type": "execute_result"
    }
   ],
   "source": [
    "arr = [1, 2, 9, 15]\n",
    "shuffle(arr)"
   ]
  },
  {
   "cell_type": "code",
   "execution_count": 3,
   "id": "a8b3fe95-7a71-45ef-b642-8912fb999d39",
   "metadata": {},
   "outputs": [
    {
     "data": {
      "text/plain": [
       "[1, 4, 2, 5, 3, 6]"
      ]
     },
     "execution_count": 3,
     "metadata": {},
     "output_type": "execute_result"
    }
   ],
   "source": [
    "arr = [1, 2, 3, 4, 5, 6]\n",
    "shuffle(arr)"
   ]
  },
  {
   "cell_type": "code",
   "execution_count": 4,
   "id": "732b01a3-2eb8-4673-9b46-bc01f351e36f",
   "metadata": {},
   "outputs": [
    {
     "data": {
      "text/plain": [
       "[1, 5, 2, 6, 3, 7, 4]"
      ]
     },
     "execution_count": 4,
     "metadata": {},
     "output_type": "execute_result"
    }
   ],
   "source": [
    "arr = [1, 2, 3, 4, 5, 6, 7]\n",
    "shuffle(arr)"
   ]
  },
  {
   "cell_type": "markdown",
   "id": "48e348ae-134b-43a8-8329-9dd3ee3ec079",
   "metadata": {},
   "source": [
    "Problem 2\n",
    "Given an integer array, find a triplet having the maximum product.\n",
    "\n",
    "Test Case : 1\n",
    "\n",
    "Input: { -4, 1, -8, 9, 6 } \n",
    "Output: The triplet having the maximum product is (-8, -4, 9)\n",
    "\n",
    "Test Case  : 2\n",
    "\n",
    "Input: { 1, 7, 2, -2, 5 } \n",
    "Output: The triplet having the maximum product is (7, 5, 2)"
   ]
  },
  {
   "cell_type": "code",
   "execution_count": 5,
   "id": "60302083-6a4b-4e68-88fe-5aacad5f89d7",
   "metadata": {},
   "outputs": [],
   "source": [
    "def find_maximum_product_triplets(arr, get_other_results=False):\n",
    "    max_3 = [0, 0, 0]\n",
    "    neg_2 = [0, 0]\n",
    "    product = 1\n",
    "    # Iterating through the array, get the values of max_3 positive values, min_2 negative values\n",
    "    for j in range(len(arr)):\n",
    "        num = arr[j]\n",
    "        if num < 0:\n",
    "            for i in range(1, -1, -1):\n",
    "                if num < neg_2[i]:\n",
    "                    while i >= 0:\n",
    "                        temp = neg_2[i]\n",
    "                        neg_2[i] = num\n",
    "                        num = temp\n",
    "                        i -= 1\n",
    "        else:\n",
    "            for i in range(2, -1, -1):\n",
    "                if num > max_3[i]:\n",
    "                    while i >= 0:\n",
    "                        temp  = max_3[i]\n",
    "                        max_3[i] = num\n",
    "                        num = temp\n",
    "                        i -= 1\n",
    "    neg_2_product = neg_2[1] * neg_2[0]\n",
    "    if neg_2_product:\n",
    "        if neg_2_product > max_3[0] * max_3[1]:\n",
    "            max_product_triplets = neg_2 + max_3[-1:]\n",
    "            for num in max_product_triplets: product *= num\n",
    "    else:\n",
    "        for num in max_3: product *= num\n",
    "        max_product_triplets = max_3\n",
    "    if get_other_results:\n",
    "        return max_3, neg_2, product, max_product_triplets\n",
    "    else:\n",
    "        return max_product_triplets"
   ]
  },
  {
   "cell_type": "code",
   "execution_count": 6,
   "id": "dbb9f652-bf15-4c89-aec7-747f7d1c465b",
   "metadata": {},
   "outputs": [
    {
     "data": {
      "text/plain": [
       "[-4, -8, 9]"
      ]
     },
     "execution_count": 6,
     "metadata": {},
     "output_type": "execute_result"
    }
   ],
   "source": [
    "find_maximum_product_triplets([-4, 1, -8, 9, 6])"
   ]
  },
  {
   "cell_type": "code",
   "execution_count": 7,
   "id": "51764d3b-e7f8-40a6-a9a0-e20aebb7e1af",
   "metadata": {},
   "outputs": [
    {
     "data": {
      "text/plain": [
       "[2, 5, 7]"
      ]
     },
     "execution_count": 7,
     "metadata": {},
     "output_type": "execute_result"
    }
   ],
   "source": [
    "find_maximum_product_triplets([1, 7, 2, -2, 5])"
   ]
  },
  {
   "cell_type": "markdown",
   "id": "94dfed9e-8eef-4b82-a2fe-9d93c56bab46",
   "metadata": {},
   "source": [
    "Problem 3\n",
    "Given two sorted arrays, a[] and b[], the task is to find the median of these sorted arrays, where N is the number of elements in the first array, and M is the number of elements in the second array.\n",
    "\n",
    "Test Case  : 1\n",
    "\n",
    "Input: a[] = {-5, 3, 6, 12, 15}, b[] = {-12, -10, -6, -3, 4, 10}\n",
    "Output: The median is 3.\n",
    "\n",
    "Test Case  : 2\n",
    "\n",
    "Input: a[] = {2, 3, 5, 8}, b[] = {10, 12, 14, 16, 18, 20}\n",
    "Output: The median is 11."
   ]
  },
  {
   "cell_type": "code",
   "execution_count": 8,
   "id": "0de71fd8-4691-4235-bbdf-49d2afe861b4",
   "metadata": {},
   "outputs": [],
   "source": [
    "def find_median(arr1, arr2):\n",
    "    \"\"\"\n",
    "    Takes 2 sorted arrays as inputs and find the median of their joint\n",
    "    \"\"\"\n",
    "    # Let's take two pointer for starting element of each arr and join the lists\n",
    "    a = 0\n",
    "    b = 0\n",
    "    joined = []\n",
    "    while a != len(arr1) - 1 or b != len(arr2) - 1:\n",
    "        if a == len(arr1):\n",
    "            joined += arr2[b:]\n",
    "            break\n",
    "        elif b == len(arr2):\n",
    "            joined += arr1[a:]\n",
    "            break\n",
    "        if arr1[a] > arr2[b]:\n",
    "            joined.append(arr2[b])\n",
    "            b += 1\n",
    "        elif arr1[a] == arr2[b]:\n",
    "            joined.append(arr1[a])\n",
    "            joined.append(arr2[b])\n",
    "            a += 1\n",
    "            b += 1\n",
    "        else:\n",
    "            joined.append(arr1[a])\n",
    "            a += 1\n",
    "    if len(joined)%2:\n",
    "        return joined[len(joined)//2]\n",
    "    else:\n",
    "        return (joined[len(joined)//2 - 1] + joined[len(joined)//2])/2"
   ]
  },
  {
   "cell_type": "code",
   "execution_count": 9,
   "id": "ebfbb847-cc84-46d6-b17b-b301d495d100",
   "metadata": {},
   "outputs": [
    {
     "data": {
      "text/plain": [
       "11.0"
      ]
     },
     "execution_count": 9,
     "metadata": {},
     "output_type": "execute_result"
    }
   ],
   "source": [
    "find_median([2, 3, 5, 8], [10, 12, 14, 16, 18, 20])"
   ]
  },
  {
   "cell_type": "code",
   "execution_count": 10,
   "id": "349ff9f7-21db-40d6-a13f-a05a004eec6a",
   "metadata": {},
   "outputs": [
    {
     "data": {
      "text/plain": [
       "6"
      ]
     },
     "execution_count": 10,
     "metadata": {},
     "output_type": "execute_result"
    }
   ],
   "source": [
    "find_median([1,2,3,4,5,6], [6,7,8,9,10])"
   ]
  },
  {
   "cell_type": "code",
   "execution_count": 11,
   "id": "a3fce8db-447e-400c-a08f-cc0b25c7875c",
   "metadata": {},
   "outputs": [
    {
     "data": {
      "text/plain": [
       "3"
      ]
     },
     "execution_count": 11,
     "metadata": {},
     "output_type": "execute_result"
    }
   ],
   "source": [
    "find_median([-5, 3, 6, 12, 15],[-12, -10, -6, -3, 4, 10])"
   ]
  },
  {
   "cell_type": "markdown",
   "id": "0e06ad5a-2687-4261-a729-9d022f67ded0",
   "metadata": {},
   "source": [
    "Problem 4:\n",
    "Given an array of N non-negative integers arr[] representing an elevation map where the width of each bar is 1, compute how much water it is able to trap after rain.\n",
    "\n",
    "Test Case  :1\n",
    "\n",
    "Input: arr[] = {0,2, 0, 2,0} \n",
    "\n",
    "Output: 2"
   ]
  },
  {
   "attachments": {
    "03ab44a5-46ee-4de4-9e4e-fc6507d65a6d.png": {
     "image/png": "[encoded data removed]"
    }
   },
   "cell_type": "markdown",
   "id": "b6b86c0f-2fa9-4bed-86fd-444c487bb642",
   "metadata": {},
   "source": [
    "![1724253377-5ea65d4bfbba7875acb26a15.png](attachment:03ab44a5-46ee-4de4-9e4e-fc6507d65a6d.png)"
   ]
  },
  {
   "cell_type": "code",
   "execution_count": 1,
   "id": "c118407a-a6b5-4361-9736-cf345fd4fe0c",
   "metadata": {},
   "outputs": [],
   "source": [
    "def vol_trapped(arr):\n",
    "    def find_vol(arr, p1, p2):\n",
    "        width = p2 - p1 - 1\n",
    "        length = min(arr[p1], arr[p2])\n",
    "        diff = sum(arr[p1+1: p2])\n",
    "        return (length * width) - diff\n",
    "    def find_if_ends_max(arr):\n",
    "        first = None\n",
    "        last = None\n",
    "        max1 = None\n",
    "        max2 = None\n",
    "        vol = 0\n",
    "        for i, num in enumerate(arr):\n",
    "            if first is None and num:\n",
    "                first = i\n",
    "                last = i\n",
    "                max1 = i\n",
    "            elif num:\n",
    "                last = i\n",
    "                if num > arr[max1]:\n",
    "                    max2 = max1\n",
    "                    max1 = i\n",
    "                elif max2 is None or num > arr[max2]:\n",
    "                    max2 = i\n",
    "        if max2 < max1:\n",
    "            temp = max1\n",
    "            max1 = max2\n",
    "            max2 = temp\n",
    "        if max1 == first and max2 == last:\n",
    "            vol += find_vol(arr, first, last)\n",
    "        elif max1 == first:\n",
    "            vol += find_if_ends_max(arr[first: max2+1])\n",
    "            vol += find_if_ends_max(arr[max2:last+1])\n",
    "        elif max2 == last:\n",
    "            vol += find_if_ends_max(arr[first: max1+1])\n",
    "            vol += find_if_ends_max(arr[max1:max2+1])\n",
    "        else:\n",
    "            vol += find_if_ends_max(arr[first: max1+1])\n",
    "            vol += find_if_ends_max(arr[max1: max2+1])\n",
    "            vol += find_if_ends_max(arr[max2: last+1])\n",
    "        return vol\n",
    "    return find_if_ends_max(arr)"
   ]
  },
  {
   "cell_type": "code",
   "execution_count": 2,
   "id": "117b1ede-0d85-4e6c-bd8c-47d2efbe3b81",
   "metadata": {},
   "outputs": [
    {
     "data": {
      "text/plain": [
       "6"
      ]
     },
     "execution_count": 2,
     "metadata": {},
     "output_type": "execute_result"
    }
   ],
   "source": [
    "vol_trapped([0, 1, 0, 2, 1, 0, 1, 3, 2, 1, 2, 1, 0])"
   ]
  },
  {
   "cell_type": "markdown",
   "id": "37f9dc02-586a-4d70-b77d-72e2e677c022",
   "metadata": {},
   "source": [
    "Problem 5\n",
    "A permutation of an array of integers is an arrangement of its members into a sequence or linear order.\n",
    "\n",
    "    For example, for arr = [1,2,3], the following are all the permutations of arr: [1,2,3], [1,3,2], [2, 1, 3], [2, 3, 1], [3,1,2], [3,2,1].\n",
    "\n",
    "The next permutation of an array of integers is the next lexicographically greater permutation of its integer. More formally, if all the permutations of the array are sorted in one container according to their lexicographical order, then the next permutation of that array is the permutation that follows it in the sorted container. If such an arrangement is not possible, the array must be rearranged as the lowest possible order (i.e., sorted in ascending order).\n",
    "\n",
    "    For example, the next permutation of arr = [1,2,3] is [1,3,2].\n",
    "    Similarly, the next permutation of arr = [2,3,1] is [3,1,2].\n",
    "    While the next permutation of arr = [3,2,1] is [1,2,3] because [3,2,1] does not have a lexicographical larger rearrangement\n",
    "\n",
    "Given an array of integers nums, find the next permutation of nums.\n",
    "\n",
    "The replacement must be in place and use only constant extra memory."
   ]
  },
  {
   "cell_type": "code",
   "execution_count": null,
   "id": "236e0f98-d0ee-4c61-b75c-2e870f1ab60e",
   "metadata": {},
   "outputs": [],
   "source": []
  },
  {
   "cell_type": "markdown",
   "id": "8aa783ed-601b-494f-b4be-8c597d0f008e",
   "metadata": {},
   "source": [
    "Problem 6\n",
    "Given an m x n matrix, return all elements of the matrix in spiral order."
   ]
  },
  {
   "attachments": {
    "87748350-ed9d-47ee-9a94-18631b4b6c30.png": {
     "image/png": "[encoded data removed]"
    }
   },
   "cell_type": "markdown",
   "id": "3b9605cd-06b4-4b48-a117-fa54bcb7e03b",
   "metadata": {},
   "source": [
    "![1724253874-5ea65d4bfbba7875acb26a15.png](attachment:87748350-ed9d-47ee-9a94-18631b4b6c30.png)"
   ]
  },
  {
   "cell_type": "markdown",
   "id": "b29b9578-0aa0-487c-a6b5-e7d66c2768fc",
   "metadata": {},
   "source": [
    "Input: matrix = [[1,2,3],[4,5,6],[7,8,9]]\n",
    "\n",
    "Output: [1,2,3,6,9,8,7,4,5]"
   ]
  },
  {
   "attachments": {
    "0b36b755-9984-4cf3-86e8-7a64b2eebd5d.png": {
     "image/png": "[encoded data removed]"
    }
   },
   "cell_type": "markdown",
   "id": "f5ec14d5-8df2-4cfc-808d-4bef20768d6b",
   "metadata": {},
   "source": [
    "![1724253957-5ea65d4bfbba7875acb26a15.png](attachment:0b36b755-9984-4cf3-86e8-7a64b2eebd5d.png)"
   ]
  },
  {
   "cell_type": "markdown",
   "id": "e7a372ae-ccf2-4eed-9f9f-9f7fbe49a10b",
   "metadata": {},
   "source": [
    "Input: matrix = [[1,2,3,4],[5,6,7,8],[9,10,11,12]]\n",
    "\n",
    "Output: [1,2,3,4,8,12,11,10,9,5,6,7]"
   ]
  },
  {
   "cell_type": "code",
   "execution_count": 9,
   "id": "fbd5171f-da3e-4301-af11-bb81ef46bf65",
   "metadata": {},
   "outputs": [],
   "source": [
    "def spiral_arr_for(matrix):\n",
    "    n = len(matrix[0])  # Number of columns\n",
    "    m = len(matrix)  # Number of rows\n",
    "    arr = []  # Solution array\n",
    "    \n",
    "    col_limit = n  # Current column limit\n",
    "    row_limit = m  # Current row limit\n",
    "    r = 0  # Starting row index\n",
    "    c = 0  # Starting column index\n",
    "    \n",
    "    while r < row_limit and c < col_limit:\n",
    "        # Traverse the top row from left to right\n",
    "        for col in range(c, col_limit):\n",
    "            arr.append(matrix[r][col])\n",
    "        r += 1  # Move down to the next row\n",
    "        \n",
    "        # Traverse the rightmost column from top to bottom\n",
    "        for row in range(r, row_limit):\n",
    "            arr.append(matrix[row][col_limit - 1])\n",
    "        col_limit -= 1  # Move the column limit leftward\n",
    "        \n",
    "        # Traverse the bottom row from right to left\n",
    "        if r < row_limit:\n",
    "            for col in range(col_limit - 1, c - 1, -1):\n",
    "                arr.append(matrix[row_limit - 1][col])\n",
    "            row_limit -= 1  # Move the row limit upward\n",
    "        \n",
    "        # Traverse the leftmost column from bottom to top\n",
    "        if c < col_limit:\n",
    "            for row in range(row_limit - 1, r - 1, -1):\n",
    "                arr.append(matrix[row][c])\n",
    "            c += 1  # Move the column limit rightward\n",
    "    \n",
    "    return arr"
   ]
  },
  {
   "cell_type": "code",
   "execution_count": 10,
   "id": "6ed32b25-1623-4a2b-98ed-ac939ae60cfd",
   "metadata": {},
   "outputs": [
    {
     "data": {
      "text/plain": [
       "[1, 2, 3, 4, 8, 12, 11, 10, 9, 5, 6, 7]"
      ]
     },
     "execution_count": 10,
     "metadata": {},
     "output_type": "execute_result"
    }
   ],
   "source": [
    "spiral_arr_for([[1,2,3,4],[5,6,7,8],[9,10,11,12]])"
   ]
  },
  {
   "cell_type": "code",
   "execution_count": 11,
   "id": "f6650668-043e-45d9-b500-2a8d221a6978",
   "metadata": {},
   "outputs": [
    {
     "data": {
      "text/plain": [
       "[1, 2, 3, 6, 9, 8, 7, 4, 5]"
      ]
     },
     "execution_count": 11,
     "metadata": {},
     "output_type": "execute_result"
    }
   ],
   "source": [
    "spiral_arr_for([[1,2,3],[4,5,6],[7,8,9]])"
   ]
  },
  {
   "cell_type": "code",
   "execution_count": null,
   "id": "26c00403-3030-46a3-b617-da0faf5b21dc",
   "metadata": {},
   "outputs": [],
   "source": []
  }
 ],
 "metadata": {
  "kernelspec": {
   "display_name": "Python 3 (ipykernel)",
   "language": "python",
   "name": "python3"
  },
  "language_info": {
   "codemirror_mode": {
    "name": "ipython",
    "version": 3
   },
   "file_extension": ".py",
   "mimetype": "text/x-python",
   "name": "python",
   "nbconvert_exporter": "python",
   "pygments_lexer": "ipython3",
   "version": "3.12.5"
  }
 },
 "nbformat": 4,
 "nbformat_minor": 5
}
