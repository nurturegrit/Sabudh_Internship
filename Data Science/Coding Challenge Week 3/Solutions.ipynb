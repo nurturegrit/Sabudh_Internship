{
 "cells": [
  {
   "cell_type": "markdown",
   "id": "e93c3082-e90b-4b6c-b83e-ead5b270fd62",
   "metadata": {},
   "source": [
    "Given an array of 2n elements in the following format { a1, a2, a3, a4, ….., an, b1, b2, b3, b4, …., bn }. The task is to shuffle the array to {a1, b1, a2, b2, a3, b3, ……, an, bn } without using extra space. \n",
    "\n",
    "Input : arr[] = { 1, 2, 9, 15 }\n",
    "Output: 1 9 2 15\n",
    "\n",
    "Input:  arr[] = { 1, 2, 3, 4, 5, 6 }\n",
    "Output: 1 4 2 5 3 6"
   ]
  },
  {
   "cell_type": "code",
   "execution_count": 47,
   "id": "1760663d-7d68-48a0-9efc-93b612118f08",
   "metadata": {},
   "outputs": [],
   "source": [
    "def shuffle(arr):\n",
    "    \"\"\"\n",
    "    we will only consider the elements around the middle point in case of odd len of array\n",
    "    \"\"\"\n",
    "    # n ranges from 1 to n as in statement\n",
    "    # Starting point of an\n",
    "    an = 0\n",
    "    if len(arr)%2:\n",
    "        # Starting point of bn for odd lengths\n",
    "        bn = len(arr)//2 + 1\n",
    "        mid_element = arr[bn - 1]\n",
    "    else:\n",
    "        # Starting point of bn\n",
    "        # for even lengths\n",
    "        bn = len(arr)//2\n",
    "    next_an = None\n",
    "    while bn < len(arr) and an < len(arr) - 1:\n",
    "        if next_an is None:\n",
    "            next_an = arr[an + 1]\n",
    "        else:\n",
    "            temp = arr[an + 1]\n",
    "            arr[an + 1] = next_an\n",
    "            next_an = temp\n",
    "            an += 1\n",
    "            bn += 1\n",
    "            if bn == len(arr):\n",
    "                # Only occurs in case of odd elements\n",
    "                arr[bn - 1] = mid_element\n",
    "                break\n",
    "        arr[an + 1] = arr[bn]\n",
    "        an += 1\n",
    "\n",
    "    return arr"
   ]
  },
  {
   "cell_type": "code",
   "execution_count": 48,
   "id": "c6963a59-f49a-43ba-88a0-7bf4219df474",
   "metadata": {},
   "outputs": [
    {
     "data": {
      "text/plain": [
       "[1, 9, 2, 15]"
      ]
     },
     "execution_count": 48,
     "metadata": {},
     "output_type": "execute_result"
    }
   ],
   "source": [
    "arr = [1, 2, 9, 15]\n",
    "shuffle(arr)"
   ]
  },
  {
   "cell_type": "code",
   "execution_count": 49,
   "id": "a8b3fe95-7a71-45ef-b642-8912fb999d39",
   "metadata": {},
   "outputs": [
    {
     "data": {
      "text/plain": [
       "[1, 4, 2, 5, 3, 6]"
      ]
     },
     "execution_count": 49,
     "metadata": {},
     "output_type": "execute_result"
    }
   ],
   "source": [
    "arr = [1, 2, 3, 4, 5, 6]\n",
    "shuffle(arr)"
   ]
  },
  {
   "cell_type": "code",
   "execution_count": 50,
   "id": "732b01a3-2eb8-4673-9b46-bc01f351e36f",
   "metadata": {},
   "outputs": [
    {
     "data": {
      "text/plain": [
       "[1, 5, 2, 6, 3, 7, 4]"
      ]
     },
     "execution_count": 50,
     "metadata": {},
     "output_type": "execute_result"
    }
   ],
   "source": [
    "arr = [1, 2, 3, 4, 5, 6, 7]\n",
    "shuffle(arr)"
   ]
  },
  {
   "cell_type": "markdown",
   "id": "48e348ae-134b-43a8-8329-9dd3ee3ec079",
   "metadata": {},
   "source": [
    "Problem 2\n",
    "Given an integer array, find a triplet having the maximum product.\n",
    "\n",
    "Test Case : 1\n",
    "\n",
    "Input: { -4, 1, -8, 9, 6 } \n",
    "Output: The triplet having the maximum product is (-8, -4, 9)\n",
    "\n",
    "Test Case  : 2\n",
    "\n",
    "Input: { 1, 7, 2, -2, 5 } \n",
    "Output: The triplet having the maximum product is (7, 5, 2)"
   ]
  },
  {
   "cell_type": "code",
   "execution_count": 106,
   "id": "60302083-6a4b-4e68-88fe-5aacad5f89d7",
   "metadata": {},
   "outputs": [],
   "source": [
    "def find_maximum_product_triplets(arr, get_other_results=False):\n",
    "    max_3 = [0, 0, 0]\n",
    "    neg_2 = [0, 0]\n",
    "    product = 1\n",
    "    # Iterating through the array, get the values of max_3 positive values, min_2 negative values\n",
    "    for j in range(len(arr)):\n",
    "        num = arr[j]\n",
    "        if num < 0:\n",
    "            for i in range(1, -1, -1):\n",
    "                if num < neg_2[i]:\n",
    "                    while i >= 0:\n",
    "                        temp = neg_2[i]\n",
    "                        neg_2[i] = num\n",
    "                        num = temp\n",
    "                        i -= 1\n",
    "        else:\n",
    "            for i in range(2, -1, -1):\n",
    "                if num > max_3[i]:\n",
    "                    while i >= 0:\n",
    "                        temp  = max_3[i]\n",
    "                        max_3[i] = num\n",
    "                        num = temp\n",
    "                        i -= 1\n",
    "    neg_2_product = neg_2[1] * neg_2[0]\n",
    "    if neg_2_product:\n",
    "        if neg_2_product > max_3[0] * max_3[1]:\n",
    "            max_product_triplets = neg_2 + max_3[-1:]\n",
    "            for num in max_product_triplets: product *= num\n",
    "    else:\n",
    "        for num in max_3: product *= num\n",
    "        max_product_triplets = max_3\n",
    "    if get_other_results:\n",
    "        return max_3, neg_2, product, max_product_triplets\n",
    "    else:\n",
    "        return max_product_triplets"
   ]
  },
  {
   "cell_type": "code",
   "execution_count": 112,
   "id": "dbb9f652-bf15-4c89-aec7-747f7d1c465b",
   "metadata": {},
   "outputs": [
    {
     "data": {
      "text/plain": [
       "[-4, -8, 9]"
      ]
     },
     "execution_count": 112,
     "metadata": {},
     "output_type": "execute_result"
    }
   ],
   "source": [
    "find_maximum_product_triplets([-4, 1, -8, 9, 6])"
   ]
  },
  {
   "cell_type": "code",
   "execution_count": 113,
   "id": "51764d3b-e7f8-40a6-a9a0-e20aebb7e1af",
   "metadata": {},
   "outputs": [
    {
     "data": {
      "text/plain": [
       "[2, 5, 7]"
      ]
     },
     "execution_count": 113,
     "metadata": {},
     "output_type": "execute_result"
    }
   ],
   "source": [
    "find_maximum_product_triplets([1, 7, 2, -2, 5])"
   ]
  },
  {
   "cell_type": "markdown",
   "id": "94dfed9e-8eef-4b82-a2fe-9d93c56bab46",
   "metadata": {},
   "source": [
    "Problem 3\n",
    "Given two sorted arrays, a[] and b[], the task is to find the median of these sorted arrays, where N is the number of elements in the first array, and M is the number of elements in the second array.\n",
    "\n",
    "Test Case  : 1\n",
    "\n",
    "Input: a[] = {-5, 3, 6, 12, 15}, b[] = {-12, -10, -6, -3, 4, 10}\n",
    "Output: The median is 3.\n",
    "\n",
    "Test Case  : 2\n",
    "\n",
    "Input: a[] = {2, 3, 5, 8}, b[] = {10, 12, 14, 16, 18, 20}\n",
    "Output: The median is 11."
   ]
  },
  {
   "cell_type": "code",
   "execution_count": null,
   "id": "0de71fd8-4691-4235-bbdf-49d2afe861b4",
   "metadata": {},
   "outputs": [],
   "source": []
  }
 ],
 "metadata": {
  "kernelspec": {
   "display_name": "Python 3 (ipykernel)",
   "language": "python",
   "name": "python3"
  },
  "language_info": {
   "codemirror_mode": {
    "name": "ipython",
    "version": 3
   },
   "file_extension": ".py",
   "mimetype": "text/x-python",
   "name": "python",
   "nbconvert_exporter": "python",
   "pygments_lexer": "ipython3",
   "version": "3.11.7"
  }
 },
 "nbformat": 4,
 "nbformat_minor": 5
}
