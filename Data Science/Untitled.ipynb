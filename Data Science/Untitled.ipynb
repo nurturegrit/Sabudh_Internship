{
 "cells": [
  {
   "cell_type": "code",
   "execution_count": 1,
   "id": "9d7d13b5-2712-482b-80af-9acf5ca9eda0",
   "metadata": {},
   "outputs": [],
   "source": [
    "import pandas as pd"
   ]
  },
  {
   "cell_type": "code",
   "execution_count": 2,
   "id": "dcda19de-8193-40fe-a124-6444e4c30525",
   "metadata": {},
   "outputs": [],
   "source": [
    "df = pd.read_csv(\"day.csv\")"
   ]
  },
  {
   "cell_type": "code",
   "execution_count": 4,
   "id": "ba041d8d-f13b-4656-a282-b6d7ba740447",
   "metadata": {},
   "outputs": [
    {
     "data": {
      "text/plain": [
       "(180, 16)"
      ]
     },
     "execution_count": 4,
     "metadata": {},
     "output_type": "execute_result"
    }
   ],
   "source": [
    "df[df[\"season\"] == 1].shape"
   ]
  },
  {
   "cell_type": "code",
   "execution_count": 7,
   "id": "1cc32acd-3407-432a-bd9b-411bd79f358f",
   "metadata": {},
   "outputs": [],
   "source": [
    "df['days_old'] = (pd.to_datetime(df['dteday'],format= '%d-%m-%Y') - pd.to_datetime('01-01-2018',format= '%d-%m-%Y')).dt.days"
   ]
  },
  {
   "cell_type": "code",
   "execution_count": 8,
   "id": "b5576d4b-c222-40cc-97b0-ea3db476208a",
   "metadata": {},
   "outputs": [
    {
     "data": {
      "text/plain": [
       "instant         int64\n",
       "dteday         object\n",
       "season          int64\n",
       "yr              int64\n",
       "mnth            int64\n",
       "holiday         int64\n",
       "weekday         int64\n",
       "workingday      int64\n",
       "weathersit      int64\n",
       "temp          float64\n",
       "atemp         float64\n",
       "hum           float64\n",
       "windspeed     float64\n",
       "casual          int64\n",
       "registered      int64\n",
       "cnt             int64\n",
       "days_old        int64\n",
       "dtype: object"
      ]
     },
     "execution_count": 8,
     "metadata": {},
     "output_type": "execute_result"
    }
   ],
   "source": [
    "df.dtypes"
   ]
  },
  {
   "cell_type": "code",
   "execution_count": 9,
   "id": "77dcca09-a2c8-4d9e-9847-f12cdc07dff8",
   "metadata": {},
   "outputs": [
    {
     "data": {
      "text/plain": [
       "0    0\n",
       "1    1\n",
       "2    2\n",
       "3    3\n",
       "4    4\n",
       "Name: days_old, dtype: int64"
      ]
     },
     "execution_count": 9,
     "metadata": {},
     "output_type": "execute_result"
    }
   ],
   "source": [
    "df.days_old.head()"
   ]
  },
  {
   "cell_type": "code",
   "execution_count": 17,
   "id": "6820675f-8bb5-4550-a46b-7e23f0c37d0d",
   "metadata": {},
   "outputs": [
    {
     "data": {
      "text/plain": [
       "season  instant  dteday      yr  mnth  holiday  weekday  workingday  weathersit  temp       atemp     hum      windspeed  casual  registered  cnt   days_old\n",
       "1       1        01-01-2018  0   1     0        1        1           2           14.110847  18.18125  80.5833  10.749882  331     654         985   0           1\n",
       "        2        02-01-2018  0   1     0        2        1           2           14.902598  17.68695  69.6087  16.652113  131     670         801   1           1\n",
       "        3        03-01-2018  0   1     0        3        1           1           8.050924   9.47025   43.7273  16.636703  120     1229        1349  2           1\n",
       "        4        04-01-2018  0   1     0        4        1           1           8.200000   10.60610  59.0435  10.739832  108     1454        1562  3           1\n",
       "        5        05-01-2018  0   1     0        5        1           1           9.305237   11.46350  43.6957  12.522300  82      1518        1600  4           1\n",
       "                                                                                                                                                               ..\n",
       "4       715      16-12-2019  1   12    0        1        1           2           14.862500  18.49690  83.8750  6.749714   538     3248        3786  714         1\n",
       "        716      17-12-2019  1   12    0        2        1           2           16.126653  20.07500  90.7083  6.583306   212     4373        4585  715         1\n",
       "        717      18-12-2019  1   12    0        3        1           1           16.844153  20.48540  66.6250  14.834068  433     5124        5557  716         1\n",
       "        718      19-12-2019  1   12    0        4        1           1           13.632500  17.10810  62.5417  12.334164  333     4934        5267  717         1\n",
       "        719      20-12-2019  1   12    0        5        1           2           13.530000  16.76085  66.7917  8.875021   314     3814        4128  718         1\n",
       "Name: count, Length: 730, dtype: int64"
      ]
     },
     "execution_count": 17,
     "metadata": {},
     "output_type": "execute_result"
    }
   ],
   "source": [
    "df.groupby(\"season\").value_counts()"
   ]
  },
  {
   "cell_type": "code",
   "execution_count": 13,
   "id": "e5c316fc-1271-426d-a730-f5bbb19ac5d3",
   "metadata": {},
   "outputs": [
    {
     "data": {
      "text/plain": [
       "(730, 17)"
      ]
     },
     "execution_count": 13,
     "metadata": {},
     "output_type": "execute_result"
    }
   ],
   "source": [
    "df.shape"
   ]
  },
  {
   "cell_type": "code",
   "execution_count": null,
   "id": "1dd6a0e5-3a25-4a48-a842-3856717d061a",
   "metadata": {},
   "outputs": [],
   "source": []
  }
 ],
 "metadata": {
  "kernelspec": {
   "display_name": "Python 3 (ipykernel)",
   "language": "python",
   "name": "python3"
  },
  "language_info": {
   "codemirror_mode": {
    "name": "ipython",
    "version": 3
   },
   "file_extension": ".py",
   "mimetype": "text/x-python",
   "name": "python",
   "nbconvert_exporter": "python",
   "pygments_lexer": "ipython3",
   "version": "3.11.7"
  }
 },
 "nbformat": 4,
 "nbformat_minor": 5
}
