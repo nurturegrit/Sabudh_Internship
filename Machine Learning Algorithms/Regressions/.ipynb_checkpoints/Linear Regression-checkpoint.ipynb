{
 "cells": [
  {
   "cell_type": "markdown",
   "id": "a6f9de14-36f7-49f6-a0bf-df145a4e825f",
   "metadata": {},
   "source": [
    "## Linear Regression:\n",
    "\n",
    "* Goals:\n",
    "  * To understand the concept of Linear Regression\n",
    "  * To understand the uses of Linear Regression\n",
    "  * To implement Linear Regression in Python\n",
    "\n",
    "* Pre-requisites:\n",
    "  * Understanding of Hypothesis Testing and p-value\n",
    "  * Inferential Statistics\n",
    " \n",
    "---------------\n",
    "Hypothesis Testing in Mathematical Concepts/ Terminology"
   ]
  },
  {
   "cell_type": "code",
   "execution_count": null,
   "id": "14bae4ea-15f0-4d06-9514-3ff78e15b12e",
   "metadata": {},
   "outputs": [],
   "source": []
  }
 ],
 "metadata": {
  "kernelspec": {
   "display_name": "Python 3 (ipykernel)",
   "language": "python",
   "name": "python3"
  },
  "language_info": {
   "codemirror_mode": {
    "name": "ipython",
    "version": 3
   },
   "file_extension": ".py",
   "mimetype": "text/x-python",
   "name": "python",
   "nbconvert_exporter": "python",
   "pygments_lexer": "ipython3",
   "version": "3.11.7"
  }
 },
 "nbformat": 4,
 "nbformat_minor": 5
}
