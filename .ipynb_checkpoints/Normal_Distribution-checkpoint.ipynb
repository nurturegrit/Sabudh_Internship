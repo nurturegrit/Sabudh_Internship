{
 "cells": [
  {
   "cell_type": "markdown",
   "id": "1587335d-5e44-491e-9e5d-fb37a9c45ac4",
   "metadata": {},
   "source": [
    "## Normal Distribution:\n",
    "-  It is one of the most common distribution we encounter. Anyone who ever studied a bit of statistics or machine learning we will have heard of the normal distribution."
   ]
  },
  {
   "cell_type": "markdown",
   "id": "6b2975da-cc82-49f6-9d0b-630509f3340e",
   "metadata": {},
   "source": [
    "## Research Questions:\n",
    "- Definition of Normal Distribution\n",
    "- Relevance of Normal Distribution\n",
    "- Uses of Normal Distribution in Machine Learning"
   ]
  },
  {
   "cell_type": "markdown",
   "id": "34a92810-ffa2-4fe0-a635-66f8bb3dc14c",
   "metadata": {},
   "source": [
    "### Definition:\n",
    "-- The normal distribution, also known as the Gaussian distribution, is the most important probability distribution in statistics for independent, random variables. Most people recognize its familiar bell-shaped curve in statistical reports.\n",
    "\n",
    "-- A Normal Distribution, also known as a Gaussian Distribution, is a type of continuous probability distribution for a real-valued random variable. It is one of the most important distributions in statistics because many natural phenomena tend to follow it."
   ]
  },
  {
   "cell_type": "markdown",
   "id": "d6c5b974-6020-48e0-89f3-2724d42a40ba",
   "metadata": {},
   "source": [
    " * Random variable Definition in directory: Mathematical Concepts/Terminology/ Random Variables.\n",
    " * Probability Distribution Definition in directory: Mathematical Concepts/Terminology/ Probability Distribution."
   ]
  },
  {
   "cell_type": "markdown",
   "id": "19609eee-711e-4dc2-a05f-aed650957ec6",
   "metadata": {},
   "source": [
    "A real valued random variable refers to a continuous random variable that takes values from a set of real numbers.Real numbers include all rational and irrational numbers, which means they can represent any point on the number line, including both whole numbers and fractions.\n",
    "\n",
    "Eg: Temperature: The temperature in a city can be 25.3°C, 30.7°C, or any other real number value"
   ]
  },
  {
   "cell_type": "markdown",
   "id": "fe0ee31a-0281-4c2a-ba7a-d83eb33037cb",
   "metadata": {},
   "source": [
    "### Why is it Important?\n",
    "\n",
    "- **Central Limit Theorem**: This theorem states that the sum of a large number of random variables, regardless of the original distribution, will approximate a Normal Distribution. This is why the Normal Distribution is so prevalent in statistics.\n",
    "- **Real-world Applications**: Many natural processes and measurement errors tend to follow a Normal Distribution, making it useful in various fields such as psychology, finance, medicine, and more."
   ]
  },
  {
   "cell_type": "markdown",
   "id": "583f6079-5c2f-46b3-b911-f6c4fefb6206",
   "metadata": {},
   "source": [
    "### Key Characteristics:\n",
    "\n",
    "1. **Bell-shaped Curve**: The graph of a Normal Distribution looks like a bell. It's symmetric around the mean (average) value.\n",
    "   \n",
    "2. **Mean, Median, and Mode**: In a Normal Distribution, the mean, median, and mode are all equal and located at the center of the distribution.\n",
    "\n",
    "3. **Spread and Width**: The spread of the distribution is determined by its standard deviation (σ). A larger standard deviation means the data is more spread out, while a smaller standard deviation means the data is more clustered around the mean.\n",
    "\n",
    "4. **Empirical Rule (68-95-99.7 Rule)**:\n",
    "   - About 68% of the data falls within one standard deviation (σ) of the mean.\n",
    "   - About 95% of the data falls within two standard deviations (2σ) of the mean.\n",
    "   - About 99.7% of the data falls within three standard deviations (3σ) of the mean.\n",
    "\n",
    "### Visual Representation:\n",
    "\n",
    "Imagine you have a lot of data points, like the heights of people in a large population. If you plot the frequency of each height, you might see that most people are of average height, with fewer people being very short or very tall. When plotted, these frequencies form a bell-shaped curve:"
   ]
  },
  {
   "cell_type": "markdown",
   "id": "dc85c55c-b88b-457e-86fd-b7f29a311126",
   "metadata": {},
   "source": [
    "### Simple Example:\n",
    "\n",
    "Imagine you have a class of 100 students, and you record their scores on a test. Most students will score around the average, with fewer students scoring very high or very low. If you plot these scores, you might get a bell-shaped curve, indicating that the scores follow a Normal Distribution."
   ]
  },
  {
   "cell_type": "code",
   "execution_count": 22,
   "id": "44da9760-3269-4373-bd93-bfbfc2318933",
   "metadata": {},
   "outputs": [
    {
     "data": {
      "image/png": "[encoded data removed]",
      "text/plain": [
       "<Figure size 1000x600 with 1 Axes>"
      ]
     },
     "metadata": {},
     "output_type": "display_data"
    },
    {
     "name": "stdout",
     "output_type": "stream",
     "text": [
      "Mean score: 69.74\n",
      "Median score: 69.45\n",
      "Standard deviation: 10.11\n"
     ]
    }
   ],
   "source": [
    "import numpy as np\n",
    "import matplotlib.pyplot as plt\n",
    "\n",
    "# Parameters (students can modify these)\n",
    "num_students = 1000   # Try changing this number\n",
    "mean_score = 70       # Try adjusting this between 0 and 100\n",
    "std_dev = 10          # Try different values, like 5, 15, or 20\n",
    "\n",
    "# Generate scores using a normal distribution\n",
    "all_scores = np.random.normal(mean_score, std_dev, num_students)\n",
    "\n",
    "# Clip scores to be between 0 and 100\n",
    "all_scores = np.clip(all_scores, 0, 100)\n",
    "\n",
    "# Plot histogram\n",
    "plt.figure(figsize=(10, 6))\n",
    "plt.hist(all_scores, bins=30, edgecolor='black')\n",
    "plt.title(f'Distribution of {num_students} Student Scores')\n",
    "plt.xlabel('Score')\n",
    "plt.ylabel('Frequency')\n",
    "plt.xlim(0, 100)\n",
    "plt.show()\n",
    "\n",
    "# Print statistics\n",
    "print(f\"Mean score: {np.mean(all_scores):.2f}\")\n",
    "print(f\"Median score: {np.median(all_scores):.2f}\")\n",
    "print(f\"Standard deviation: {np.std(all_scores):.2f}\")"
   ]
  },
  {
   "cell_type": "markdown",
   "id": "61c20af0-b2ef-42e0-8e90-2958170e1f0f",
   "metadata": {},
   "source": [
    "A Normal Distribution, also known as a Gaussian distribution or \"bell curve,\" is a common pattern that appears in many natural phenomena and datasets. In our example, we're using it to model student scores, but it can apply to things like heights, weights, or even measurement errors.\n",
    "\n",
    "Key characteristics:\n",
    "\n",
    "1. Bell-shaped curve: If you run our code, you'll see the histogram forms a symmetric, bell-shaped curve. This is characteristic of a Normal Distribution.\n",
    "\n",
    "2. Mean (average): This is the center of the distribution. In our code, you can set this with `mean_score`. If you change this value, you'll see the entire curve shift left or right.\n",
    "\n",
    "3. Standard Deviation: This measures how spread out the data is. In our code, it's set by `std_dev`. A smaller standard deviation makes the bell curve taller and narrower, while a larger one makes it shorter and wider.\n",
    "\n",
    "4. Symmetry: The left and right sides of the curve are mirror images of each other.\n",
    "\n",
    "5. 68-95-99.7 rule: In a Normal Distribution:\n",
    "   - About 68% of the data falls within 1 standard deviation of the mean\n",
    "   - About 95% falls within 2 standard deviations\n",
    "   - About 99.7% falls within 3 standard deviations\n",
    "\n",
    "You can observe these properties by adjusting the parameters in our code and re-running it."
   ]
  },
  {
   "cell_type": "markdown",
   "id": "eb79e633-c213-4de3-80d5-d7759e0dcabe",
   "metadata": {},
   "source": [
    "Relevance in Machine Learning:\n",
    "\n",
    "Normal Distribution is crucial in many areas of Machine Learning:\n",
    "\n",
    "1. Data Preprocessing: Many ML algorithms assume that the data is normally distributed. If it's not, we might transform it to make it more normal.\n",
    "\n",
    "2. Feature Scaling: Techniques like standardization assume normal distribution.\n",
    "\n",
    "3. Gaussian Processes: These ML models explicitly use normal distributions.\n",
    "\n",
    "4. Anomaly Detection: Identifying data points that fall far from the mean (in terms of standard deviations) can help detect anomalies.\n",
    "\n",
    "5. Gradient Descent: The normal distribution of errors is often assumed in optimization algorithms.\n",
    "\n",
    "6. Bayesian Inference: Many Bayesian methods use normal distributions as prior or posterior distributions.\n",
    "\n",
    "7. Central Limit Theorem: This theorem, fundamental to many statistical methods in ML, states that the sampling distribution of the mean approaches a normal distribution as the sample size increases.\n",
    "\n",
    "8. Gaussian Naive Bayes: This classification algorithm assumes features are normally distributed within each class.\n",
    "\n",
    "9. Principal Component Analysis (PCA): This dimensionality reduction technique assumes the data is normally distributed along the principal components.\n",
    "\n",
    "10. Neural Networks: The initialization of weights in neural networks often uses normal distributions.\n",
    "\n",
    "By understanding Normal Distribution, you gain insight into many ML algorithms' underlying assumptions and behaviors. You can use our example code to visualize how changing parameters affects the distribution, which can help build intuition for these concepts in more complex ML scenarios."
   ]
  },
  {
   "cell_type": "markdown",
   "id": "158e4568-f386-431a-ba2e-971f8312d3a2",
   "metadata": {},
   "source": [
    "### Summary:\n",
    "\n",
    "- **Normal Distribution** is a symmetric, bell-shaped curve.\n",
    "- **Mean, median, and mode** are the same and located at the center.\n",
    "- **Standard deviation** measures the spread of the data.\n",
    "- Follows the **68-95-99.7 Rule** for data within standard deviations."
   ]
  },
  {
   "cell_type": "markdown",
   "id": "e751d0f4-19cc-4de8-be89-4fde5a6dc7dc",
   "metadata": {},
   "source": [
    "## Shortcuts to Ease Your Work:\n",
    "* Esc >> m >> b : to insert a new cell below.\n",
    "* Esc >> m : To change cell to Markdown cell\n",
    "* Esc >> y : To change cell to code cell\n",
    "* replace starting '[/' and ending '/]' with $$ to make your chatgpt markdown work"
   ]
  },
  {
   "cell_type": "code",
   "execution_count": null,
   "id": "858bf3f1-9bde-42da-9c81-cc2bce4cb1bd",
   "metadata": {},
   "outputs": [],
   "source": []
  }
 ],
 "metadata": {
  "kernelspec": {
   "display_name": "Python 3 (ipykernel)",
   "language": "python",
   "name": "python3"
  },
  "language_info": {
   "codemirror_mode": {
    "name": "ipython",
    "version": 3
   },
   "file_extension": ".py",
   "mimetype": "text/x-python",
   "name": "python",
   "nbconvert_exporter": "python",
   "pygments_lexer": "ipython3",
   "version": "3.11.7"
  }
 },
 "nbformat": 4,
 "nbformat_minor": 5
}
