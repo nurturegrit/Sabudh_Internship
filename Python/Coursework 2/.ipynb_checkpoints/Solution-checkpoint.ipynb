{
 "cells": [
  {
   "cell_type": "markdown",
   "id": "5591d13d-c3be-4925-a682-1f5c2759b114",
   "metadata": {},
   "source": [
    "## Lists"
   ]
  },
  {
   "cell_type": "code",
   "execution_count": 1,
   "id": "92ef175e-1ece-4de8-aaa4-68afb824a6bc",
   "metadata": {},
   "outputs": [],
   "source": [
    "# Input List\n",
    "array = [1,2,3,4,5]"
   ]
  },
  {
   "cell_type": "code",
   "execution_count": 2,
   "id": "5872f0a2-acef-4cca-b8b5-cdeded5cc0d1",
   "metadata": {},
   "outputs": [],
   "source": [
    "# Program to Multiply all items in a item\n",
    "def multiply_list(arr):\n",
    "    ans = 1\n",
    "    for n in arr:\n",
    "        ans *= n\n",
    "    return ans"
   ]
  },
  {
   "cell_type": "code",
   "execution_count": 3,
   "id": "d410f401-a945-4d6f-aeaa-710c5c37a97a",
   "metadata": {},
   "outputs": [
    {
     "data": {
      "text/plain": [
       "120"
      ]
     },
     "execution_count": 3,
     "metadata": {},
     "output_type": "execute_result"
    }
   ],
   "source": [
    "multiply_list(array)"
   ]
  },
  {
   "cell_type": "code",
   "execution_count": 4,
   "id": "e11d32ab-a16b-43f0-8cb2-0d4abf2ea2a2",
   "metadata": {},
   "outputs": [
    {
     "data": {
      "text/plain": [
       "5"
      ]
     },
     "execution_count": 4,
     "metadata": {},
     "output_type": "execute_result"
    }
   ],
   "source": [
    "# Program to get larget number from a list\n",
    "def max_from(arr):\n",
    "    max = arr[0]\n",
    "    for n in arr:\n",
    "        if n > max:\n",
    "            max = n\n",
    "    return max\n",
    "\n",
    "# or\n",
    "max(array)"
   ]
  },
  {
   "cell_type": "code",
   "execution_count": 5,
   "id": "a6c06773-65bf-46ae-a4d5-be18a95617b7",
   "metadata": {},
   "outputs": [
    {
     "data": {
      "text/plain": [
       "5"
      ]
     },
     "execution_count": 5,
     "metadata": {},
     "output_type": "execute_result"
    }
   ],
   "source": [
    "max_from(array)"
   ]
  },
  {
   "cell_type": "code",
   "execution_count": 6,
   "id": "ce0f0d47-5635-4cf4-9222-f564c835d496",
   "metadata": {},
   "outputs": [
    {
     "data": {
      "text/plain": [
       "1"
      ]
     },
     "execution_count": 6,
     "metadata": {},
     "output_type": "execute_result"
    }
   ],
   "source": [
    "# Program to smallest number from a list\n",
    "def min_from(arr):\n",
    "    min = arr[0]\n",
    "    for n in arr:\n",
    "        if min > n:\n",
    "            min = n\n",
    "    return min\n",
    "\n",
    "# or\n",
    "min(array)"
   ]
  },
  {
   "cell_type": "code",
   "execution_count": 7,
   "id": "673a2c9b-98be-4803-aa16-ed63bdc2e6d3",
   "metadata": {},
   "outputs": [
    {
     "data": {
      "text/plain": [
       "1"
      ]
     },
     "execution_count": 7,
     "metadata": {},
     "output_type": "execute_result"
    }
   ],
   "source": [
    "min_from(array)"
   ]
  },
  {
   "cell_type": "code",
   "execution_count": 8,
   "id": "8daa8b3b-eae1-4bef-8b3a-edbdbc01f344",
   "metadata": {},
   "outputs": [],
   "source": [
    "# Program to get a list, sorted in inc order by the last element in each tuple \n",
    "# from a given list of non-empty tuple\n",
    "\n",
    "def increasing_list_from(arr):\n",
    "    ans = []\n",
    "    for tuple in arr:\n",
    "        ans.append(tuple[-1])\n",
    "    return sorted(ans)\n",
    "\n",
    "def increasing_tuples_by_last(arr):\n",
    "    hashmap = {}\n",
    "    for tpl in arr:\n",
    "        if tpl[-1] in hashmap:\n",
    "            hashmap[tpl[-1]].append(tpl)\n",
    "        else:\n",
    "            hashmap[tpl[-1]] = [tpl]\n",
    "    ans = sorted(hashmap.keys())\n",
    "    return [tpl for idx in ans for tpl in hashmap[idx]]"
   ]
  },
  {
   "cell_type": "code",
   "execution_count": 9,
   "id": "43d1f55e-cae2-4b76-b921-4c0fbb6438f3",
   "metadata": {},
   "outputs": [
    {
     "data": {
      "text/plain": [
       "[-3, -2, -1, 0, 1, 2, 3, 4, 5, 6]"
      ]
     },
     "execution_count": 9,
     "metadata": {},
     "output_type": "execute_result"
    }
   ],
   "source": [
    "increasing_list_from([(n*2, n-3) for n in range(10)])"
   ]
  },
  {
   "cell_type": "code",
   "execution_count": 10,
   "id": "c742591a-5246-429b-9df2-f6814bdfce48",
   "metadata": {},
   "outputs": [
    {
     "data": {
      "text/plain": [
       "[(0, -3),\n",
       " (2, -2),\n",
       " (4, -1),\n",
       " (6, 0),\n",
       " (0, 0),\n",
       " (8, 1),\n",
       " (10, 2),\n",
       " (12, 3),\n",
       " (3, 3),\n",
       " (14, 4),\n",
       " (16, 5),\n",
       " (18, 6)]"
      ]
     },
     "execution_count": 10,
     "metadata": {},
     "output_type": "execute_result"
    }
   ],
   "source": [
    "increasing_tuples_by_last([(n*2, n-3) for n in range(10)] + [(0,0), (3,3)])"
   ]
  },
  {
   "cell_type": "code",
   "execution_count": 11,
   "id": "caaa39f3-db32-4aae-9dbe-887da5565100",
   "metadata": {},
   "outputs": [
    {
     "data": {
      "text/plain": [
       "[1, 2, 3, 4, 5, 7, 8]"
      ]
     },
     "execution_count": 11,
     "metadata": {},
     "output_type": "execute_result"
    }
   ],
   "source": [
    "# Program to remove duplicates in a list\n",
    "def remove_duplicates(arr):\n",
    "    arr.sort()\n",
    "    print(arr)\n",
    "    ans = [arr[0]]\n",
    "    for n in arr[1:]:\n",
    "        if n != ans[-1]:\n",
    "            ans.append(n)\n",
    "    return ans\n",
    "\n",
    "# or\n",
    "list(set(array + [2,7,3,4,8]))"
   ]
  },
  {
   "cell_type": "code",
   "execution_count": 12,
   "id": "8dd70bcb-4fa1-408d-b747-5ac81230025d",
   "metadata": {},
   "outputs": [
    {
     "name": "stdout",
     "output_type": "stream",
     "text": [
      "[1, 2, 2, 3, 3, 4, 4, 5, 7, 8]\n"
     ]
    },
    {
     "data": {
      "text/plain": [
       "[1, 2, 3, 4, 5, 7, 8]"
      ]
     },
     "execution_count": 12,
     "metadata": {},
     "output_type": "execute_result"
    }
   ],
   "source": [
    "remove_duplicates(array + [2,7,3,4,8])"
   ]
  },
  {
   "cell_type": "code",
   "execution_count": 13,
   "id": "c9c36587-1fe5-46df-ba72-ee86462338ab",
   "metadata": {},
   "outputs": [],
   "source": [
    "# Program to check if list is empty\n",
    "def is_empty(arr):\n",
    "    \"\"\"\n",
    "    Return True if List is Empty\n",
    "    else returns False\n",
    "    \"\"\"\n",
    "    return not arr"
   ]
  },
  {
   "cell_type": "code",
   "execution_count": 14,
   "id": "ba2cb746-ad83-4ecc-af97-f238925c72cf",
   "metadata": {},
   "outputs": [
    {
     "data": {
      "text/plain": [
       "False"
      ]
     },
     "execution_count": 14,
     "metadata": {},
     "output_type": "execute_result"
    }
   ],
   "source": [
    "is_empty(array)"
   ]
  },
  {
   "cell_type": "code",
   "execution_count": 15,
   "id": "7e2278d7-652b-44dc-95d7-bed3843c11ec",
   "metadata": {},
   "outputs": [],
   "source": [
    "# Program to count lowercase letter in a word\n",
    "def lower_case_words_in(s):\n",
    "    n = 0\n",
    "    for char in s:\n",
    "        if char.islower():\n",
    "            n += 1\n",
    "    return n"
   ]
  },
  {
   "cell_type": "code",
   "execution_count": 16,
   "id": "c9e85e5e-6e6c-4c60-a45c-0ee4b830ee3b",
   "metadata": {},
   "outputs": [
    {
     "data": {
      "text/plain": [
       "4"
      ]
     },
     "execution_count": 16,
     "metadata": {},
     "output_type": "execute_result"
    }
   ],
   "source": [
    "lower_case_words_in(\"Sumit\")"
   ]
  },
  {
   "cell_type": "code",
   "execution_count": 201,
   "id": "816fbe9d-3f11-4b28-bb51-772c5307ca66",
   "metadata": {},
   "outputs": [],
   "source": [
    "# Program to extract specificied numbers of elements from a given list, which follow each continiously\n",
    "def extract_continuous(arr, list_after_extraction=False):\n",
    "    \"\"\"\n",
    "    Returns the extracted elements as a list without duplicates\n",
    "    \n",
    "    if extracted_list = True:\n",
    "        Return a tuple (List_after_extraction, extracted_elements)\n",
    "    \"\"\"\n",
    "    if not arr:\n",
    "        return ([],[]) if list_after_extraction else []\n",
    "    ans = [arr[0]]\n",
    "    extracted = []\n",
    "    check = None\n",
    "    for i in range(1, len(arr)):\n",
    "        prev = arr[i - 1]\n",
    "        now = arr[i]\n",
    "        if check and now == check:\n",
    "            extracted.append(now)\n",
    "        elif prev == now:\n",
    "            if ans:\n",
    "                extracted.append(ans.pop())\n",
    "            else:\n",
    "                extracted.append(now)\n",
    "            check = now\n",
    "        else:\n",
    "            ans.append(now)\n",
    "            check = None\n",
    "    extracted = list(set(extracted))\n",
    "    if list_after_extraction:\n",
    "        return ans, extracted\n",
    "    else:\n",
    "        return extracted"
   ]
  },
  {
   "cell_type": "code",
   "execution_count": 204,
   "id": "ecd5825d-b64e-4843-8139-37b51c5b68ca",
   "metadata": {
    "scrolled": true
   },
   "outputs": [
    {
     "data": {
      "text/plain": [
       "([3, 5, 6, 7], [1, 4])"
      ]
     },
     "execution_count": 204,
     "metadata": {},
     "output_type": "execute_result"
    }
   ],
   "source": [
    "extract_continuous([1, 1, 3, 4, 4, 5, 6, 7], list_after_extraction=True)"
   ]
  },
  {
   "cell_type": "code",
   "execution_count": 205,
   "id": "df462f66-3449-41fe-aea6-d422771f0971",
   "metadata": {},
   "outputs": [
    {
     "data": {
      "text/plain": [
       "([0, 1, 2, 3, 5, 7], [4])"
      ]
     },
     "execution_count": 205,
     "metadata": {},
     "output_type": "execute_result"
    }
   ],
   "source": [
    "extract_continuous([0, 1, 2, 3, 4, 4, 4, 4, 5, 7], list_after_extraction=True)"
   ]
  },
  {
   "cell_type": "code",
   "execution_count": 208,
   "id": "b0e1263f-142f-49cd-a78d-255133ef4dbf",
   "metadata": {},
   "outputs": [
    {
     "data": {
      "text/plain": [
       "[1, 2]"
      ]
     },
     "execution_count": 208,
     "metadata": {},
     "output_type": "execute_result"
    }
   ],
   "source": [
    "extract_continuous([1,1,2,2,3])"
   ]
  },
  {
   "cell_type": "code",
   "execution_count": 209,
   "id": "9511f02e-eac9-47d0-80a1-f4f95ac86a38",
   "metadata": {},
   "outputs": [],
   "source": [
    "# Program to find the largest odd number in a given list of integers\n",
    "def largest_odd(arr):\n",
    "    \"\"\"\n",
    "    Returns None if No Odd Element in list\n",
    "    \"\"\"\n",
    "    ans = None\n",
    "    for n in arr:\n",
    "        if n%2:\n",
    "            if ans is None or ans < n:\n",
    "                ans = n\n",
    "    return ans"
   ]
  },
  {
   "cell_type": "code",
   "execution_count": 210,
   "id": "c048e283-47d6-4f0c-b699-59b167dc44b4",
   "metadata": {},
   "outputs": [],
   "source": [
    "largest_odd(range(0, 10, 2))"
   ]
  },
  {
   "cell_type": "markdown",
   "id": "85aa2593-3fc0-4368-921a-1873e73d78eb",
   "metadata": {},
   "source": [
    "#### Program to print a specified list after removing the 0th, 4th and 5th elements\n",
    "○ Sample List : [A, B, C, D, E, F]\n",
    "\n",
    "○ Expected Output : [A, B, F]\n",
    "\n",
    "**There is flawed logic in Problem Statement, it is not consistent with Sample List and Expected Answer**\n",
    "\n",
    "I will me making a program according to the Probelm statement"
   ]
  },
  {
   "cell_type": "code",
   "execution_count": 211,
   "id": "af9d129c-450a-4aa4-99f4-d103be227cf7",
   "metadata": {},
   "outputs": [],
   "source": [
    "def remove_elements(arr, indx_list):\n",
    "    \"\"\"\n",
    "    indx_list : takes a list of indices to remove from arr\n",
    "    Returns a array after removing index position \n",
    "    specified in indx_list parameter\n",
    "    \"\"\"\n",
    "    if not arr or not indx_list:\n",
    "        return arr\n",
    "    ans = []\n",
    "    indx_list.sort()\n",
    "    start = 0\n",
    "    end = len(arr)\n",
    "    for idx in indx_list:\n",
    "        if idx >= end:\n",
    "            break\n",
    "        ans.extend(arr[start:idx])\n",
    "        start = idx+1\n",
    "    ans.extend(arr[start:end])\n",
    "    return ans"
   ]
  },
  {
   "cell_type": "code",
   "execution_count": 212,
   "id": "818c44ee-1ae6-403e-8d2c-cc5ab514fc7d",
   "metadata": {},
   "outputs": [
    {
     "data": {
      "text/plain": [
       "['B', 'C', 'D']"
      ]
     },
     "execution_count": 212,
     "metadata": {},
     "output_type": "execute_result"
    }
   ],
   "source": [
    "remove_elements(['A', 'B', 'C', 'D', 'E', 'F'], [0, 4, 5])"
   ]
  },
  {
   "cell_type": "markdown",
   "id": "ba890e8a-a929-4fd9-92b9-156dad131eaf",
   "metadata": {},
   "source": [
    "## Tuples"
   ]
  },
  {
   "cell_type": "code",
   "execution_count": 213,
   "id": "82b08fb7-6ea0-4820-94a9-67be2d138386",
   "metadata": {},
   "outputs": [],
   "source": [
    "# Program to create a tuple with different data types\n",
    "t = (1, \"two\", 3.0, False, [\"Five\"], {\"Six\": 6}, {7})"
   ]
  },
  {
   "cell_type": "code",
   "execution_count": 214,
   "id": "e86b54d4-d25f-4361-8203-404907824a8f",
   "metadata": {},
   "outputs": [
    {
     "data": {
      "text/plain": [
       "[int, str, float, bool, list, dict, set]"
      ]
     },
     "execution_count": 214,
     "metadata": {},
     "output_type": "execute_result"
    }
   ],
   "source": [
    "[type(element) for element in t]"
   ]
  },
  {
   "cell_type": "code",
   "execution_count": 215,
   "id": "73d0b11e-61fb-4cbc-ba1d-0072deb9bc3f",
   "metadata": {},
   "outputs": [],
   "source": [
    "# program to create a tuple of numbers and print one item\n",
    "def tuple_num(start=0, end=10, step=1, array=None):\n",
    "    \"\"\"\n",
    "    start : start of the tuple\n",
    "    end: end of tuple (exclusive)\n",
    "    step: step for each succesive value in tuple\n",
    "    array : input iterable to tuple\n",
    "    \"\"\"\n",
    "    if array:\n",
    "        return tuple(array)\n",
    "    if start == end:\n",
    "        return (start,)\n",
    "    return tuple(n for n in range(start, end , step))"
   ]
  },
  {
   "cell_type": "code",
   "execution_count": 216,
   "id": "b4866c6a-236f-40d9-b915-4db35732fcdf",
   "metadata": {},
   "outputs": [
    {
     "data": {
      "text/plain": [
       "(1,)"
      ]
     },
     "execution_count": 216,
     "metadata": {},
     "output_type": "execute_result"
    }
   ],
   "source": [
    "tuple_num(1, 1, 1)"
   ]
  },
  {
   "cell_type": "code",
   "execution_count": 217,
   "id": "b68cb7f4-3369-4b38-8156-d3a594aa618c",
   "metadata": {},
   "outputs": [],
   "source": [
    "# Program to add an item to a tuple\n",
    "def add_to_tuple(t, item):\n",
    "    \"\"\"\n",
    "    t : tuple\n",
    "    item: to concate\n",
    "    \"\"\"\n",
    "    return t + (item,)"
   ]
  },
  {
   "cell_type": "code",
   "execution_count": 218,
   "id": "388f260c-7e9e-475f-8127-101777d0e4d2",
   "metadata": {},
   "outputs": [
    {
     "data": {
      "text/plain": [
       "(10, 20, 30)"
      ]
     },
     "execution_count": 218,
     "metadata": {},
     "output_type": "execute_result"
    }
   ],
   "source": [
    "add_to_tuple((10,20), 30)"
   ]
  },
  {
   "cell_type": "code",
   "execution_count": 219,
   "id": "dc4cfdd6-75e7-43aa-8190-98721c6fb04f",
   "metadata": {},
   "outputs": [],
   "source": [
    "# Program to get the 4th element from the last element of a Tuple\n",
    "def last_from_tuple(t, last=1):\n",
    "    \"\"\"\n",
    "    t : tuple\n",
    "    last : position from the last i.e. right end of tuple\n",
    "           default is 1, that is last element of tuple\n",
    "    Returns None when len(tuple) < last\n",
    "    \"\"\"\n",
    "    if last > len(t):\n",
    "        return None\n",
    "    return t[-last]"
   ]
  },
  {
   "cell_type": "code",
   "execution_count": 220,
   "id": "3ebf9918-8c93-4d1f-9546-4f456a986f75",
   "metadata": {},
   "outputs": [
    {
     "data": {
      "text/plain": [
       "8"
      ]
     },
     "execution_count": 220,
     "metadata": {},
     "output_type": "execute_result"
    }
   ],
   "source": [
    "last_from_tuple((1, 2, 4, 8, 16, 32), 3)"
   ]
  },
  {
   "cell_type": "code",
   "execution_count": 221,
   "id": "71086fbd-05c6-4c1b-a4f3-6aa6db517dc5",
   "metadata": {},
   "outputs": [],
   "source": [
    "# program to convert a tuple to a dictionary\n",
    "def to_dict(kv_pairs):\n",
    "    \"\"\"\n",
    "    Takes tuple of Key value Pairs\n",
    "    eg : ((\"a\", 1), (\"b\", 2))\n",
    "    \"\"\"\n",
    "    try:\n",
    "        return {key:value for key,value in kv_pairs}\n",
    "    except:\n",
    "        return \"The Input should be in format :(('a', 1), ('b', 2))\"\n",
    "        "
   ]
  },
  {
   "cell_type": "code",
   "execution_count": 222,
   "id": "d0870be5-daa3-479e-848d-1024ae569289",
   "metadata": {},
   "outputs": [
    {
     "data": {
      "text/plain": [
       "{'a': 1, 'b': 2}"
      ]
     },
     "execution_count": 222,
     "metadata": {},
     "output_type": "execute_result"
    }
   ],
   "source": [
    "to_dict(((\"a\", 1), (\"b\", 2)))"
   ]
  },
  {
   "cell_type": "code",
   "execution_count": 223,
   "id": "3763dcd8-24e4-4d45-9d8b-e3f17cb6edff",
   "metadata": {},
   "outputs": [],
   "source": [
    "# program to replace the last value of tuples in a list.\n",
    "def replace_last(arr, r):\n",
    "    \"\"\"\n",
    "    Takes a list of tuples\n",
    "    Replaces last element of each tuple in list with value in r param\n",
    "    \"\"\"\n",
    "    ans = []\n",
    "    for t in arr:\n",
    "        ans.append((t[:-1] + (r,)))\n",
    "    return ans"
   ]
  },
  {
   "cell_type": "code",
   "execution_count": 224,
   "id": "4582b5b1-d2ff-4557-b071-aa12f4701bc6",
   "metadata": {},
   "outputs": [
    {
     "data": {
      "text/plain": [
       "[(10, 20, 100), (40, 50, 100), (70, 80, 100)]"
      ]
     },
     "execution_count": 224,
     "metadata": {},
     "output_type": "execute_result"
    }
   ],
   "source": [
    "replace_last([(10, 20, 40), (40, 50, 60), (70, 80, 90)], 100)"
   ]
  },
  {
   "cell_type": "markdown",
   "id": "cf25a28c-bfe8-4437-82d5-7d66778c6894",
   "metadata": {},
   "source": [
    "## Dictionary"
   ]
  },
  {
   "cell_type": "code",
   "execution_count": 225,
   "id": "ff949937-93f2-4c0f-aeeb-b312236fcaaf",
   "metadata": {},
   "outputs": [],
   "source": [
    "# Python script to sort (ascending and descending) a dictionary by value\n",
    "def sort_dict(hashmap, desc=False):\n",
    "    \"\"\"\n",
    "    Returns a dict sorted by ascending order\n",
    "    desc = True for sorting in descending order\n",
    "    \"\"\"\n",
    "    return {key: hashmap[key] for key in sorted(hashmap, key=lambda x:hashmap[x], reverse=desc)}\n",
    "    # First we sort keys by vales, then we make a new dict made from that sorted keys, using input dict"
   ]
  },
  {
   "cell_type": "code",
   "execution_count": 226,
   "id": "fd85bd57-346c-40de-ac58-4e6c7e4b19a7",
   "metadata": {},
   "outputs": [
    {
     "data": {
      "text/plain": [
       "{'c': 1, 'd': 2, 'a': 3, 'b': 5}"
      ]
     },
     "execution_count": 226,
     "metadata": {},
     "output_type": "execute_result"
    }
   ],
   "source": [
    "sort_dict({'a': 3, 'b': 5, 'c': 1, 'd': 2})"
   ]
  },
  {
   "cell_type": "code",
   "execution_count": 227,
   "id": "79c5e64d-407b-42f5-8b28-183c2416f72a",
   "metadata": {},
   "outputs": [],
   "source": [
    "dictionary = {'a': 3, 'b': 5, 'c': 1, 'd': 2}"
   ]
  },
  {
   "cell_type": "code",
   "execution_count": 228,
   "id": "a7b94eb4-be91-41bd-931d-a987cda7cb11",
   "metadata": {
    "scrolled": true
   },
   "outputs": [
    {
     "name": "stdout",
     "output_type": "stream",
     "text": [
      "key: a, value: 3\n",
      "key: b, value: 5\n",
      "key: c, value: 1\n",
      "key: d, value: 2\n"
     ]
    }
   ],
   "source": [
    "# Python program to iterate over dictionaries using for loops\n",
    "for key, value in dictionary.items():\n",
    "    print(f\"key: {key}, value: {value}\")"
   ]
  },
  {
   "cell_type": "code",
   "execution_count": 229,
   "id": "a1f5e6db-839e-4869-87d8-f54a28c34569",
   "metadata": {},
   "outputs": [],
   "source": [
    "# Python script to merge two Python dictionaries\n",
    "def concate_dicts(dict1, dict2, focus=1):\n",
    "    \"\"\"\n",
    "    focus : 1 (default) Keeps the overlapping keys' value of dict1\n",
    "    change it to 2 to Keep overlapping keys' values of dict2\n",
    "    \"\"\"\n",
    "    def add_dict(dict1, dict2):\n",
    "        for key, value in dict2.items():\n",
    "            dict1[key] = value\n",
    "        return dict1\n",
    "\n",
    "    if focus==1:\n",
    "        return add_dict(dict1, dict2)\n",
    "    elif focus==2:\n",
    "        return add_dict(dict2, dict1)\n",
    "    else:\n",
    "        raise(\"Focus should be either 1 or 2\")"
   ]
  },
  {
   "cell_type": "code",
   "execution_count": 230,
   "id": "e9d661ff-886e-4217-ac21-b51a064fa585",
   "metadata": {},
   "outputs": [],
   "source": [
    "dict1 = {'a': 3, 'b': 5, 'c': 1, 'd': 2}\n",
    "dict2 = {'e': 3, 'f': 5, 'g': 1, 'a': 2}"
   ]
  },
  {
   "cell_type": "code",
   "execution_count": 231,
   "id": "c5663605-7808-4ee5-9610-09bb79d54fdd",
   "metadata": {},
   "outputs": [
    {
     "data": {
      "text/plain": [
       "{'a': 2, 'b': 5, 'c': 1, 'd': 2, 'e': 3, 'f': 5, 'g': 1}"
      ]
     },
     "execution_count": 231,
     "metadata": {},
     "output_type": "execute_result"
    }
   ],
   "source": [
    "concate_dicts(dict1, dict2, 1)"
   ]
  },
  {
   "cell_type": "code",
   "execution_count": 232,
   "id": "406a36bb-5960-470e-a545-5d4148ee8852",
   "metadata": {},
   "outputs": [
    {
     "data": {
      "text/plain": [
       "{'e': 3, 'f': 5, 'g': 1, 'a': 3, 'b': 5, 'c': 1, 'd': 2}"
      ]
     },
     "execution_count": 232,
     "metadata": {},
     "output_type": "execute_result"
    }
   ],
   "source": [
    "dict1 = {'a': 3, 'b': 5, 'c': 1, 'd': 2}\n",
    "dict2 = {'e': 3, 'f': 5, 'g': 1, 'a': 2}\n",
    "concate_dicts(dict1, dict2, 2)"
   ]
  },
  {
   "cell_type": "code",
   "execution_count": 233,
   "id": "374df332-b0d0-44ce-9eaa-e3de22b4eb1e",
   "metadata": {},
   "outputs": [],
   "source": [
    "# Python program to sum all the items in a dictionary\n",
    "def sum_dict(dict):\n",
    "    sum = 0\n",
    "    for value in dict.values():\n",
    "        sum += value\n",
    "    return sum"
   ]
  },
  {
   "cell_type": "code",
   "execution_count": 234,
   "id": "9d2b0515-2007-424e-a59b-8c239916fce6",
   "metadata": {},
   "outputs": [
    {
     "data": {
      "text/plain": [
       "11"
      ]
     },
     "execution_count": 234,
     "metadata": {},
     "output_type": "execute_result"
    }
   ],
   "source": [
    "sum_dict(dict1)"
   ]
  },
  {
   "cell_type": "code",
   "execution_count": 235,
   "id": "7153e141-9959-4a65-bb68-50ed81c41ef7",
   "metadata": {},
   "outputs": [],
   "source": [
    "# Python program to multiply all the items in a dictionary.\n",
    "def prod_dict(dict):\n",
    "    ans = 1\n",
    "    for value in dict.values():\n",
    "        ans *= value\n",
    "    return ans"
   ]
  },
  {
   "cell_type": "code",
   "execution_count": 236,
   "id": "0e0d5602-297c-49a2-a38c-65330a9809c3",
   "metadata": {},
   "outputs": [
    {
     "data": {
      "text/plain": [
       "30"
      ]
     },
     "execution_count": 236,
     "metadata": {},
     "output_type": "execute_result"
    }
   ],
   "source": [
    "prod_dict(dict1)"
   ]
  },
  {
   "cell_type": "code",
   "execution_count": 237,
   "id": "41cc900b-9ea7-4584-9eb6-c4505e135ccd",
   "metadata": {},
   "outputs": [],
   "source": [
    "# Program to sort a given dictionary by key\n",
    "def sort_bykeys(dict):\n",
    "    return {key: dict[key] for key in sorted(dict.keys())}"
   ]
  },
  {
   "cell_type": "code",
   "execution_count": 238,
   "id": "a47cff7a-0569-49a7-b386-b9f2d45d190c",
   "metadata": {},
   "outputs": [
    {
     "data": {
      "text/plain": [
       "{'a': 2, 'e': 3, 'f': 5, 'g': 1}"
      ]
     },
     "execution_count": 238,
     "metadata": {},
     "output_type": "execute_result"
    }
   ],
   "source": [
    "dict2 = {'e': 3, 'f': 5, 'g': 1, 'a': 2}\n",
    "sort_bykeys(dict2)"
   ]
  },
  {
   "cell_type": "code",
   "execution_count": 239,
   "id": "206837a9-dec5-43b1-afb4-b029183bce48",
   "metadata": {},
   "outputs": [],
   "source": [
    "# Program to remove duplicates from the dictionary\n",
    "def remove_duplicates_in_dict(dict):\n",
    "    \"\"\"\n",
    "    Removes duplicate values\n",
    "    \"\"\"\n",
    "    ans = {}\n",
    "    values = []\n",
    "    for key, value in dict.items():\n",
    "        if value not in values:\n",
    "            values.append(value)\n",
    "            ans[key] = value\n",
    "    return ans"
   ]
  },
  {
   "cell_type": "code",
   "execution_count": 240,
   "id": "afd002ee-e485-4aa8-94e5-52777bd4113e",
   "metadata": {},
   "outputs": [
    {
     "data": {
      "text/plain": [
       "{'a': 2, 'e': 3, 'f': 5, 'g': 1}"
      ]
     },
     "execution_count": 240,
     "metadata": {},
     "output_type": "execute_result"
    }
   ],
   "source": [
    "remove_duplicates_in_dict({'a': 2, 'e': 3, 'f': 5, 'g': 1, 'h': 1, 'i': 2, 'j': 3})"
   ]
  },
  {
   "cell_type": "markdown",
   "id": "b73f0622-d88a-4a2f-ab63-ac535a70b0f2",
   "metadata": {},
   "source": [
    "## Numpy"
   ]
  },
  {
   "cell_type": "code",
   "execution_count": 241,
   "id": "a696a4f0-ffb8-4195-be94-7a80ae6895bd",
   "metadata": {},
   "outputs": [],
   "source": [
    "import numpy as np"
   ]
  },
  {
   "cell_type": "markdown",
   "id": "0049470b-054d-49ca-b41c-d07e455844ce",
   "metadata": {},
   "source": [
    "### 4.1 Numpy Creation and Manipulation"
   ]
  },
  {
   "cell_type": "code",
   "execution_count": 242,
   "id": "ae8ddab2-c73b-4f41-86fa-1a1724b61ae9",
   "metadata": {},
   "outputs": [
    {
     "data": {
      "text/plain": [
       "array([50, 74, 86, 35, 18, 81, 13, 28, 26, 42])"
      ]
     },
     "execution_count": 242,
     "metadata": {},
     "output_type": "execute_result"
    }
   ],
   "source": [
    "# Create a 1D Numpy array “a” containing 10 random integers between 0 and 99.\n",
    "# I assume that numbers in between 0 and 99, do not contain 0 and 99\n",
    "a = np.random.randint(1, 99, 10)\n",
    "a"
   ]
  },
  {
   "cell_type": "code",
   "execution_count": 243,
   "id": "54c0aa0c-d240-4374-a680-edf10270ac8b",
   "metadata": {},
   "outputs": [
    {
     "data": {
      "text/plain": [
       "array([[-4, -2,  3,  7],\n",
       "       [-4,  9, -7,  8],\n",
       "       [-7,  8,  5, -1]])"
      ]
     },
     "execution_count": 243,
     "metadata": {},
     "output_type": "execute_result"
    }
   ],
   "source": [
    "# Create a 2D Numpy array “b” of shape (3, 4) containing random integers between -10 and 10.\n",
    "b = np.random.randint(-9, 10, (3,4))\n",
    "b"
   ]
  },
  {
   "cell_type": "code",
   "execution_count": 244,
   "id": "cce20be9-2177-4972-a411-000b98eec98f",
   "metadata": {},
   "outputs": [
    {
     "name": "stdout",
     "output_type": "stream",
     "text": [
      "[-4 -2  3  7 -4  9 -7  8 -7  8  5 -1]\n"
     ]
    },
    {
     "data": {
      "text/plain": [
       "array([-4, -2,  3,  7, -4,  9, -7,  8, -7,  8,  5, -1])"
      ]
     },
     "execution_count": 244,
     "metadata": {},
     "output_type": "execute_result"
    }
   ],
   "source": [
    "# Reshape “b” into a 1D Numpy array “b_flat”\n",
    "b_flat = b.reshape(-1)\n",
    "print(b_flat)\n",
    "b_flat = b.flatten()\n",
    "b_flat"
   ]
  },
  {
   "cell_type": "code",
   "execution_count": 245,
   "id": "9097cccf-8117-4aed-8dcc-6939df30c0c1",
   "metadata": {},
   "outputs": [
    {
     "data": {
      "text/plain": [
       "array([ 1, 74, 86, 35, 18, 81, 13, 28, 26, 42])"
      ]
     },
     "execution_count": 245,
     "metadata": {},
     "output_type": "execute_result"
    }
   ],
   "source": [
    "# Create a copy of “a” called “a_copy”, and set the first element of “a_copy” to -1\n",
    "a_copy = a.copy()\n",
    "a_copy[0] = 1\n",
    "a_copy"
   ]
  },
  {
   "cell_type": "code",
   "execution_count": 246,
   "id": "e2ade696-72b7-4ecb-a020-8d4850be6151",
   "metadata": {},
   "outputs": [
    {
     "data": {
      "text/plain": [
       "array([50, 74, 86, 35, 18, 81, 13, 28, 26, 42])"
      ]
     },
     "execution_count": 246,
     "metadata": {},
     "output_type": "execute_result"
    }
   ],
   "source": [
    "a"
   ]
  },
  {
   "cell_type": "code",
   "execution_count": 247,
   "id": "a3bbc731-5d6d-48b0-9cd0-87e1744572a6",
   "metadata": {},
   "outputs": [
    {
     "data": {
      "text/plain": [
       "array([50, 86, 18, 13, 26])"
      ]
     },
     "execution_count": 247,
     "metadata": {},
     "output_type": "execute_result"
    }
   ],
   "source": [
    "# Create a 1D Numpy array “c” containing every second element of “a”.\n",
    "c = a[::2]\n",
    "c"
   ]
  },
  {
   "cell_type": "markdown",
   "id": "9f37dd40-b427-4b8b-83f7-73b9a11651a6",
   "metadata": {},
   "source": [
    "### 4.2 Numpy Array Indexing and Slicing"
   ]
  },
  {
   "cell_type": "code",
   "execution_count": 248,
   "id": "9c73ca66-5604-43a1-84ba-c954151d0f56",
   "metadata": {},
   "outputs": [
    {
     "name": "stdout",
     "output_type": "stream",
     "text": [
      "86\n",
      "[-7  8  5 -1]\n",
      "[[ 3  7]\n",
      " [-7  8]]\n"
     ]
    }
   ],
   "source": [
    "# Print the third element of “a”.\n",
    "print(a[2])\n",
    "\n",
    "# Print the last element of “b”\n",
    "print(b[-1])\n",
    "\n",
    "# Print the first two rows and last two columns of “b”.\n",
    "print(b[:2, -2:])\n",
    "\n",
    "# Assign the second row of “b” to a variable called “b_row”\n",
    "b_row = b[1]\n",
    "\n",
    "# Assign the first column of “b” to a variable called “b_col\n",
    "b_col = b.T[0]"
   ]
  },
  {
   "cell_type": "markdown",
   "id": "e9d7ec80-c42b-4a0c-8542-6110dd6d477a",
   "metadata": {},
   "source": [
    "### 4.3 Numpy Array Operations"
   ]
  },
  {
   "cell_type": "code",
   "execution_count": 249,
   "id": "dc5f9f97-1ebd-48ae-ada7-b3f6aa18a008",
   "metadata": {},
   "outputs": [
    {
     "data": {
      "text/plain": [
       "(array([ 1,  2,  3,  4,  5,  6,  7,  8,  9, 10]),\n",
       " array([51, 76, 89, 39, 23, 87, 20, 36, 35, 52]),\n",
       " array([[ -8,  -4,   6,  14],\n",
       "        [ -8,  18, -14,  16],\n",
       "        [-14,  16,  10,  -2]]),\n",
       " array([[ 32,   8,  18,  98],\n",
       "        [ 32, 162,  98, 128],\n",
       "        [ 98, 128,  50,   2]]))"
      ]
     },
     "execution_count": 249,
     "metadata": {},
     "output_type": "execute_result"
    }
   ],
   "source": [
    "#Create a 1D Numpy array “d” containing the integers from 1 to 10.\n",
    "d = np.arange(1, 11)\n",
    "#Add “a” and “d” element-wise to create a new Numpy array “e”.\n",
    "e = a + d    \n",
    "#Multiply “b” by 2 to create a new Numpy array “b_double”.\n",
    "b_double = b * 2    \n",
    "#Calculate the dot product of “b” and “b_double” to create a new Numpy array “f”.\n",
    "f = b * b_double\n",
    "#Calculate the mean of “a”,” b”, and “b_double” to create a new Numpy array “g”.\n",
    "d, e, b_double, f"
   ]
  },
  {
   "cell_type": "markdown",
   "id": "6bfd3531-7861-4062-b835-735a46a65832",
   "metadata": {},
   "source": [
    "### 4.4 Numpy array aggregation"
   ]
  },
  {
   "cell_type": "code",
   "execution_count": 250,
   "id": "390a54d7-e617-4be0-a38e-cb1106cc99f5",
   "metadata": {},
   "outputs": [],
   "source": [
    "# Find the sum of every element in “a” and assign it to a variable “a_sum”.\n",
    "a_sum = np.sum(a)\n",
    "# Find the minimum element in “b” and assign it to a variable “b_min”.\n",
    "b_min = np.min(b)\n",
    "# Find the maximum element in “b_double” and assign it to a variable “b_double_max”.\n",
    "b_double_max = np.max(b_double)"
   ]
  },
  {
   "cell_type": "markdown",
   "id": "69b7ef64-4232-4ce5-9136-5c70585dddb5",
   "metadata": {},
   "source": [
    "## 5 : Pandas"
   ]
  },
  {
   "cell_type": "code",
   "execution_count": 251,
   "id": "68217690-5998-447e-8d3f-5e2fe19e79e4",
   "metadata": {},
   "outputs": [],
   "source": [
    "import pandas as pd"
   ]
  },
  {
   "cell_type": "code",
   "execution_count": 252,
   "id": "f429ad2b-d0a7-49b1-80ce-42cc080e74bf",
   "metadata": {},
   "outputs": [
    {
     "data": {
      "text/html": [
       "<div>\n",
       "<style scoped>\n",
       "    .dataframe tbody tr th:only-of-type {\n",
       "        vertical-align: middle;\n",
       "    }\n",
       "\n",
       "    .dataframe tbody tr th {\n",
       "        vertical-align: top;\n",
       "    }\n",
       "\n",
       "    .dataframe thead th {\n",
       "        text-align: right;\n",
       "    }\n",
       "</style>\n",
       "<table border=\"1\" class=\"dataframe\">\n",
       "  <thead>\n",
       "    <tr style=\"text-align: right;\">\n",
       "      <th></th>\n",
       "      <th>Car Make</th>\n",
       "      <th>Car Model</th>\n",
       "      <th>Year</th>\n",
       "      <th>Engine Size (L)</th>\n",
       "      <th>Horsepower</th>\n",
       "      <th>Torque (lb-ft)</th>\n",
       "      <th>0-60 MPH Time (seconds)</th>\n",
       "      <th>Price (in USD)</th>\n",
       "    </tr>\n",
       "  </thead>\n",
       "  <tbody>\n",
       "    <tr>\n",
       "      <th>0</th>\n",
       "      <td>Porsche</td>\n",
       "      <td>911</td>\n",
       "      <td>2022</td>\n",
       "      <td>3</td>\n",
       "      <td>379</td>\n",
       "      <td>331</td>\n",
       "      <td>4</td>\n",
       "      <td>101,200</td>\n",
       "    </tr>\n",
       "    <tr>\n",
       "      <th>1</th>\n",
       "      <td>Lamborghini</td>\n",
       "      <td>Huracan</td>\n",
       "      <td>2021</td>\n",
       "      <td>5.2</td>\n",
       "      <td>630</td>\n",
       "      <td>443</td>\n",
       "      <td>2.8</td>\n",
       "      <td>274,390</td>\n",
       "    </tr>\n",
       "    <tr>\n",
       "      <th>2</th>\n",
       "      <td>Ferrari</td>\n",
       "      <td>488 GTB</td>\n",
       "      <td>2022</td>\n",
       "      <td>3.9</td>\n",
       "      <td>661</td>\n",
       "      <td>561</td>\n",
       "      <td>3</td>\n",
       "      <td>333,750</td>\n",
       "    </tr>\n",
       "    <tr>\n",
       "      <th>3</th>\n",
       "      <td>Audi</td>\n",
       "      <td>R8</td>\n",
       "      <td>2022</td>\n",
       "      <td>5.2</td>\n",
       "      <td>562</td>\n",
       "      <td>406</td>\n",
       "      <td>3.2</td>\n",
       "      <td>142,700</td>\n",
       "    </tr>\n",
       "    <tr>\n",
       "      <th>4</th>\n",
       "      <td>McLaren</td>\n",
       "      <td>720S</td>\n",
       "      <td>2021</td>\n",
       "      <td>4</td>\n",
       "      <td>710</td>\n",
       "      <td>568</td>\n",
       "      <td>2.7</td>\n",
       "      <td>298,000</td>\n",
       "    </tr>\n",
       "  </tbody>\n",
       "</table>\n",
       "</div>"
      ],
      "text/plain": [
       "      Car Make Car Model  Year Engine Size (L) Horsepower Torque (lb-ft)  \\\n",
       "0      Porsche       911  2022               3        379            331   \n",
       "1  Lamborghini   Huracan  2021             5.2        630            443   \n",
       "2      Ferrari   488 GTB  2022             3.9        661            561   \n",
       "3         Audi        R8  2022             5.2        562            406   \n",
       "4      McLaren      720S  2021               4        710            568   \n",
       "\n",
       "  0-60 MPH Time (seconds) Price (in USD)  \n",
       "0                       4        101,200  \n",
       "1                     2.8        274,390  \n",
       "2                       3        333,750  \n",
       "3                     3.2        142,700  \n",
       "4                     2.7        298,000  "
      ]
     },
     "execution_count": 252,
     "metadata": {},
     "output_type": "execute_result"
    }
   ],
   "source": [
    "# 5.1 Load the dataset into a Pandas DataFrame and display the first 5 rows to get an idea of the data.\n",
    "sports_car_df = pd.read_csv(\"Sport car price.csv\")\n",
    "sports_car_df.head()"
   ]
  },
  {
   "cell_type": "code",
   "execution_count": 253,
   "id": "fe6dad2a-ad66-4f61-8c93-17c7296a8389",
   "metadata": {},
   "outputs": [
    {
     "data": {
      "text/plain": [
       "Car Make                    0\n",
       "Car Model                   0\n",
       "Year                        0\n",
       "Engine Size (L)            10\n",
       "Horsepower                  0\n",
       "Torque (lb-ft)              3\n",
       "0-60 MPH Time (seconds)     0\n",
       "Price (in USD)              0\n",
       "dtype: int64"
      ]
     },
     "execution_count": 253,
     "metadata": {},
     "output_type": "execute_result"
    }
   ],
   "source": [
    "sports_car_df.isna().sum()"
   ]
  },
  {
   "cell_type": "code",
   "execution_count": 254,
   "id": "ba4db573-2625-453c-a032-9a289a885122",
   "metadata": {
    "scrolled": true
   },
   "outputs": [
    {
     "data": {
      "text/plain": [
       "Car Make                   0\n",
       "Car Model                  0\n",
       "Year                       0\n",
       "Engine Size (L)            0\n",
       "Horsepower                 0\n",
       "Torque (lb-ft)             0\n",
       "0-60 MPH Time (seconds)    0\n",
       "Price (in USD)             0\n",
       "dtype: int64"
      ]
     },
     "execution_count": 254,
     "metadata": {},
     "output_type": "execute_result"
    }
   ],
   "source": [
    "sports_car_df.dropna(inplace=True)\n",
    "sports_car_df.isna().sum()"
   ]
  },
  {
   "cell_type": "code",
   "execution_count": 255,
   "id": "27058418-60c8-4fb7-a9e6-1e114ef6a761",
   "metadata": {},
   "outputs": [
    {
     "data": {
      "text/plain": [
       "288"
      ]
     },
     "execution_count": 255,
     "metadata": {},
     "output_type": "execute_result"
    }
   ],
   "source": [
    "sports_car_df.duplicated().sum()"
   ]
  },
  {
   "cell_type": "code",
   "execution_count": 256,
   "id": "77a72f6e-8903-4137-96ae-0418d421a87c",
   "metadata": {},
   "outputs": [
    {
     "data": {
      "text/plain": [
       "0"
      ]
     },
     "execution_count": 256,
     "metadata": {},
     "output_type": "execute_result"
    }
   ],
   "source": [
    "sports_car_df.drop_duplicates(inplace=True)\n",
    "sports_car_df.duplicated().sum()"
   ]
  },
  {
   "cell_type": "code",
   "execution_count": 257,
   "id": "aef155f1-3e72-44d2-9eea-0a89ac1720b7",
   "metadata": {},
   "outputs": [
    {
     "data": {
      "text/plain": [
       "Car Make                   object\n",
       "Car Model                  object\n",
       "Year                        int64\n",
       "Engine Size (L)            object\n",
       "Horsepower                 object\n",
       "Torque (lb-ft)             object\n",
       "0-60 MPH Time (seconds)    object\n",
       "Price (in USD)             object\n",
       "dtype: object"
      ]
     },
     "execution_count": 257,
     "metadata": {},
     "output_type": "execute_result"
    }
   ],
   "source": [
    "# 5.2 Use Pandas to clean the dataset by removing any missing or duplicate values, and converting any non-numeric data to numeric data where appropriate\n",
    "sports_car_df.dtypes"
   ]
  },
  {
   "cell_type": "code",
   "execution_count": 258,
   "id": "d9d15475-431d-45c6-b2e0-1215d8ebc36c",
   "metadata": {},
   "outputs": [],
   "source": [
    "# Convert Price Column into Integer\n",
    "sports_car_df[\"Price (in USD)\"] = sports_car_df[\"Price (in USD)\"].astype(str).replace(\",\", '', regex=True).astype(int)"
   ]
  },
  {
   "cell_type": "code",
   "execution_count": 259,
   "id": "ae1cb773-5d85-4f7b-9dbf-8da35e2099e3",
   "metadata": {},
   "outputs": [
    {
     "data": {
      "text/plain": [
       "0        101200\n",
       "1        274390\n",
       "2        333750\n",
       "3        142700\n",
       "4        298000\n",
       "         ...   \n",
       "999       30090\n",
       "1002    3000000\n",
       "1003    2000000\n",
       "1005    2600000\n",
       "1006    2400000\n",
       "Name: Price (in USD), Length: 707, dtype: int32"
      ]
     },
     "execution_count": 259,
     "metadata": {},
     "output_type": "execute_result"
    }
   ],
   "source": [
    "sports_car_df[\"Price (in USD)\"]"
   ]
  },
  {
   "cell_type": "code",
   "execution_count": 260,
   "id": "71b8dcc7-4825-4540-b088-777764484ae2",
   "metadata": {},
   "outputs": [
    {
     "data": {
      "text/html": [
       "<div>\n",
       "<style scoped>\n",
       "    .dataframe tbody tr th:only-of-type {\n",
       "        vertical-align: middle;\n",
       "    }\n",
       "\n",
       "    .dataframe tbody tr th {\n",
       "        vertical-align: top;\n",
       "    }\n",
       "\n",
       "    .dataframe thead th {\n",
       "        text-align: right;\n",
       "    }\n",
       "</style>\n",
       "<table border=\"1\" class=\"dataframe\">\n",
       "  <thead>\n",
       "    <tr style=\"text-align: right;\">\n",
       "      <th></th>\n",
       "      <th>Car Make</th>\n",
       "      <th>Car Model</th>\n",
       "      <th>Year</th>\n",
       "      <th>Engine Size (L)</th>\n",
       "      <th>Horsepower</th>\n",
       "      <th>Torque (lb-ft)</th>\n",
       "      <th>0-60 MPH Time (seconds)</th>\n",
       "      <th>Price (in USD)</th>\n",
       "    </tr>\n",
       "  </thead>\n",
       "  <tbody>\n",
       "    <tr>\n",
       "      <th>0</th>\n",
       "      <td>Porsche</td>\n",
       "      <td>911</td>\n",
       "      <td>2022</td>\n",
       "      <td>3</td>\n",
       "      <td>379</td>\n",
       "      <td>331</td>\n",
       "      <td>4</td>\n",
       "      <td>101200</td>\n",
       "    </tr>\n",
       "    <tr>\n",
       "      <th>1</th>\n",
       "      <td>Lamborghini</td>\n",
       "      <td>Huracan</td>\n",
       "      <td>2021</td>\n",
       "      <td>5.2</td>\n",
       "      <td>630</td>\n",
       "      <td>443</td>\n",
       "      <td>2.8</td>\n",
       "      <td>274390</td>\n",
       "    </tr>\n",
       "    <tr>\n",
       "      <th>2</th>\n",
       "      <td>Ferrari</td>\n",
       "      <td>488 GTB</td>\n",
       "      <td>2022</td>\n",
       "      <td>3.9</td>\n",
       "      <td>661</td>\n",
       "      <td>561</td>\n",
       "      <td>3</td>\n",
       "      <td>333750</td>\n",
       "    </tr>\n",
       "    <tr>\n",
       "      <th>3</th>\n",
       "      <td>Audi</td>\n",
       "      <td>R8</td>\n",
       "      <td>2022</td>\n",
       "      <td>5.2</td>\n",
       "      <td>562</td>\n",
       "      <td>406</td>\n",
       "      <td>3.2</td>\n",
       "      <td>142700</td>\n",
       "    </tr>\n",
       "    <tr>\n",
       "      <th>4</th>\n",
       "      <td>McLaren</td>\n",
       "      <td>720S</td>\n",
       "      <td>2021</td>\n",
       "      <td>4</td>\n",
       "      <td>710</td>\n",
       "      <td>568</td>\n",
       "      <td>2.7</td>\n",
       "      <td>298000</td>\n",
       "    </tr>\n",
       "  </tbody>\n",
       "</table>\n",
       "</div>"
      ],
      "text/plain": [
       "      Car Make Car Model  Year Engine Size (L) Horsepower Torque (lb-ft)  \\\n",
       "0      Porsche       911  2022               3        379            331   \n",
       "1  Lamborghini   Huracan  2021             5.2        630            443   \n",
       "2      Ferrari   488 GTB  2022             3.9        661            561   \n",
       "3         Audi        R8  2022             5.2        562            406   \n",
       "4      McLaren      720S  2021               4        710            568   \n",
       "\n",
       "  0-60 MPH Time (seconds)  Price (in USD)  \n",
       "0                       4          101200  \n",
       "1                     2.8          274390  \n",
       "2                       3          333750  \n",
       "3                     3.2          142700  \n",
       "4                     2.7          298000  "
      ]
     },
     "execution_count": 260,
     "metadata": {},
     "output_type": "execute_result"
    }
   ],
   "source": [
    "sports_car_df.head()"
   ]
  },
  {
   "cell_type": "code",
   "execution_count": 261,
   "id": "9413aa0c-267c-48b3-8462-40f9f77f799b",
   "metadata": {},
   "outputs": [
    {
     "name": "stdout",
     "output_type": "stream",
     "text": [
      "Car Make ['Porsche' 'Lamborghini' 'Ferrari' 'Audi' 'McLaren' 'BMW' 'Mercedes-Benz'\n",
      " 'Chevrolet' 'Ford' 'Nissan' 'Aston Martin' 'Bugatti' 'Dodge' 'Jaguar'\n",
      " 'Koenigsegg' 'Lexus' 'Lotus' 'Maserati' 'Alfa Romeo' 'Ariel' 'Bentley'\n",
      " 'Mercedes-AMG' 'Pagani' 'Polestar' 'Rimac' 'Acura' 'Mazda' 'Rolls-Royce'\n",
      " 'Tesla' 'Toyota' 'W Motors' 'Shelby' 'TVR' 'Subaru' 'Pininfarina' 'Kia'\n",
      " 'Alpine' 'Ultima']\n",
      "Car Model ['911' 'Huracan' '488 GTB' 'R8' '720S' 'M8' 'AMG GT' 'Corvette'\n",
      " 'Mustang Shelby GT500' 'GT-R Nismo' 'DB11' 'Chiron'\n",
      " 'Challenger SRT Hellcat' 'F-Type' 'Jesko' 'LC 500' 'Evora GT'\n",
      " 'GranTurismo' 'Boxster' 'Giulia Quadrifoglio' 'Atom' 'Continental GT'\n",
      " 'Artura' 'SLS AMG' 'Huayra' '1' 'Nevera' 'Cayman GT4' 'Aventador SVJ'\n",
      " 'SF90 Stradale' 'RS7' 'M4' 'Camaro ZL1' 'GT' '370Z Nismo' 'Taycan 4S'\n",
      " 'Urus' 'Roma' 'RS3' 'i8' 'CLS63 AMG' 'Cayman' '570S' 'AMG C63'\n",
      " 'Camaro SS' 'Mustang GT' 'Vantage' 'Panamera' 'S5' '600LT' 'M5' 'RS5'\n",
      " 'M2' 'Challenger SRT Hellcat Redeye' 'Aventador' 'C63 AMG' '370Z' 'TT RS'\n",
      " 'Corvette Stingray' 'F8 Tributo' 'Mustang Mach 1' '718 Cayman' 'NSX'\n",
      " 'MX-5 Miata' '718 Cayman GT4' 'Wraith' 'Roadster' 'Supra'\n",
      " 'Fenyr Supersport' 'SL 63 AMG' 'DBS Superleggera'\n",
      " 'Panamera Turbo S E-Hybrid' 'Portofino' 'Panamera Turbo S' 'Z4 M40i'\n",
      " 'RS 3' 'M2 CS' 'Viper' 'Cobra' 'GR Supra' 'Griffith' 'Lykan Hypersport'\n",
      " 'RS 6' 'Taycan' 'AMG C 63' 'RS 6 Avant' 'C 63 S Coupe' 'RS 7'\n",
      " 'Aventador S' 'M2 Competition' 'S63 AMG' '812 Superfast' 'R8 Spyder'\n",
      " 'AMG GT R' 'F-Type R' '4C' 'Charger SRT Hellcat' 'WRX STI'\n",
      " 'Panamera Turbo' 'RS 5 Coupe' 'SLS AMG Black Series' 'C_Two'\n",
      " 'Huayra Roadster BC' 'Battista' 'Stinger' 'Model S' 'Taycan Turbo S'\n",
      " '765LT' 'Model S Plaid' 'Challenger Hellcat Redeye' 'Evora'\n",
      " 'Challenger Hellcat' 'LC' 'Huayra BC' 'A110' 'C 63 S' 'RS 5' 'Viper ACR'\n",
      " 'RS7 Sportback' 'M4 Competition' 'Charger Hellcat' 'Jesko Absolut'\n",
      " 'Evija' 'AMG GT Black Series' '600LT Spider' 'Camaro SS 1LE' 'Speedtail'\n",
      " 'Sián' 'SLC 43' '718 Boxster' 'F8 Spider' '4C Spider' 'RS5 Coupe'\n",
      " 'C63 S Coupe' 'TT RS Coupe' 'M4 Coupe' 'RS' 'Fenyr SuperSport'\n",
      " 'Chiron Super Sport 300+' 'Senna' 'RS 7 Sportback' 'AMG C 63 S'\n",
      " 'Corvette Z06' 'AMG GT 63 S' 'Portofino M' 'SL' 'Camaro' 'Dawn'\n",
      " 'Chiron Pur Sport' 'GT Black Series' '400Z' 'RS6' 'GT 63' '918 Spyder'\n",
      " 'Continental GT Speed' 'Challenger' '911 Turbo S' 'M5 Competition'\n",
      " 'RS6 Avant' 'Z4 Roadster' 'Camaro SS Convertible' '370Z Coupe' 'GT 63 S'\n",
      " '570S Spider' 'C 63 AMG' 'Challenger R/T' 'C63 S AMG' 'AMG C43 Coupe'\n",
      " 'AMG A45' 'Ghost' 'Charger' 'Panamera GTS' 'AMG GT 4-Door Coupe' 'C63 S'\n",
      " 'MC20' 'Mustang']\n",
      "Year [2022 2021 2015 2020 2019 2017 1965 2014 2023]\n",
      "Engine Size (L) ['3' '5.2' '3.9' '4' '4.4' '6.2' '3.8' '8' '5' '3.5' '4.7' '2' '2.9' '6'\n",
      " 'Electric' '6.5' '3.7' 'Electric Motor' '2.5' '1.5 + Electric' '6.8'\n",
      " '8.4' '6.6' '7' '1.7' '3.3' '-' '6.7' '1.8' 'Electric (tri-motor)' '5.5'\n",
      " 'Electric (93 kWh)' 'Electric (100 kWh)' 'Hybrid (4.0)' '4.6' '3.6' '1.5'\n",
      " 'Hybrid' '5.7' '2.0 (Electric)' '4.0 (Hybrid)' '0' '6.4' '6.3' '2.3']\n",
      "Horsepower ['379' '630' '661' '562' '710' '617' '523' '490' '760' '600' '1500' '717'\n",
      " '296' '1280' '471' '416' '454' '300' '505' '320' '626' '671' '622' '720'\n",
      " '1914' '414' '759' '986' '591' '503' '650' '660' '350' '641' '611' '394'\n",
      " '612' '369' '603' '455' '460' '325' '349' '592' '444' '405' '797' '770'\n",
      " '332' '473' '480' '573' '380' '1600' '181' '620' '764' '624' '1000+'\n",
      " '382' '800' '715' '690' '730' '469' '365' '401' '645' '435' '500' '780'\n",
      " '750' '402' '575' '729' '789' '577' '495' '237' '310' '791' '1874' '542'\n",
      " '368' '616' '1020' '1479' '755' '1,000+' '288' '482' '1973' '1262' '1035'\n",
      " '819' '385' '647' '1200' '1578' '625' '583' '429' '563' '400' '707' '887'\n",
      " '305' '640' '255' '689' '372' '1000' '2000' '10,000' '1,500' '485'\n",
      " '1,020' '1872' '621' '1972' '1888']\n",
      "Torque (lb-ft) ['331' '443' '561' '406' '568' '553' '494' '465' '625' '481' '516' '1180'\n",
      " '656' '295' '1015' '398' '317' '384' '280' '243' '664' '531' '468' '737'\n",
      " '738' '1696' '309' '590' '479' '650' '550' '276' '626' '369' '420' '627'\n",
      " '455' '505' '560' '457' '707' '270' '354' '476' '339' '1106' '151' '605'\n",
      " '368' '723' '642' '509' '604' '507' '513' '600' '440' '708' '774' '254'\n",
      " '663' '332' '530' '470' '258' '290' '413' '1732' '376' '1050' '-'\n",
      " '10,000+' '236' '472' '1254' '848' '1300' '442' '641' '498' '350' '944'\n",
      " '268' '184' '400' '263' '7,376' '1,180' '475' '1,050' '740' '538']\n",
      "0-60 MPH Time (seconds) ['4' '2.8' '3' '3.2' '2.7' '3.1' '3.8' '3.5' '2.5' '2.4' '5.4' '4.4' '4.8'\n",
      " '4.7' '3.6' '4.1' '1.85' '4.5' '3.3' '3.9' '4.2' '3.4' '5.1' '4.3' '2.9'\n",
      " '5' '5.3' '4.9' '6.5' '3.7' '1.95' '1.9' '2.6' '2.3' '4.6' '1.98' '< 1.9'\n",
      " '2.1' '5.2' '1.8' '2.2' '6.4' '2']\n",
      "Price (in USD) [ 101200  274390  333750  142700  298000  130000  118500   59900   81000\n",
      "  212000  201495 3000000   61000   70100 2800000   92950  104450  150000\n",
      "   62000   78000   75000  225000  248000  155000 2400000  100200  517770\n",
      "  625000  117000   72800  222000   64695  500000   45690  104000  218000\n",
      "   57000  210000  148500  132000   58900  518000   56200  192500   71800\n",
      "   68000   42500   39000   46100  142100  105000   87200   52500  241000\n",
      "  103500  146000   75400   42900   78595   62750  417826  150980   30090\n",
      "   88700   67600  274280   52915  218009  159495  142086  219800   74290\n",
      "   71900  134300   26830  213195  221580  100550  330000  200000   43090\n",
      " 1700000   60500  522000   67000  212500   64000   31015  304995  190000\n",
      "  115000   59000  102100  220300  114000  239100   62500   65290  219750\n",
      "  187700  222004   71350   68900  276550   63700   44000   51720   45790\n",
      "   88550  222620   84595   77500  157500  204100  120000   69900  105950\n",
      "  204550 2700000  102900 1000000  123500 3400000   61500  507000  109000\n",
      "  228000   42000   45000  185000   56000  191000   81250  517700  242500\n",
      "   77000   76000  103200  177700  417650  115045  256500   59895  152500\n",
      "   69995  363730  183300   73795  183000   60995  207000  203825   99800\n",
      "   67150   77250   71490  150400   47820   38170  102000  393695  218750\n",
      "   40590   52720  174300   67895   62290   93050   75100   64195  211000\n",
      "  275000 2998000  573966 3500000 2500000   70000   61600   52200  100450\n",
      "  102550   76400   69000  247500   79900  119000  307820  207825  202500\n",
      "   63000   96950  358000   30000 2600000  180000  131100   82190   76950\n",
      "  132795  215500   80900   40000  209000   67500  104200  133050  196350\n",
      "  338000  218400   73000  104970  132400   71500  118795  240000  221400\n",
      "   64100   81550   62250   92000  141190   64995  126190  205000   75695\n",
      " 2750000  326050  102500   44500   51000 2300000 3600000  215000   36120\n",
      "  220000  280000  208800  229000   46200   71000  308000   80500  105900\n",
      "  180800   94000   70900   76450  198950   77950  314500  214425  104400\n",
      "  335550  141990 1550000   65000   63100  140000  325000   80190   68745\n",
      "  139990 5200000 1500000  460247  110045   77400   46815   85000  162900\n",
      "  245000   74750   70595  203500   47190  222630  208000   96250   25000\n",
      "  103800   48000   93000  131190  346300 3599000 1050000  186350  205600\n",
      "  201000  340000  101000   43000  305000  204995  243600  113000  161200\n",
      "  310000 1800000  517000  110000  300000  100000  135000   62195   28000\n",
      "  147500  250000   67800  211300  222500   43995  152995  235000  335000\n",
      "   50000   49000   98395  168000   64500   46000  147000  193000  162000\n",
      "   76700   35000  151000   83250   74700   77600  181100  329100   46610\n",
      "   74000   63995 2900000  201500  332500  198995   72000  254995   60695\n",
      "   64700   99990  150800   88800   76350  202000   96000   33000   75250\n",
      "   99000  149995   37500   38500   71450  134150  171200  321000  100500\n",
      "  195000   78100   78450 3900000 2000000  254500   27205]\n"
     ]
    }
   ],
   "source": [
    "for col in sports_car_df.columns:\n",
    "    print(col, sports_car_df[col].unique())"
   ]
  },
  {
   "cell_type": "code",
   "execution_count": 262,
   "id": "82473ba1-1f70-4977-afdd-412f98a0f92c",
   "metadata": {
    "scrolled": true
   },
   "outputs": [
    {
     "data": {
      "text/html": [
       "<div>\n",
       "<style scoped>\n",
       "    .dataframe tbody tr th:only-of-type {\n",
       "        vertical-align: middle;\n",
       "    }\n",
       "\n",
       "    .dataframe tbody tr th {\n",
       "        vertical-align: top;\n",
       "    }\n",
       "\n",
       "    .dataframe thead th {\n",
       "        text-align: right;\n",
       "    }\n",
       "</style>\n",
       "<table border=\"1\" class=\"dataframe\">\n",
       "  <thead>\n",
       "    <tr style=\"text-align: right;\">\n",
       "      <th></th>\n",
       "      <th>Car Make</th>\n",
       "      <th>Car Model</th>\n",
       "      <th>Year</th>\n",
       "      <th>Engine Size (L)</th>\n",
       "      <th>Horsepower</th>\n",
       "      <th>Torque (lb-ft)</th>\n",
       "      <th>0-60 MPH Time (seconds)</th>\n",
       "      <th>Price (in USD)</th>\n",
       "      <th>Electric</th>\n",
       "      <th>Hybrid</th>\n",
       "    </tr>\n",
       "  </thead>\n",
       "  <tbody>\n",
       "    <tr>\n",
       "      <th>26</th>\n",
       "      <td>Rimac</td>\n",
       "      <td>Nevera</td>\n",
       "      <td>2022</td>\n",
       "      <td>Electric</td>\n",
       "      <td>1914</td>\n",
       "      <td>1696</td>\n",
       "      <td>1.85</td>\n",
       "      <td>2400000</td>\n",
       "      <td>True</td>\n",
       "      <td>False</td>\n",
       "    </tr>\n",
       "    <tr>\n",
       "      <th>37</th>\n",
       "      <td>Porsche</td>\n",
       "      <td>Taycan 4S</td>\n",
       "      <td>2022</td>\n",
       "      <td>Electric Motor</td>\n",
       "      <td>562</td>\n",
       "      <td>479</td>\n",
       "      <td>3.8</td>\n",
       "      <td>104000</td>\n",
       "      <td>True</td>\n",
       "      <td>False</td>\n",
       "    </tr>\n",
       "    <tr>\n",
       "      <th>42</th>\n",
       "      <td>BMW</td>\n",
       "      <td>i8</td>\n",
       "      <td>2020</td>\n",
       "      <td>1.5 + Electric</td>\n",
       "      <td>369</td>\n",
       "      <td>420</td>\n",
       "      <td>4.2</td>\n",
       "      <td>148500</td>\n",
       "      <td>True</td>\n",
       "      <td>False</td>\n",
       "    </tr>\n",
       "    <tr>\n",
       "      <th>97</th>\n",
       "      <td>Rimac</td>\n",
       "      <td>Nevera</td>\n",
       "      <td>2022</td>\n",
       "      <td>Electric</td>\n",
       "      <td>1914</td>\n",
       "      <td>1696</td>\n",
       "      <td>1.95</td>\n",
       "      <td>2400000</td>\n",
       "      <td>True</td>\n",
       "      <td>False</td>\n",
       "    </tr>\n",
       "    <tr>\n",
       "      <th>99</th>\n",
       "      <td>Tesla</td>\n",
       "      <td>Roadster</td>\n",
       "      <td>2022</td>\n",
       "      <td>Electric</td>\n",
       "      <td>1000+</td>\n",
       "      <td>737</td>\n",
       "      <td>1.9</td>\n",
       "      <td>200000</td>\n",
       "      <td>True</td>\n",
       "      <td>False</td>\n",
       "    </tr>\n",
       "  </tbody>\n",
       "</table>\n",
       "</div>"
      ],
      "text/plain": [
       "   Car Make  Car Model  Year Engine Size (L) Horsepower Torque (lb-ft)  \\\n",
       "26    Rimac     Nevera  2022        Electric       1914           1696   \n",
       "37  Porsche  Taycan 4S  2022  Electric Motor        562            479   \n",
       "42      BMW         i8  2020  1.5 + Electric        369            420   \n",
       "97    Rimac     Nevera  2022        Electric       1914           1696   \n",
       "99    Tesla   Roadster  2022        Electric      1000+            737   \n",
       "\n",
       "   0-60 MPH Time (seconds)  Price (in USD)  Electric  Hybrid  \n",
       "26                    1.85         2400000      True   False  \n",
       "37                     3.8          104000      True   False  \n",
       "42                     4.2          148500      True   False  \n",
       "97                    1.95         2400000      True   False  \n",
       "99                     1.9          200000      True   False  "
      ]
     },
     "execution_count": 262,
     "metadata": {},
     "output_type": "execute_result"
    }
   ],
   "source": [
    "# Format Engine Size (L) Column:\n",
    "# Make a new column for Electric Cars\n",
    "sports_car_df[\"Electric\"] = sports_car_df[\"Engine Size (L)\"].apply(lambda x: True if 'Electric' in x else False)\n",
    "# MAke a new column for Hybrid cars\n",
    "sports_car_df[\"Hybrid\"] = sports_car_df[\"Engine Size (L)\"].apply(lambda x: True if 'Hybrid' in x else False)\n",
    "sports_car_df[sports_car_df[\"Electric\"] == True].head()"
   ]
  },
  {
   "cell_type": "code",
   "execution_count": 263,
   "id": "deb86471-0187-4c43-9974-9d0c199ab14f",
   "metadata": {
    "scrolled": true
   },
   "outputs": [
    {
     "data": {
      "text/html": [
       "<div>\n",
       "<style scoped>\n",
       "    .dataframe tbody tr th:only-of-type {\n",
       "        vertical-align: middle;\n",
       "    }\n",
       "\n",
       "    .dataframe tbody tr th {\n",
       "        vertical-align: top;\n",
       "    }\n",
       "\n",
       "    .dataframe thead th {\n",
       "        text-align: right;\n",
       "    }\n",
       "</style>\n",
       "<table border=\"1\" class=\"dataframe\">\n",
       "  <thead>\n",
       "    <tr style=\"text-align: right;\">\n",
       "      <th></th>\n",
       "      <th>Car Make</th>\n",
       "      <th>Car Model</th>\n",
       "      <th>Year</th>\n",
       "      <th>Engine Size (L)</th>\n",
       "      <th>Horsepower</th>\n",
       "      <th>Torque (lb-ft)</th>\n",
       "      <th>0-60 MPH Time (seconds)</th>\n",
       "      <th>Price (in USD)</th>\n",
       "      <th>Electric</th>\n",
       "      <th>Hybrid</th>\n",
       "    </tr>\n",
       "  </thead>\n",
       "  <tbody>\n",
       "    <tr>\n",
       "      <th>626</th>\n",
       "      <td>Porsche</td>\n",
       "      <td>Panamera Turbo S E-Hybrid</td>\n",
       "      <td>2021</td>\n",
       "      <td>Hybrid (4.0)</td>\n",
       "      <td>690</td>\n",
       "      <td>641</td>\n",
       "      <td>3</td>\n",
       "      <td>186350</td>\n",
       "      <td>False</td>\n",
       "      <td>True</td>\n",
       "    </tr>\n",
       "    <tr>\n",
       "      <th>732</th>\n",
       "      <td>BMW</td>\n",
       "      <td>i8</td>\n",
       "      <td>2022</td>\n",
       "      <td>Hybrid</td>\n",
       "      <td>369</td>\n",
       "      <td>184</td>\n",
       "      <td>4.2</td>\n",
       "      <td>148500</td>\n",
       "      <td>False</td>\n",
       "      <td>True</td>\n",
       "    </tr>\n",
       "    <tr>\n",
       "      <th>855</th>\n",
       "      <td>Ferrari</td>\n",
       "      <td>SF90 Stradale</td>\n",
       "      <td>2021</td>\n",
       "      <td>4.0 (Hybrid)</td>\n",
       "      <td>986</td>\n",
       "      <td>590</td>\n",
       "      <td>2.5</td>\n",
       "      <td>625000</td>\n",
       "      <td>False</td>\n",
       "      <td>True</td>\n",
       "    </tr>\n",
       "    <tr>\n",
       "      <th>967</th>\n",
       "      <td>Porsche</td>\n",
       "      <td>Panamera Turbo S E-Hybrid</td>\n",
       "      <td>2021</td>\n",
       "      <td>Hybrid</td>\n",
       "      <td>689</td>\n",
       "      <td>642</td>\n",
       "      <td>3</td>\n",
       "      <td>190000</td>\n",
       "      <td>False</td>\n",
       "      <td>True</td>\n",
       "    </tr>\n",
       "  </tbody>\n",
       "</table>\n",
       "</div>"
      ],
      "text/plain": [
       "    Car Make                  Car Model  Year Engine Size (L) Horsepower  \\\n",
       "626  Porsche  Panamera Turbo S E-Hybrid  2021    Hybrid (4.0)        690   \n",
       "732      BMW                         i8  2022          Hybrid        369   \n",
       "855  Ferrari              SF90 Stradale  2021    4.0 (Hybrid)        986   \n",
       "967  Porsche  Panamera Turbo S E-Hybrid  2021          Hybrid        689   \n",
       "\n",
       "    Torque (lb-ft) 0-60 MPH Time (seconds)  Price (in USD)  Electric  Hybrid  \n",
       "626            641                       3          186350     False    True  \n",
       "732            184                     4.2          148500     False    True  \n",
       "855            590                     2.5          625000     False    True  \n",
       "967            642                       3          190000     False    True  "
      ]
     },
     "execution_count": 263,
     "metadata": {},
     "output_type": "execute_result"
    }
   ],
   "source": [
    "sports_car_df[sports_car_df[\"Hybrid\"] == True].head()"
   ]
  },
  {
   "cell_type": "code",
   "execution_count": 264,
   "id": "5aa90835-56c4-40a4-935c-e175b77686d4",
   "metadata": {},
   "outputs": [],
   "source": [
    "# Remove hybrid and Electric from the Engine Size (L)\n",
    "sports_car_df[\"Engine Size\"] = sports_car_df[\"Engine Size (L)\"].replace(r\"[^0-9.]*\", \"\", regex=True)"
   ]
  },
  {
   "cell_type": "code",
   "execution_count": 265,
   "id": "da798353-e888-42c8-84a1-82cc6d1811fe",
   "metadata": {},
   "outputs": [],
   "source": [
    "sports_car_df.loc[608, 'Engine Size'] = None\n",
    "sports_car_df.loc[622, 'Engine Size'] = None"
   ]
  },
  {
   "cell_type": "code",
   "execution_count": 266,
   "id": "45bba0c7-31d6-4c3e-b209-16ac363e24ce",
   "metadata": {
    "scrolled": true
   },
   "outputs": [
    {
     "data": {
      "text/plain": [
       "array(['3', '5.2', '3.9', '4', '4.4', '6.2', '3.8', '8', '5', '3.5',\n",
       "       '4.7', '2', '2.9', '6', '', '6.5', '3.7', '2.5', '1.5', '6.8',\n",
       "       '8.4', '6.6', '7', '1.7', '3.3', '6.7', '1.8', '5.5', None, '4.0',\n",
       "       '4.6', '3.6', '5.7', '2.0', '0', '6.4', '6.3', '2.3'], dtype=object)"
      ]
     },
     "execution_count": 266,
     "metadata": {},
     "output_type": "execute_result"
    }
   ],
   "source": [
    "sports_car_df[\"Engine Size\"].unique()"
   ]
  },
  {
   "cell_type": "code",
   "execution_count": 267,
   "id": "eed4c725-2b36-4a3d-b9a0-e0396a38f758",
   "metadata": {
    "scrolled": true
   },
   "outputs": [
    {
     "data": {
      "text/html": [
       "<div>\n",
       "<style scoped>\n",
       "    .dataframe tbody tr th:only-of-type {\n",
       "        vertical-align: middle;\n",
       "    }\n",
       "\n",
       "    .dataframe tbody tr th {\n",
       "        vertical-align: top;\n",
       "    }\n",
       "\n",
       "    .dataframe thead th {\n",
       "        text-align: right;\n",
       "    }\n",
       "</style>\n",
       "<table border=\"1\" class=\"dataframe\">\n",
       "  <thead>\n",
       "    <tr style=\"text-align: right;\">\n",
       "      <th></th>\n",
       "      <th>Car Make</th>\n",
       "      <th>Car Model</th>\n",
       "      <th>Year</th>\n",
       "      <th>Engine Size (L)</th>\n",
       "      <th>Horsepower</th>\n",
       "      <th>Torque (lb-ft)</th>\n",
       "      <th>0-60 MPH Time (seconds)</th>\n",
       "      <th>Price (in USD)</th>\n",
       "      <th>Electric</th>\n",
       "      <th>Hybrid</th>\n",
       "    </tr>\n",
       "  </thead>\n",
       "  <tbody>\n",
       "    <tr>\n",
       "      <th>0</th>\n",
       "      <td>Porsche</td>\n",
       "      <td>911</td>\n",
       "      <td>2022</td>\n",
       "      <td>3</td>\n",
       "      <td>379</td>\n",
       "      <td>331</td>\n",
       "      <td>4</td>\n",
       "      <td>101200</td>\n",
       "      <td>False</td>\n",
       "      <td>False</td>\n",
       "    </tr>\n",
       "    <tr>\n",
       "      <th>1</th>\n",
       "      <td>Lamborghini</td>\n",
       "      <td>Huracan</td>\n",
       "      <td>2021</td>\n",
       "      <td>5.2</td>\n",
       "      <td>630</td>\n",
       "      <td>443</td>\n",
       "      <td>2.8</td>\n",
       "      <td>274390</td>\n",
       "      <td>False</td>\n",
       "      <td>False</td>\n",
       "    </tr>\n",
       "    <tr>\n",
       "      <th>2</th>\n",
       "      <td>Ferrari</td>\n",
       "      <td>488 GTB</td>\n",
       "      <td>2022</td>\n",
       "      <td>3.9</td>\n",
       "      <td>661</td>\n",
       "      <td>561</td>\n",
       "      <td>3</td>\n",
       "      <td>333750</td>\n",
       "      <td>False</td>\n",
       "      <td>False</td>\n",
       "    </tr>\n",
       "    <tr>\n",
       "      <th>3</th>\n",
       "      <td>Audi</td>\n",
       "      <td>R8</td>\n",
       "      <td>2022</td>\n",
       "      <td>5.2</td>\n",
       "      <td>562</td>\n",
       "      <td>406</td>\n",
       "      <td>3.2</td>\n",
       "      <td>142700</td>\n",
       "      <td>False</td>\n",
       "      <td>False</td>\n",
       "    </tr>\n",
       "    <tr>\n",
       "      <th>4</th>\n",
       "      <td>McLaren</td>\n",
       "      <td>720S</td>\n",
       "      <td>2021</td>\n",
       "      <td>4</td>\n",
       "      <td>710</td>\n",
       "      <td>568</td>\n",
       "      <td>2.7</td>\n",
       "      <td>298000</td>\n",
       "      <td>False</td>\n",
       "      <td>False</td>\n",
       "    </tr>\n",
       "  </tbody>\n",
       "</table>\n",
       "</div>"
      ],
      "text/plain": [
       "      Car Make Car Model  Year Engine Size (L) Horsepower Torque (lb-ft)  \\\n",
       "0      Porsche       911  2022               3        379            331   \n",
       "1  Lamborghini   Huracan  2021             5.2        630            443   \n",
       "2      Ferrari   488 GTB  2022             3.9        661            561   \n",
       "3         Audi        R8  2022             5.2        562            406   \n",
       "4      McLaren      720S  2021               4        710            568   \n",
       "\n",
       "  0-60 MPH Time (seconds)  Price (in USD)  Electric  Hybrid  \n",
       "0                       4          101200     False   False  \n",
       "1                     2.8          274390     False   False  \n",
       "2                       3          333750     False   False  \n",
       "3                     3.2          142700     False   False  \n",
       "4                     2.7          298000     False   False  "
      ]
     },
     "execution_count": 267,
     "metadata": {},
     "output_type": "execute_result"
    }
   ],
   "source": [
    "# Swap Engine Size (L) and Engine Size and drop Engine Size\n",
    "sports_car_df[\"Engine Size (L)\"] = sports_car_df[\"Engine Size\"]\n",
    "sports_car_df.drop(\"Engine Size\", axis=1, inplace = True)\n",
    "sports_car_df.head()"
   ]
  },
  {
   "cell_type": "code",
   "execution_count": 268,
   "id": "b5a79c67-c1ae-4f50-a214-68338fe67a3e",
   "metadata": {
    "scrolled": true
   },
   "outputs": [
    {
     "data": {
      "text/plain": [
       "array(['331', '443', '561', '406', '568', '553', '494', '465', '625',\n",
       "       '481', '516', '1180', '656', '295', '1015', '398', '317', '384',\n",
       "       '280', '243', '664', '531', '468', '737', '738', '1696', '309',\n",
       "       '590', '479', '650', '550', '276', '626', '369', '420', '627',\n",
       "       '455', '505', '560', '457', '707', '270', '354', '476', '339',\n",
       "       '1106', '151', '605', '368', '723', '642', '509', '604', '507',\n",
       "       '513', '600', '440', '708', '774', '254', '663', '332', '530',\n",
       "       '470', '258', '290', '413', '1732', '376', '1050', '-', '10,000+',\n",
       "       '236', '472', '1254', '848', '1300', '442', '641', '498', '350',\n",
       "       '944', '268', '184', '400', '263', '7,376', '1,180', '475',\n",
       "       '1,050', '740', '538'], dtype=object)"
      ]
     },
     "execution_count": 268,
     "metadata": {},
     "output_type": "execute_result"
    }
   ],
   "source": [
    "sports_car_df[\"Torque (lb-ft)\"].unique()"
   ]
  },
  {
   "cell_type": "code",
   "execution_count": 269,
   "id": "4b40a017-cdf8-4f59-baf7-aed1394e6a05",
   "metadata": {
    "scrolled": true
   },
   "outputs": [
    {
     "data": {
      "text/plain": [
       "array(['331', '443', '561', '406', '568', '553', '494', '465', '625',\n",
       "       '481', '516', '1180', '656', '295', '1015', '398', '317', '384',\n",
       "       '280', '243', '664', '531', '468', '737', '738', '1696', '309',\n",
       "       '590', '479', '650', '550', '276', '626', '369', '420', '627',\n",
       "       '455', '505', '560', '457', '707', '270', '354', '476', '339',\n",
       "       '1106', '151', '605', '368', '723', '642', '509', '604', '507',\n",
       "       '513', '600', '440', '708', '774', '254', '663', '332', '530',\n",
       "       '470', '258', '290', '413', '1732', '376', '1050', '', '10000',\n",
       "       '236', '472', '1254', '848', '1300', '442', '641', '498', '350',\n",
       "       '944', '268', '184', '400', '263', '7376', '475', '740', '538'],\n",
       "      dtype=object)"
      ]
     },
     "execution_count": 269,
     "metadata": {},
     "output_type": "execute_result"
    }
   ],
   "source": [
    "sports_car_df[\"Torque (lb-ft)\"] = sports_car_df[\"Torque (lb-ft)\"].replace(\"[\\,+-]\", '', regex=True)\n",
    "sports_car_df[\"Torque (lb-ft)\"].unique()"
   ]
  },
  {
   "cell_type": "code",
   "execution_count": 270,
   "id": "8cb9247e-3972-4c92-9567-6153013a787b",
   "metadata": {
    "scrolled": true
   },
   "outputs": [
    {
     "data": {
      "text/plain": [
       "array(['379', '630', '661', '562', '710', '617', '523', '490', '760',\n",
       "       '600', '1500', '717', '296', '1280', '471', '416', '454', '300',\n",
       "       '505', '320', '626', '671', '622', '720', '1914', '414', '759',\n",
       "       '986', '591', '503', '650', '660', '350', '641', '611', '394',\n",
       "       '612', '369', '603', '455', '460', '325', '349', '592', '444',\n",
       "       '405', '797', '770', '332', '473', '480', '573', '380', '1600',\n",
       "       '181', '620', '764', '624', '1000+', '382', '800', '715', '690',\n",
       "       '730', '469', '365', '401', '645', '435', '500', '780', '750',\n",
       "       '402', '575', '729', '789', '577', '495', '237', '310', '791',\n",
       "       '1874', '542', '368', '616', '1020', '1479', '755', '1,000+',\n",
       "       '288', '482', '1973', '1262', '1035', '819', '385', '647', '1200',\n",
       "       '1578', '625', '583', '429', '563', '400', '707', '887', '305',\n",
       "       '640', '255', '689', '372', '1000', '2000', '10,000', '1,500',\n",
       "       '485', '1,020', '1872', '621', '1972', '1888'], dtype=object)"
      ]
     },
     "execution_count": 270,
     "metadata": {},
     "output_type": "execute_result"
    }
   ],
   "source": [
    "sports_car_df[\"Horsepower\"].unique()"
   ]
  },
  {
   "cell_type": "code",
   "execution_count": 271,
   "id": "5f09ba42-ba7c-4106-9681-11b2eaed2a19",
   "metadata": {},
   "outputs": [],
   "source": [
    "sports_car_df[\"Horsepower\"] = sports_car_df[\"Horsepower\"].replace(\"[/,+-]\", '', regex=True)"
   ]
  },
  {
   "cell_type": "code",
   "execution_count": 272,
   "id": "17a79696-8f55-47f0-a05e-bcf7a7be9920",
   "metadata": {
    "scrolled": true
   },
   "outputs": [
    {
     "data": {
      "text/plain": [
       "array(['379', '630', '661', '562', '710', '617', '523', '490', '760',\n",
       "       '600', '1500', '717', '296', '1280', '471', '416', '454', '300',\n",
       "       '505', '320', '626', '671', '622', '720', '1914', '414', '759',\n",
       "       '986', '591', '503', '650', '660', '350', '641', '611', '394',\n",
       "       '612', '369', '603', '455', '460', '325', '349', '592', '444',\n",
       "       '405', '797', '770', '332', '473', '480', '573', '380', '1600',\n",
       "       '181', '620', '764', '624', '1000', '382', '800', '715', '690',\n",
       "       '730', '469', '365', '401', '645', '435', '500', '780', '750',\n",
       "       '402', '575', '729', '789', '577', '495', '237', '310', '791',\n",
       "       '1874', '542', '368', '616', '1020', '1479', '755', '288', '482',\n",
       "       '1973', '1262', '1035', '819', '385', '647', '1200', '1578', '625',\n",
       "       '583', '429', '563', '400', '707', '887', '305', '640', '255',\n",
       "       '689', '372', '2000', '10000', '485', '1872', '621', '1972',\n",
       "       '1888'], dtype=object)"
      ]
     },
     "execution_count": 272,
     "metadata": {},
     "output_type": "execute_result"
    }
   ],
   "source": [
    "sports_car_df[\"Horsepower\"].unique()"
   ]
  },
  {
   "cell_type": "code",
   "execution_count": 273,
   "id": "e012473a-d569-4ba3-bf62-7986044ef39f",
   "metadata": {},
   "outputs": [
    {
     "data": {
      "text/plain": [
       "array(['4', '2.8', '3', '3.2', '2.7', '3.1', '3.8', '3.5', '2.5', '2.4',\n",
       "       '5.4', '4.4', '4.8', '4.7', '3.6', '4.1', '1.85', '4.5', '3.3',\n",
       "       '3.9', '4.2', '3.4', '5.1', '4.3', '2.9', '5', '5.3', '4.9', '6.5',\n",
       "       '3.7', '1.95', '1.9', '2.6', '2.3', '4.6', '1.98', '< 1.9', '2.1',\n",
       "       '5.2', '1.8', '2.2', '6.4', '2'], dtype=object)"
      ]
     },
     "execution_count": 273,
     "metadata": {},
     "output_type": "execute_result"
    }
   ],
   "source": [
    "sports_car_df[\"0-60 MPH Time (seconds)\"].unique()"
   ]
  },
  {
   "cell_type": "code",
   "execution_count": 274,
   "id": "ed6b9eb8-1d0c-4c2b-8205-aea5a14c5a4f",
   "metadata": {},
   "outputs": [],
   "source": [
    "sports_car_df[\"0-60 MPH Time (seconds)\"] = sports_car_df[\"0-60 MPH Time (seconds)\"].replace(\"[^0-9.]\", \"\", regex=True)"
   ]
  },
  {
   "cell_type": "code",
   "execution_count": 275,
   "id": "f453a5ed-8516-4e1b-bdd8-031e025a18dd",
   "metadata": {},
   "outputs": [
    {
     "data": {
      "text/plain": [
       "array(['4', '2.8', '3', '3.2', '2.7', '3.1', '3.8', '3.5', '2.5', '2.4',\n",
       "       '5.4', '4.4', '4.8', '4.7', '3.6', '4.1', '1.85', '4.5', '3.3',\n",
       "       '3.9', '4.2', '3.4', '5.1', '4.3', '2.9', '5', '5.3', '4.9', '6.5',\n",
       "       '3.7', '1.95', '1.9', '2.6', '2.3', '4.6', '1.98', '2.1', '5.2',\n",
       "       '1.8', '2.2', '6.4', '2'], dtype=object)"
      ]
     },
     "execution_count": 275,
     "metadata": {},
     "output_type": "execute_result"
    }
   ],
   "source": [
    "sports_car_df[\"0-60 MPH Time (seconds)\"].unique()"
   ]
  },
  {
   "cell_type": "code",
   "execution_count": 276,
   "id": "aedb85a4-99f9-4319-af86-a97e77ec5dd4",
   "metadata": {
    "scrolled": true
   },
   "outputs": [
    {
     "data": {
      "text/plain": [
       "Car Make                    0\n",
       "Car Model                   0\n",
       "Year                        0\n",
       "Engine Size (L)            38\n",
       "Horsepower                  0\n",
       "Torque (lb-ft)              1\n",
       "0-60 MPH Time (seconds)     0\n",
       "Price (in USD)              0\n",
       "Electric                    0\n",
       "Hybrid                      0\n",
       "dtype: int64"
      ]
     },
     "execution_count": 276,
     "metadata": {},
     "output_type": "execute_result"
    }
   ],
   "source": [
    "cols = [\"0-60 MPH Time (seconds)\", \"Torque (lb-ft)\", \"Horsepower\", \"Engine Size (L)\"]\n",
    "for col in cols:\n",
    "    sports_car_df[col] = pd.to_numeric(sports_car_df[col], errors=\"coerce\")\n",
    "sports_car_df.isna().sum()"
   ]
  },
  {
   "cell_type": "code",
   "execution_count": 277,
   "id": "adb8bbb5-a574-4cfb-8a3c-737af0ad2939",
   "metadata": {
    "scrolled": true
   },
   "outputs": [],
   "source": [
    "sports_car_df[\"Engine Size (L)\"].fillna(0, inplace=True)"
   ]
  },
  {
   "cell_type": "code",
   "execution_count": 278,
   "id": "fbd3184a-73c9-4450-b244-fa0d66e420a8",
   "metadata": {
    "scrolled": true
   },
   "outputs": [
    {
     "data": {
      "text/plain": [
       "Car Make                   0\n",
       "Car Model                  0\n",
       "Year                       0\n",
       "Engine Size (L)            0\n",
       "Horsepower                 0\n",
       "Torque (lb-ft)             1\n",
       "0-60 MPH Time (seconds)    0\n",
       "Price (in USD)             0\n",
       "Electric                   0\n",
       "Hybrid                     0\n",
       "dtype: int64"
      ]
     },
     "execution_count": 278,
     "metadata": {},
     "output_type": "execute_result"
    }
   ],
   "source": [
    "sports_car_df.isna().sum()"
   ]
  },
  {
   "cell_type": "code",
   "execution_count": 279,
   "id": "105179be-bb06-44c9-b351-5aaaab312926",
   "metadata": {},
   "outputs": [
    {
     "name": "stdout",
     "output_type": "stream",
     "text": [
      "(707, 10)\n"
     ]
    },
    {
     "data": {
      "text/plain": [
       "(706, 10)"
      ]
     },
     "execution_count": 279,
     "metadata": {},
     "output_type": "execute_result"
    }
   ],
   "source": [
    "print(sports_car_df.shape)\n",
    "sports_car_df.dropna(inplace=True)\n",
    "sports_car_df.shape"
   ]
  },
  {
   "cell_type": "code",
   "execution_count": 280,
   "id": "b6098ea5-bff9-4379-854a-6467c9c5570d",
   "metadata": {},
   "outputs": [
    {
     "data": {
      "text/html": [
       "<div>\n",
       "<style scoped>\n",
       "    .dataframe tbody tr th:only-of-type {\n",
       "        vertical-align: middle;\n",
       "    }\n",
       "\n",
       "    .dataframe tbody tr th {\n",
       "        vertical-align: top;\n",
       "    }\n",
       "\n",
       "    .dataframe thead th {\n",
       "        text-align: right;\n",
       "    }\n",
       "</style>\n",
       "<table border=\"1\" class=\"dataframe\">\n",
       "  <thead>\n",
       "    <tr style=\"text-align: right;\">\n",
       "      <th></th>\n",
       "      <th>Year</th>\n",
       "      <th>Engine Size (L)</th>\n",
       "      <th>Horsepower</th>\n",
       "      <th>Torque (lb-ft)</th>\n",
       "      <th>0-60 MPH Time (seconds)</th>\n",
       "      <th>Price (in USD)</th>\n",
       "    </tr>\n",
       "  </thead>\n",
       "  <tbody>\n",
       "    <tr>\n",
       "      <th>count</th>\n",
       "      <td>706.000000</td>\n",
       "      <td>706.000000</td>\n",
       "      <td>706.000000</td>\n",
       "      <td>706.000000</td>\n",
       "      <td>706.000000</td>\n",
       "      <td>7.060000e+02</td>\n",
       "    </tr>\n",
       "    <tr>\n",
       "      <th>mean</th>\n",
       "      <td>2021.150142</td>\n",
       "      <td>4.187535</td>\n",
       "      <td>631.416431</td>\n",
       "      <td>564.403683</td>\n",
       "      <td>3.577578</td>\n",
       "      <td>3.811362e+05</td>\n",
       "    </tr>\n",
       "    <tr>\n",
       "      <th>std</th>\n",
       "      <td>2.349011</td>\n",
       "      <td>1.719810</td>\n",
       "      <td>463.974344</td>\n",
       "      <td>503.066441</td>\n",
       "      <td>0.788971</td>\n",
       "      <td>7.657915e+05</td>\n",
       "    </tr>\n",
       "    <tr>\n",
       "      <th>min</th>\n",
       "      <td>1965.000000</td>\n",
       "      <td>0.000000</td>\n",
       "      <td>181.000000</td>\n",
       "      <td>151.000000</td>\n",
       "      <td>1.800000</td>\n",
       "      <td>2.500000e+04</td>\n",
       "    </tr>\n",
       "    <tr>\n",
       "      <th>25%</th>\n",
       "      <td>2021.000000</td>\n",
       "      <td>3.350000</td>\n",
       "      <td>454.000000</td>\n",
       "      <td>398.000000</td>\n",
       "      <td>3.000000</td>\n",
       "      <td>7.000000e+04</td>\n",
       "    </tr>\n",
       "    <tr>\n",
       "      <th>50%</th>\n",
       "      <td>2021.000000</td>\n",
       "      <td>4.000000</td>\n",
       "      <td>591.000000</td>\n",
       "      <td>505.000000</td>\n",
       "      <td>3.500000</td>\n",
       "      <td>1.322000e+05</td>\n",
       "    </tr>\n",
       "    <tr>\n",
       "      <th>75%</th>\n",
       "      <td>2022.000000</td>\n",
       "      <td>5.200000</td>\n",
       "      <td>709.250000</td>\n",
       "      <td>626.750000</td>\n",
       "      <td>4.000000</td>\n",
       "      <td>2.250000e+05</td>\n",
       "    </tr>\n",
       "    <tr>\n",
       "      <th>max</th>\n",
       "      <td>2023.000000</td>\n",
       "      <td>8.400000</td>\n",
       "      <td>10000.000000</td>\n",
       "      <td>10000.000000</td>\n",
       "      <td>6.500000</td>\n",
       "      <td>5.200000e+06</td>\n",
       "    </tr>\n",
       "  </tbody>\n",
       "</table>\n",
       "</div>"
      ],
      "text/plain": [
       "              Year  Engine Size (L)    Horsepower  Torque (lb-ft)  \\\n",
       "count   706.000000       706.000000    706.000000      706.000000   \n",
       "mean   2021.150142         4.187535    631.416431      564.403683   \n",
       "std       2.349011         1.719810    463.974344      503.066441   \n",
       "min    1965.000000         0.000000    181.000000      151.000000   \n",
       "25%    2021.000000         3.350000    454.000000      398.000000   \n",
       "50%    2021.000000         4.000000    591.000000      505.000000   \n",
       "75%    2022.000000         5.200000    709.250000      626.750000   \n",
       "max    2023.000000         8.400000  10000.000000    10000.000000   \n",
       "\n",
       "       0-60 MPH Time (seconds)  Price (in USD)  \n",
       "count               706.000000    7.060000e+02  \n",
       "mean                  3.577578    3.811362e+05  \n",
       "std                   0.788971    7.657915e+05  \n",
       "min                   1.800000    2.500000e+04  \n",
       "25%                   3.000000    7.000000e+04  \n",
       "50%                   3.500000    1.322000e+05  \n",
       "75%                   4.000000    2.250000e+05  \n",
       "max                   6.500000    5.200000e+06  "
      ]
     },
     "execution_count": 280,
     "metadata": {},
     "output_type": "execute_result"
    }
   ],
   "source": [
    "# explore the dataset by computing summary statistics for each column, such as mean, median, mode, standard deviation, and range.\n",
    "sports_car_df.describe()"
   ]
  },
  {
   "cell_type": "code",
   "execution_count": 281,
   "id": "4cca06a7-961b-4c59-aae5-4f538f248b3a",
   "metadata": {},
   "outputs": [
    {
     "data": {
      "text/plain": [
       "Car Make\n",
       "Acura            1.581650e+05\n",
       "Alfa Romeo       7.459967e+04\n",
       "Alpine           7.150000e+04\n",
       "Ariel            7.500000e+04\n",
       "Aston Martin     2.224352e+05\n",
       "Audi             9.135337e+04\n",
       "BMW              8.064097e+04\n",
       "Bentley          2.161760e+05\n",
       "Bugatti          3.386333e+06\n",
       "Chevrolet        5.465270e+04\n",
       "Dodge            7.166649e+04\n",
       "Ferrari          3.000600e+05\n",
       "Ford             2.328552e+05\n",
       "Jaguar           7.643810e+04\n",
       "Kia              5.220000e+04\n",
       "Koenigsegg       2.900000e+06\n",
       "Lamborghini      4.732617e+05\n",
       "Lexus            9.383333e+04\n",
       "Lotus            6.072589e+05\n",
       "Maserati         1.464203e+05\n",
       "Mazda            2.683000e+04\n",
       "McLaren          3.216477e+05\n",
       "Mercedes-AMG     1.538000e+05\n",
       "Mercedes-Benz    1.615324e+05\n",
       "Nissan           4.681161e+04\n",
       "Pagani           2.809091e+06\n",
       "Pininfarina      2.500000e+06\n",
       "Polestar         1.550000e+05\n",
       "Porsche          1.350485e+05\n",
       "Rimac            2.400000e+06\n",
       "Rolls-Royce      3.335944e+05\n",
       "Shelby           1.000000e+06\n",
       "Subaru           3.817000e+04\n",
       "TVR              1.405000e+05\n",
       "Tesla            1.604346e+05\n",
       "Toyota           4.306000e+04\n",
       "Ultima           2.200000e+05\n",
       "W Motors         2.216667e+06\n",
       "Name: Price (in USD), dtype: float64"
      ]
     },
     "execution_count": 281,
     "metadata": {},
     "output_type": "execute_result"
    }
   ],
   "source": [
    "# Pandas to group the dataset by car make and compute the average price for each make\n",
    "sports_car_df.groupby(\"Car Make\")[\"Price (in USD)\"].mean()"
   ]
  },
  {
   "cell_type": "code",
   "execution_count": 282,
   "id": "d0413d1d-6ffe-4bd5-9a96-70d5d091daa4",
   "metadata": {
    "scrolled": true
   },
   "outputs": [
    {
     "data": {
      "text/plain": [
       "Year\n",
       "1965    435.000000\n",
       "2014    622.000000\n",
       "2015    660.400000\n",
       "2017    645.000000\n",
       "2019    615.333333\n",
       "2020    462.083333\n",
       "2021    628.527778\n",
       "2022    650.286792\n",
       "2023    675.000000\n",
       "Name: Horsepower, dtype: float64"
      ]
     },
     "execution_count": 282,
     "metadata": {},
     "output_type": "execute_result"
    }
   ],
   "source": [
    "# group the dataset by year and compute the average horsepower for each year\n",
    "sports_car_df.groupby(\"Year\")[\"Horsepower\"].mean()"
   ]
  },
  {
   "cell_type": "code",
   "execution_count": 283,
   "id": "5fb307e4-7b3e-406c-afb9-50a19fe44b3d",
   "metadata": {},
   "outputs": [],
   "source": [
    "## Calculating Linear Regression for Price and HorsePower\n",
    "X = sports_car_df[\"Price (in USD)\"]\n",
    "Y = sports_car_df[\"Horsepower\"]\n",
    "\n",
    "X_mean = np.mean(X)\n",
    "Y_mean = np.mean(Y)\n",
    "\n",
    "# Y_mean = b0 + b1* X_mean\n",
    "b1 = np.sum((X - X_mean) * (Y - Y_mean))/(np.sum(X - X_mean)**2)\n",
    "b0 = Y_mean - (b1* X_mean)\n",
    "\n",
    "Y_prediction = b0 + b1 * X"
   ]
  },
  {
   "cell_type": "code",
   "execution_count": 284,
   "id": "2a88bebd-5ef0-456f-93d3-954a33a9f92b",
   "metadata": {},
   "outputs": [
    {
     "data": {
      "image/png": "[encoded data removed]",
      "text/plain": [
       "<Figure size 640x480 with 1 Axes>"
      ]
     },
     "metadata": {},
     "output_type": "display_data"
    }
   ],
   "source": [
    "import matplotlib.pyplot as plt\n",
    "# create a scatter plot of price versus horsepower, and add a linear regression line to the plot\n",
    "sports_car_df.plot(x=\"Price (in USD)\", y=\"Horsepower\", kind=\"scatter\")\n",
    "plt.plot(X, Y_prediction, scaley=False, label=\"Linear Regression\", color=\"Red\");\n",
    "plt.legend();"
   ]
  },
  {
   "cell_type": "code",
   "execution_count": 285,
   "id": "56265b5f-e8af-4ee8-b8df-85a29d4d4195",
   "metadata": {},
   "outputs": [
    {
     "data": {
      "image/png": "[encoded data removed]",
      "text/plain": [
       "<Figure size 640x480 with 1 Axes>"
      ]
     },
     "metadata": {},
     "output_type": "display_data"
    }
   ],
   "source": [
    "# create a histogram of the 0-60 MPH times in the dataset, with bins of size 0.5 seconds\n",
    "\n",
    "x_min = np.min(sports_car_df[\"0-60 MPH Time (seconds)\"])\n",
    "x_max = np.max(sports_car_df[\"0-60 MPH Time (seconds)\"])\n",
    "bins = np.arange(np.floor(x_min), np.ceil(x_max), 0.5)\n",
    "sports_car_df[\"0-60 MPH Time (seconds)\"].plot.hist(bins=bins, xlabel=\"0-60 MPH Time (seconds)\");\n",
    " # bins start from 1.5 with interval of 0.5 each"
   ]
  },
  {
   "cell_type": "code",
   "execution_count": 286,
   "id": "e04f1eb7-77f7-4164-a73d-98ea383f60a4",
   "metadata": {},
   "outputs": [],
   "source": [
    "# filter the dataset to only include cars with a price greater than $500,000, and then sort the resulting dataset by horsepower in descending order.\n",
    "filtered_sports_car_df = sports_car_df[sports_car_df[\"Price (in USD)\"] > 500000]\n",
    "sorted_filtered_sports_cars_df = filtered_sports_car_df.sort_values(by=\"Horsepower\", ascending=False)"
   ]
  },
  {
   "cell_type": "code",
   "execution_count": 287,
   "id": "b8f095bf-60c2-4993-84d7-f6b66d8c69ef",
   "metadata": {},
   "outputs": [],
   "source": [
    "# export the cleaned and transformed dataset to a new CSV file\n",
    "sorted_filtered_sports_cars_df.to_csv(\"cleand_transformed_sport_cars_df.csv\", index=False)\n",
    "# index = False does not export index so that after reloading the dataframe, the previous index is not retained and duplication of index does not occurs\n",
    "# as every time a df is loaded by default operation of pandas, a new index column to DataFrame is assigned by Pandas"
   ]
  },
  {
   "cell_type": "code",
   "execution_count": null,
   "id": "929d00e9-fd4e-4141-bfab-6c3f020f3103",
   "metadata": {},
   "outputs": [],
   "source": []
  }
 ],
 "metadata": {
  "kernelspec": {
   "display_name": "Python 3 (ipykernel)",
   "language": "python",
   "name": "python3"
  },
  "language_info": {
   "codemirror_mode": {
    "name": "ipython",
    "version": 3
   },
   "file_extension": ".py",
   "mimetype": "text/x-python",
   "name": "python",
   "nbconvert_exporter": "python",
   "pygments_lexer": "ipython3",
   "version": "3.11.7"
  }
 },
 "nbformat": 4,
 "nbformat_minor": 5
}
