{
 "cells": [
  {
   "cell_type": "markdown",
   "id": "faa031e9-fe0c-4b86-84df-7c23205cd7ec",
   "metadata": {},
   "source": [
    "**OBJECTIVE**:\n",
    "* to assess the student's understanding of object-oriented programming concepts and their ability to apply these concepts using Python."
   ]
  },
  {
   "cell_type": "markdown",
   "id": "acf76528-d2ac-4064-8220-1376ee0c6a77",
   "metadata": {},
   "source": [
    "**INSTRUCTIONS**:\n",
    "* The assignment will consist of <n> coding problems related to object-oriented programming using Python.\n",
    "* The student is required to write a complete Python code, along with comments explaining the approach taken to solve the problem.<n>\n",
    "* The code should be well-structured and easy to read, with appropriate variable names and indentation.\n",
    "* The student is allowed to use any built-in Python libraries but is not allowed to use any third-party libraries.\n",
    "* The code should be submitted in a single Python file (.py) along with a brief explanation of the code and its output."
   ]
  },
  {
   "cell_type": "markdown",
   "id": "83db7451-6ebf-46d9-9381-2c78d7b78004",
   "metadata": {},
   "source": [
    "Task1: Creating a Class (Abstraction)\n",
    "Create an abstract Python class called Person that has the following attributes:\n",
    "\n",
    "○ Name\n",
    "○ Age\n",
    "○ Gender\n",
    "○ Address\n",
    "\n",
    "    The class should implement cooperative inheritance\n",
    "    Define the magic str method that returns the basic info about the person\n",
    "    Define a method greet that accepts an instance of the Person class and greets the person \n",
    "\n",
    "e.g., the output should look like Hello John! My name is Jane.\n",
    "\n",
    "    Define an abstract method introduce that must be implemented by the child classes\n",
    "    Define a static method is_adult that accepts an argument age that returns True or False\n",
    "    if the person is above 18 years old."
   ]
  },
  {
   "cell_type": "code",
   "execution_count": 2,
   "id": "ebe43345-b0f2-4d8a-9094-f5ae6fc8b937",
   "metadata": {},
   "outputs": [],
   "source": [
    "# In python abstract methods and classes are implemented \n",
    "# using built-in abc module's ABC class and abstractmethod decorators respectively\n",
    "from abc import ABC, abstractmethod"
   ]
  },
  {
   "cell_type": "code",
   "execution_count": 14,
   "id": "e309aaa4-6c2d-4d85-ad69-7f4c0b3cffc2",
   "metadata": {},
   "outputs": [],
   "source": [
    "# In the below abstract class, I have used _ before attributes \n",
    "# so that attributes are only accessible by Person class' subclasses\n",
    "class Person(ABC):\n",
    "    def __init__(self, name, age, gender, address,*args, **kwargs):\n",
    "        self._name = name\n",
    "        self._age = age\n",
    "        self._gender = gender\n",
    "        self.address = address\n",
    "\n",
    "    def __str__(self):\n",
    "        \"\"\"\n",
    "        the magic str method that returns the basic info about the person\n",
    "        \"\"\"\n",
    "        return f\"Hello! I {self._name}, am {self._age} years old {self._gender}\"\n",
    "        \n",
    "    def greet(self, other):\n",
    "        \"\"\"\n",
    "        Function that accepts another instance of Person's subclass and greets them\n",
    "        \"\"\"\n",
    "        print(f\"Hello {other._name}! My name is {self._name}\")\n",
    "\n",
    "    @abstractmethod\n",
    "    def introduce(self):\n",
    "        \"\"\"\n",
    "        Not Implemented in Abstract Person Class\n",
    "        \"\"\"\n",
    "        pass\n",
    "\n",
    "    @staticmethod\n",
    "    def is_adult(age):\n",
    "        \"\"\"\n",
    "        As per requirement , only returns True when above 18 years old\n",
    "        \"\"\"\n",
    "        return True if age > 18 else False"
   ]
  },
  {
   "cell_type": "markdown",
   "id": "70483d6c-d29f-4220-b2d5-fc50c13d591a",
   "metadata": {},
   "source": [
    "Task 2: Single Inheritance, Encapsulation\n",
    "\n",
    "Create a Python class called Employee that inherits from the Person class created in Problem\n",
    "This class must also implement cooperative inheritance\n",
    "The Employee class should have the following attributes:\n",
    "*   Create a class attribute counter that will increase by one when a new instance of employee is initialized and decrease by one when an instance is deleted a private attribute employee_id that holds the value according to the counter e.g., EMP01, EMP02.\n",
    "*   The private attribute must have only the getter method not setter, employee_id should not able to be changed once it is created A protected salary attribute\n",
    "\n",
    "The class should have the following methods:\n",
    "\n",
    "    A constructor that initializes the attributes.\n",
    "    A method called counter wrapped in the property decorator that returns the class\n",
    "\n",
    "variable counter\n",
    "\n",
    "    Getter and setter methods for salary and also methods that increases and decreases the salary\n",
    "    An introduce method that overrides the abstract method defined in the Person class."
   ]
  },
  {
   "cell_type": "code",
   "execution_count": 52,
   "id": "e05fc5bb-644d-4d2e-bf66-8d746902a335",
   "metadata": {},
   "outputs": [],
   "source": [
    "class Employee(Person):\n",
    "    \n",
    "    __counter = 0\n",
    "    \n",
    "    def __init__(self, name, age, gender, address, salary=None, **kwargs):\n",
    "        \"\"\"\n",
    "        A constructor that initializes the attributes.\n",
    "        \"\"\"\n",
    "        # Call constructor of Parent class\n",
    "        super().__init__(name, age, gender, address, **kwargs)\n",
    "        self.__class__.__counter += 1\n",
    "\n",
    "        # Using _employee_id attribute name to make it protected so that it cannot be changed\n",
    "        if self.__class__.__counter > 9:\n",
    "            self._employee_id = f\"EM{self.__class__.__counter}\"\n",
    "        else:\n",
    "            self._employee_id = f\"EM0{self.__class__.__counter}\"\n",
    "        self._salary = salary\n",
    "        \n",
    "    @property\n",
    "    def counter(self):\n",
    "        \"\"\"\n",
    "        A method called counter wrapped in the property decorator that returns the class\n",
    "        Using property decorator otherwise cannot access private counter class attribute\n",
    "        \"\"\"\n",
    "        return self.__class__.__counter\n",
    "            \n",
    "    @property\n",
    "    def employee_id(self):\n",
    "        \"\"\"\n",
    "        Getter Function for Protected Employee ID Attribute\n",
    "        \"\"\"\n",
    "        return self._employee_id\n",
    "\n",
    "    @property\n",
    "    def salary(self):\n",
    "        \"\"\"\n",
    "        Getter Function for protected Salary Attribute\n",
    "        \"\"\"\n",
    "        return self._salary\n",
    "\n",
    "    @salary.setter\n",
    "    def salary(self, n):\n",
    "        \"\"\"\n",
    "        Setter Function for salary\n",
    "        \"\"\"\n",
    "        self._salary = n        \n",
    "    def introduce(self):\n",
    "        return f\"Hello! I am {self._name}, an Employee with Employee ID: {self._employee_id}\"\n",
    "\n",
    "    def increase_salary(self, amount):\n",
    "        self._salary += amount\n",
    "\n",
    "    def decrease_salary(self, amount):\n",
    "        self._salary -= amount\n",
    "\n",
    "    def __del__(self):\n",
    "        self.__class__.__counter -= 1"
   ]
  },
  {
   "cell_type": "code",
   "execution_count": 53,
   "id": "eba773ea-b198-4c18-8cc5-44cbd5b63cfe",
   "metadata": {},
   "outputs": [],
   "source": [
    "Sumit = Employee(\"Sumit\", 23, \"Male\", \"6B,09\")"
   ]
  },
  {
   "cell_type": "code",
   "execution_count": 54,
   "id": "3495875d-673b-45db-b42f-f02f5b99f865",
   "metadata": {},
   "outputs": [],
   "source": [
    "Sumit.salary = 1000000\n",
    "Sumit.increase_salary(200000)"
   ]
  },
  {
   "cell_type": "code",
   "execution_count": 55,
   "id": "1c289fd6-7212-40ac-a81e-d6e539ca5390",
   "metadata": {},
   "outputs": [
    {
     "data": {
      "text/plain": [
       "1200000"
      ]
     },
     "execution_count": 55,
     "metadata": {},
     "output_type": "execute_result"
    }
   ],
   "source": [
    "Sumit.salary"
   ]
  },
  {
   "cell_type": "code",
   "execution_count": 56,
   "id": "d2f419a5-7332-40b5-b8b8-638f22a07be6",
   "metadata": {},
   "outputs": [
    {
     "data": {
      "text/plain": [
       "1"
      ]
     },
     "execution_count": 56,
     "metadata": {},
     "output_type": "execute_result"
    }
   ],
   "source": [
    "Sumit.counter"
   ]
  },
  {
   "cell_type": "code",
   "execution_count": 57,
   "id": "34f8f17d-3051-4007-891e-5032fa772d87",
   "metadata": {},
   "outputs": [
    {
     "data": {
      "text/plain": [
       "'EM01'"
      ]
     },
     "execution_count": 57,
     "metadata": {},
     "output_type": "execute_result"
    }
   ],
   "source": [
    "Sumit.employee_id"
   ]
  },
  {
   "cell_type": "markdown",
   "id": "8eae8c06-facf-4ffa-ad68-ebc555229af8",
   "metadata": {},
   "source": [
    "Task 3: Multiple Inheritance, Polymorphism\n",
    "\n",
    "Create a Python class called Teacher that inherits from the Employee, Person classes created in Problem 1 and 2. \n",
    "This class must also implement cooperative inheritance \n",
    "\n",
    "The Teacher class should have the following attributes:\n",
    "* Create a class attribute counter that will increase by one when a new instance of employee is initialized and decrease by one when an      instance is deleted\n",
    "* a private attribute teacher_id that holds the value according to counter e.g., TEC01, TEC02. The private attribute must have only the getter method not setter, teacher_id should not able to be changed once it is created\n",
    "* A subjects attribute is a list of subjects.\n",
    "\n",
    "The class should have the following methods:\n",
    "*    A constructor that initializes the attributes.\n",
    "*    A method called counter wrapped in the property decorator that returns the class variable counter\n",
    "*    methods that appends or removes a particular subject from the subjects list.\n",
    "*    An introduce method that overrides the abstract method defined in the Person class that should return teacher_id and the list of subjects.\n",
    "*    Since we have an attribute named teacher_id, we won’t need employee_id, override the employee_id that now returns an AttributeError if someone tries to access the attribute employee_id. E.g.Teacher object has no attribute employee id.\n",
    "\n",
    "**Note**: the class name Teacher must not be hardcoded. It should be dependent on the class name so that if a new child class inherits from the Teacher class, it should not again say Teacher."
   ]
  },
  {
   "cell_type": "code",
   "execution_count": 58,
   "id": "2b91dc48-89f8-4baf-b4b1-547d073c8b64",
   "metadata": {},
   "outputs": [
    {
     "data": {
      "text/plain": [
       "[__main__.Employee, __main__.Person, abc.ABC, object]"
      ]
     },
     "execution_count": 58,
     "metadata": {},
     "output_type": "execute_result"
    }
   ],
   "source": [
    "Employee.mro()"
   ]
  },
  {
   "cell_type": "code",
   "execution_count": 67,
   "id": "bb058b31-72a2-46d1-a1d7-952f6c661467",
   "metadata": {},
   "outputs": [],
   "source": [
    "class Teacher(Employee):\n",
    "    __counter = 0\n",
    "    def __init__(self, name, age, gender, address, subjects, salary=None, **kwargs):\n",
    "        super().__init__(name, age, gender, address, salary, **kwargs)\n",
    "        self.__class__.__counter += 1\n",
    "        if self.__class__.__counter > 9:\n",
    "            self.__teacher_id = f\"TEC{self.__class__.__counter}\"\n",
    "        else:\n",
    "            self.__teacher_id = f\"TEC0{self.__class__.__counter}\"\n",
    "        self.subjects = subjects\n",
    "\n",
    "    @property\n",
    "    def counter(self):\n",
    "        return self.__class__.__counter\n",
    "        \n",
    "    @property\n",
    "    def teacher_id(self):\n",
    "        \"\"\"\n",
    "        Getter method for teacher_id\n",
    "        \"\"\"\n",
    "        return self.__teacher_id\n",
    "\n",
    "    def add_subject(self, subject):\n",
    "        self.subjects.append(suject)\n",
    "\n",
    "    def remove_subject(self, subject):\n",
    "        if suject in self.subjects:\n",
    "            self.subjects.remove(subject)\n",
    "\n",
    "    def __del__(self):\n",
    "        \"\"\"\n",
    "        Overriding delete because it wants to decrease counter for this class\n",
    "        \"\"\"\n",
    "        self.__class__.counter -= 1\n",
    "    \n",
    "    def introduce(self):\n",
    "        \"\"\"\n",
    "        Introduce overriden to return teacher_id and list of subjects\n",
    "        \"\"\"\n",
    "        return self.__teacher_id, self.subjects\n",
    "\n",
    "    def employee_id(self):\n",
    "        print(f\"{self.__class__.name} has no Employee ID property\")"
   ]
  },
  {
   "cell_type": "code",
   "execution_count": 68,
   "id": "9de09a4b-f334-4881-b70b-377a89debfa6",
   "metadata": {},
   "outputs": [],
   "source": [
    "any_teacher = Teacher('Teacher', 35, 'any', 'online', ['Data Science'])"
   ]
  },
  {
   "cell_type": "code",
   "execution_count": 70,
   "id": "bbecfd61-c713-49db-9d7e-4f2febdafb97",
   "metadata": {},
   "outputs": [],
   "source": [
    "# None Salary\n",
    "any_teacher.salary"
   ]
  },
  {
   "cell_type": "code",
   "execution_count": 71,
   "id": "936d2293-74cb-4eef-ac6b-c964225234e2",
   "metadata": {},
   "outputs": [
    {
     "data": {
      "text/plain": [
       "1000000"
      ]
     },
     "execution_count": 71,
     "metadata": {},
     "output_type": "execute_result"
    }
   ],
   "source": [
    "# Let's try setter of salary from parent class employee\n",
    "any_teacher.salary = 1000000\n",
    "any_teacher.salary"
   ]
  },
  {
   "cell_type": "code",
   "execution_count": 72,
   "id": "12e43f31-ef86-4ea4-abb3-cd5ebe740025",
   "metadata": {},
   "outputs": [
    {
     "data": {
      "text/plain": [
       "('TEC01', ['Data Science'])"
      ]
     },
     "execution_count": 72,
     "metadata": {},
     "output_type": "execute_result"
    }
   ],
   "source": [
    "# Let's try Introduce (overriden)\n",
    "any_teacher.introduce()"
   ]
  },
  {
   "cell_type": "code",
   "execution_count": 73,
   "id": "fcc56141-0f72-4836-b39e-8e830d174881",
   "metadata": {},
   "outputs": [
    {
     "data": {
      "text/plain": [
       "'Hello! I am Sumit, an Employee with Employee ID: EM01'"
      ]
     },
     "execution_count": 73,
     "metadata": {},
     "output_type": "execute_result"
    }
   ],
   "source": [
    "# Let's try Employee's Introduce\n",
    "Sumit.introduce()"
   ]
  },
  {
   "cell_type": "markdown",
   "id": "37a9bd2e-ba9a-4200-97e3-6602d6ad81e3",
   "metadata": {},
   "source": [
    "The Above is Polymorphism (Method Overriding)"
   ]
  },
  {
   "cell_type": "code",
   "execution_count": 74,
   "id": "d1fa5f76-8f24-48e4-b773-135ee13bc64d",
   "metadata": {},
   "outputs": [
    {
     "data": {
      "text/plain": [
       "[__main__.Teacher, __main__.Employee, __main__.Person, abc.ABC, object]"
      ]
     },
     "execution_count": 74,
     "metadata": {},
     "output_type": "execute_result"
    }
   ],
   "source": [
    "Teacher.mro()"
   ]
  },
  {
   "cell_type": "code",
   "execution_count": null,
   "id": "3c54d286-f585-43bf-bec3-f5f4c55bdce8",
   "metadata": {},
   "outputs": [],
   "source": []
  }
 ],
 "metadata": {
  "kernelspec": {
   "display_name": "Python 3 (ipykernel)",
   "language": "python",
   "name": "python3"
  },
  "language_info": {
   "codemirror_mode": {
    "name": "ipython",
    "version": 3
   },
   "file_extension": ".py",
   "mimetype": "text/x-python",
   "name": "python",
   "nbconvert_exporter": "python",
   "pygments_lexer": "ipython3",
   "version": "3.11.7"
  }
 },
 "nbformat": 4,
 "nbformat_minor": 5
}
