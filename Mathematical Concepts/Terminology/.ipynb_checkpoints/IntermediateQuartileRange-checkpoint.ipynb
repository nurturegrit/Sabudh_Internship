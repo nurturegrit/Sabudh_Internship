{
 "cells": [
  {
   "cell_type": "markdown",
   "id": "5fb1d24e-1939-4c19-8719-6ccbe7a267d9",
   "metadata": {},
   "source": [
    "Goals:\n",
    "* To Understand Intermediate Quartile Range\n",
    "* Mathematical Calculations\n",
    "* Relevance in Machine Learning"
   ]
  },
  {
   "cell_type": "markdown",
   "id": "0fe6c520-e4e7-455d-8163-75894a66c5e2",
   "metadata": {},
   "source": [
    "## Understanding Intermediate Quartile Range:\n",
    "\n",
    "* The Interquartile Range (IQR) is a **measure of the spread of data**, also called `statistical dispersion`. \n",
    "* It is calculated as the difference between the third quartile (Q3) and the first quartile (Q1).\n",
    "    * Q1: The first quartile (25th percentile)\n",
    "    * Q3: The third quartile (75th percentile)\n",
    "    * IQR: Q3 - Q1\n",
    "* IQR helps to identify outliers and understand the distribution of data."
   ]
  },
  {
   "cell_type": "markdown",
   "id": "7433dd2c-7343-472a-b7a5-f6600569d6c3",
   "metadata": {},
   "source": [
    "### Plotting IQR:\n",
    "\n",
    "Boxplot of Seaborn module represents Intermediate Quartile range within a central box."
   ]
  },
  {
   "cell_type": "code",
   "execution_count": 2,
   "id": "d25dad25-33cc-4d9f-8006-4159e0bd45ff",
   "metadata": {},
   "outputs": [],
   "source": [
    "import numpy as np\n",
    "import pandas as pd\n",
    "import matplotlib.pyplot as plt\n",
    "import seaborn as sns"
   ]
  },
  {
   "cell_type": "code",
   "execution_count": 12,
   "id": "8a873c20-48c4-4432-8c1f-17e9810efdf8",
   "metadata": {},
   "outputs": [
    {
     "data": {
      "image/png": "[encoded data removed]",
      "text/plain": [
       "<Figure size 640x480 with 1 Axes>"
      ]
     },
     "metadata": {},
     "output_type": "display_data"
    }
   ],
   "source": [
    "# Using Boxplot\n",
    "\n",
    "# Sample data\n",
    "data = np.random.randint(1, 100, size=50)\n",
    "\n",
    "# Adding Outlier\n",
    "data = np.append(data, [200, -100])\n",
    "# Create boxplot\n",
    "sns.boxplot(data=data)\n",
    "plt.title(\"Boxplot of Data\")\n",
    "plt.ylabel(\"Value\")\n",
    "plt.show()\n"
   ]
  },
  {
   "cell_type": "markdown",
   "id": "bfabe116-f7ff-4dae-945e-0303e5b5d3dc",
   "metadata": {},
   "source": [
    "\n",
    "- Upper Border (Q3): Represents the third quartile, where 75% of the data lies below this point.\n",
    "- Lower Border (Q1): Represents the first quartile, where 25% of the data lies below this point.\n",
    "- Box: Encompasses the interquartile range (IQR), containing the middle 50% of the data.\n",
    "- Median: The line within the box represents the median (Q2), dividing the data into two equal halves.\n",
    "- Whiskers: Extend from the box to the minimum and maximum values, excluding outliers.\n",
    "- Outliers: Data points significantly distant from the rest of the data, often represented as individual points or symbols."
   ]
  },
  {
   "cell_type": "markdown",
   "id": "7c8c2537-7a1a-44f5-a02d-7ff22fc8d562",
   "metadata": {},
   "source": [
    "### Mathematical Calculation of Intermediate Quartile Range."
   ]
  },
  {
   "cell_type": "markdown",
   "id": "596aaef7-6689-45e3-8c24-a9f5b1749a9b",
   "metadata": {},
   "source": [
    "**The Data should be sorted to calculate percentile and quartiles.**\n",
    "\n",
    "* One of the main functions of Intermediate quartiles is to find outliers.\n",
    "  * So we will not calulate percentile from ends of the data array.\n",
    "Example: In the below data"
   ]
  },
  {
   "cell_type": "code",
   "execution_count": 16,
   "id": "0b2ef7d0-34b4-4178-b088-2fcbca54fc25",
   "metadata": {},
   "outputs": [
    {
     "data": {
      "text/plain": [
       "array([-100,    5,    7,    7,    9,   12,   13,   14,   15,   16,   18,\n",
       "         21,   24,   25,   25,   27,   30,   30,   31,   33,   33,   39,\n",
       "         39,   41,   41,   45,   46,   46,   46,   47,   56,   57,   58,\n",
       "         63,   64,   65,   69,   70,   75,   75,   77,   85,   85,   87,\n",
       "         88,   92,   92,   94,   94,   98,   98,  200])"
      ]
     },
     "execution_count": 16,
     "metadata": {},
     "output_type": "execute_result"
    }
   ],
   "source": [
    "np.sort(data)"
   ]
  },
  {
   "cell_type": "markdown",
   "id": "b8870500-106c-4d93-9a06-c11da263c3aa",
   "metadata": {},
   "source": [
    "If we calculate percentile from the start or end:\n",
    "The outliers will be included in our Quandrants."
   ]
  }
 ],
 "metadata": {
  "kernelspec": {
   "display_name": "Python 3 (ipykernel)",
   "language": "python",
   "name": "python3"
  },
  "language_info": {
   "codemirror_mode": {
    "name": "ipython",
    "version": 3
   },
   "file_extension": ".py",
   "mimetype": "text/x-python",
   "name": "python",
   "nbconvert_exporter": "python",
   "pygments_lexer": "ipython3",
   "version": "3.11.7"
  }
 },
 "nbformat": 4,
 "nbformat_minor": 5
}
