{
 "cells": [
  {
   "cell_type": "markdown",
   "id": "0378b185-fc17-4953-a723-c7d1fede4df9",
   "metadata": {},
   "source": [
    "### Random Variable\n",
    "\n",
    "In probability and statistics, a **random variable** is a numerical outcome of a random phenomenon. Random variables can be categorized into two main types:\n",
    "\n",
    "1. **Discrete Random Variables**: A discrete random variable is one that can take on a finite or countably infinite set of distinct values. Each value corresponds to a specific outcome of a random phenomenon.\n",
    "   \n",
    "   - **Example (Finite)**: If we flip a coin three times, the number of heads (0, 1, 2, or 3) is a discrete random variable. The possible outcomes are from the countable set \\(\\{0, 1, 2, 3\\}\\).\n",
    "   - **Example (Countably Infinite)**: Consider the number of times you roll a die until you get a six. This random variable can take on any positive integer value (1, 2, 3, ...), which is countably infinite.\n",
    "\n",
    "2. **Continuous Random Variables**: A continuous random variable can take any value within a given range, which is typically an interval on the real number line. This means there are infinitely many possible outcomes.\n",
    "   \n",
    "   - **Example**: If you measure the height of a person, the height can be any value within a certain range (e.g., from 140 cm to 250 cm). The exact height is a continuous random variable because it can take any value within this continuous interval.\n",
    "\n",
    "---\n",
    "\n",
    "### Additional Notes\n",
    "\n",
    "- A **random variable** represents a series of possible outcomes related to a random phenomenon. For example, in the case of coin tosses, the random variable can represent the number of heads in a series of coin tosses, and it is a discrete random variable.\n",
    "- The terminology \"discrete random number\" should be \"discrete random variable\" to be precise.\n",
    "\n",
    "---"
   ]
  },
  {
   "cell_type": "markdown",
   "id": "30174730-df74-4458-b61c-b8162b6cb719",
   "metadata": {},
   "source": [
    "### Additional Concepts Related to Random Variables\n",
    "\n",
    "1. **Probability Distribution**\n",
    "   - **Discrete Random Variables**: Described by a probability mass function (PMF).\n",
    "     - **Example**: For a fair six-sided die, \\(P(X = k) = \\frac{1}{6}\\) for \\(k = 1, 2, 3, 4, 5, 6\\).\n",
    "   - **Continuous Random Variables**: Described by a probability density function (PDF).\n",
    "     - **Example**: PDF of a normal distribution: \\(f(x) = \\frac{1}{\\sqrt{2 \\pi \\sigma^2}} e^{-\\frac{(x - \\mu)^2}{2 \\sigma^2}}\\).\n",
    "\n",
    "2. **Cumulative Distribution Function (CDF)**\n",
    "   - $$F(x) = P(X \\leq x)$$\n",
    "\n",
    "3. **Expected Value (Mean)**\n",
    "   - Discrete: $$E(X) = \\sum x_i P(X = x_i)$$\n",
    "   - Continuous: $$E(X) = \\int_{-\\infty}^{\\infty} x f(x) \\, dx$$\n",
    "\n",
    "4. **Variance and Standard Deviation**\n",
    "   - Variance: $$\\text{Var}(X) = E[(X - E(X))^2$$\n",
    "   - Standard Deviation: \\(\\sigma = \\sqrt{\\text{Var}(X)}\\)\n",
    "\n",
    "5. **Moments**\n",
    "   - \\(n\\)-th moment: \\(E(X^n)\\)\n",
    "   - Second moment about the mean: Variance\n",
    "\n",
    "6. **Common Distributions**\n",
    "   - **Discrete**: Binomial, Poisson, Geometric, Hypergeometric\n",
    "   - **Continuous**: Normal (Gaussian), Exponential, Uniform, Beta, Gamma\n",
    "\n",
    "7. **Law of Large Numbers**\n",
    "   - Sample mean approaches expected value as number of trials increases.\n",
    "\n",
    "8. **Central Limit Theorem**\n",
    "   - Sample mean distribution approaches normal distribution with large number of trials.\n"
   ]
  },
  {
   "cell_type": "code",
   "execution_count": null,
   "id": "67fd1f5e-736f-4e9e-9ad8-a3fdbb594c3c",
   "metadata": {},
   "outputs": [],
   "source": []
  }
 ],
 "metadata": {
  "kernelspec": {
   "display_name": "Python 3 (ipykernel)",
   "language": "python",
   "name": "python3"
  },
  "language_info": {
   "codemirror_mode": {
    "name": "ipython",
    "version": 3
   },
   "file_extension": ".py",
   "mimetype": "text/x-python",
   "name": "python",
   "nbconvert_exporter": "python",
   "pygments_lexer": "ipython3",
   "version": "3.11.7"
  }
 },
 "nbformat": 4,
 "nbformat_minor": 5
}
