{
 "cells": [
  {
   "cell_type": "markdown",
   "id": "a9460b72-834c-4f3b-a3cc-94da046b58b2",
   "metadata": {},
   "source": [
    "## Pre-requisite:\n",
    "* T Distribution (Mathematical Concepts/ Distributions) "
   ]
  },
  {
   "cell_type": "markdown",
   "id": "538805fc-a89f-458a-905d-6e175fda58cf",
   "metadata": {},
   "source": [
    "## Goals:\n",
    "* To understand the concept of p_value\n",
    "* To learn how to calculate p_value\n",
    "* Implement it in python"
   ]
  },
  {
   "cell_type": "markdown",
   "id": "a85d03de-7251-42b2-9b3c-336f02247259",
   "metadata": {},
   "source": [
    "## Introduction:\n",
    "\n",
    "* A p value is a measure used in statistics to help you determine whether the results of an experiment/study are significant.\n",
    "* It is a way to test whether your result happens by chance. or if there is a real effect."
   ]
  },
  {
   "cell_type": "markdown",
   "id": "bbe0353d-de22-4696-9bb8-df3bc6527a00",
   "metadata": {},
   "source": [
    "## Steps to Understand the `p value`:"
   ]
  },
  {
   "cell_type": "markdown",
   "id": "f3599f55-9d88-41a2-8171-7370a1e3b4ad",
   "metadata": {},
   "source": [
    "* Formulate a Hypothesis: \n",
    "    * Let us check whether `drinking more milk leads to more stamina`.\n",
    "       * Null Hypothesis : This is the default assumption that there is no effect. (No difference whether you drink more milk or not.)\n",
    "       * Alternative Hypothesis : This is what you want to prove. In my case, the above statement.\n",
    "* Collect Data:"
   ]
  },
  {
   "cell_type": "code",
   "execution_count": null,
   "id": "1d2272e5-a9ec-4ff3-93a3-83bc372954ae",
   "metadata": {},
   "outputs": [],
   "source": []
  }
 ],
 "metadata": {
  "kernelspec": {
   "display_name": "Python 3 (ipykernel)",
   "language": "python",
   "name": "python3"
  },
  "language_info": {
   "codemirror_mode": {
    "name": "ipython",
    "version": 3
   },
   "file_extension": ".py",
   "mimetype": "text/x-python",
   "name": "python",
   "nbconvert_exporter": "python",
   "pygments_lexer": "ipython3",
   "version": "3.11.7"
  }
 },
 "nbformat": 4,
 "nbformat_minor": 5
}
