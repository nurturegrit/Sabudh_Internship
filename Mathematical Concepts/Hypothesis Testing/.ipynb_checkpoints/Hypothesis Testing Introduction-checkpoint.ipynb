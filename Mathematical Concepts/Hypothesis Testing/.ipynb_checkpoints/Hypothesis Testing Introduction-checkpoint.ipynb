{
 "cells": [
  {
   "cell_type": "markdown",
   "id": "a86f7e00-69d0-4bea-947b-8ce0b86d8a2b",
   "metadata": {},
   "source": [
    "## Hypothesis Testing Introduction:\n",
    "\n",
    "* Goals:\n",
    "   * To understand the concept of Hypothesis Testing"
   ]
  },
  {
   "cell_type": "markdown",
   "id": "68eddd5e-11ca-43ac-8c2a-d0c9758e8ffb",
   "metadata": {},
   "source": [
    "### Introduction:\n",
    "\n",
    "#### Let's Start with an example case:\n",
    "\n",
    "* Imagine you have a bag of candies.\n",
    "* The candy company claims that their candies have an average weight of 10 grams each.\n",
    "* You suspect that average weight of candies is different from what company claims. Let's say you think it is less.\n",
    "* So you conduct a study:\n",
    "   * You take a random sample of 30 candies from the bad and weigh each one."
   ]
  },
  {
   "cell_type": "code",
   "execution_count": 26,
   "id": "a1edfb2d-1311-4a29-b13e-8884fc7a422d",
   "metadata": {},
   "outputs": [
    {
     "data": {
      "text/plain": [
       "array([9.00139165, 9.42469827, 9.7374109 , 9.27288114, 9.21055816,\n",
       "       9.58912553, 9.7767507 , 9.5134416 , 9.65957694, 9.3800106 ,\n",
       "       9.86764702, 9.23552108, 9.76823274, 9.91191258, 9.69810641,\n",
       "       9.31006129, 9.30900106, 9.10328489, 9.72613084, 9.99002817,\n",
       "       9.45831937, 9.3357646 , 9.90600167, 9.45992168, 9.87989808,\n",
       "       9.0759109 , 9.39974347, 9.1752413 , 9.6229844 , 9.36385722])"
      ]
     },
     "execution_count": 26,
     "metadata": {},
     "output_type": "execute_result"
    }
   ],
   "source": [
    "import numpy as np\n",
    "\n",
    "candies_sample = np.random.uniform(9, 10, 30)\n",
    "candies_sample"
   ]
  },
  {
   "cell_type": "markdown",
   "id": "9dcaf822-9c61-4960-b17c-dd75410504e4",
   "metadata": {},
   "source": [
    "   * You calculate the sample mean and sample standard deviation"
   ]
  },
  {
   "cell_type": "code",
   "execution_count": 27,
   "id": "bdf85e60-3c9b-4b9c-814c-b0d44990ccac",
   "metadata": {},
   "outputs": [
    {
     "data": {
      "text/plain": [
       "(9.505447141348865, 0.27358011781717123)"
      ]
     },
     "execution_count": 27,
     "metadata": {},
     "output_type": "execute_result"
    }
   ],
   "source": [
    "mean_sample = candies_sample.mean()\n",
    "std_sample = np.std(candies_sample)\n",
    "\n",
    "mean_sample, std_sample"
   ]
  },
  {
   "cell_type": "markdown",
   "id": "1c35a147-001a-44ac-b1a1-a68526734402",
   "metadata": {},
   "source": [
    " * You decide how strict you want to be when checking the claim.\n",
    " * A common choice is to be 95% sure about your conclusion."
   ]
  },
  {
   "cell_type": "markdown",
   "id": "d0b251df-d722-44d0-b33e-aaedf8d74594",
   "metadata": {},
   "source": [
    "### Conduct the Hypothesis Test."
   ]
  },
  {
   "cell_type": "markdown",
   "id": "2df2146d-99f2-4900-bfe7-d9c72a31bab2",
   "metadata": {},
   "source": [
    " * Compare the Average weight you found (sample_mean) with the 10 grams claim made by the company.\n",
    " * To do this, you use a method that considers the number of candies you checked and how much their weights vary."
   ]
  },
  {
   "cell_type": "code",
   "execution_count": 45,
   "id": "3c9016d1-a8cf-4921-805b-724716abc54f",
   "metadata": {},
   "outputs": [
    {
     "data": {
      "text/plain": [
       "(-3.6552363818640545, 0.0002582618601592035)"
      ]
     },
     "execution_count": 45,
     "metadata": {},
     "output_type": "execute_result"
    }
   ],
   "source": [
    "from scipy.stats import t\n",
    "\n",
    "n = len(candies_sample)\n",
    "\n",
    "m_u = 10 # claimed by the company (mean of population)\n",
    "\n",
    "t_statistic = (mean_sample - m_u) / (std_sample/ np.sqrt(n))\n",
    "\n",
    "p_value = 2 * (1 - t.cdf(abs(t_statistic), df=n-1))\n",
    "\n",
    "t_statistic, p_value"
   ]
  },
  {
   "cell_type": "markdown",
   "id": "e0a85b6e-a71e-4e42-b457-1749f2adb5f7",
   "metadata": {},
   "source": [
    "### Decision Making:\n",
    "\n",
    "* Determine the likelihood of your findings.\n",
    "* If p_value < 0.05 : you decide mean of population that is average weight of candies as claimed by comapany is not true.\n",
    "* If p_value > 0.05 : you decide that company's claim could be true."
   ]
  },
  {
   "cell_type": "code",
   "execution_count": 52,
   "id": "d1d317d3-7010-406f-be05-0ebd95b1d6c3",
   "metadata": {},
   "outputs": [
    {
     "data": {
      "text/plain": [
       "'you decide mean of population; that is average weight of candies as claimed by comapany is not true.'"
      ]
     },
     "execution_count": 52,
     "metadata": {},
     "output_type": "execute_result"
    }
   ],
   "source": [
    "def decision(p_value):\n",
    "    d = str()\n",
    "    if p_value < 0.05 : \n",
    "        d = 'you decide mean of population; that is average weight of candies as claimed by comapany is not true.'\n",
    "    elif p_value > 0.05 : \n",
    "        d = \"you decide that company's claim to be true\"\n",
    "    return d\n",
    "\n",
    "decision(p_value)"
   ]
  },
  {
   "cell_type": "markdown",
   "id": "ab69eb7f-8519-4b26-93b1-63220ced5d02",
   "metadata": {},
   "source": [
    "## You can check the behaviour of the above code by adjusting the values as follows:\n",
    "\n",
    "* * sample_mean = 9.9\n",
    "  * n = 30\n",
    "* * sample_mean = 9.9\n",
    "  * n = 100\n",
    "* * sample_mean = 9.99\n",
    "  * n = 100\n",
    "* * sample_mean = 9.99\n",
    "  * n = 1000\n",
    "* * sample_mean = 9.99\n",
    "  * n = 10000"
   ]
  },
  {
   "cell_type": "code",
   "execution_count": 53,
   "id": "367bced8-85dc-4f7a-b601-3a36a8e1788e",
   "metadata": {},
   "outputs": [
    {
     "data": {
      "text/plain": [
       "{(9.9, 30): (-1.0954451150103284, 0.2823362372860714),\n",
       " (9.9, 100): (-1.999999999999993, 0.048239693372633674),\n",
       " (9.99, 100): (-0.19999999999999574, 0.8418908333152801),\n",
       " (9.99, 1000): (-0.6324555320336624, 0.5272339796681389),\n",
       " (9.99, 10000): (-1.9999999999999574, 0.04552726336151469)}"
      ]
     },
     "execution_count": 53,
     "metadata": {},
     "output_type": "execute_result"
    }
   ],
   "source": [
    "from scipy.stats import t\n",
    "import numpy as np\n",
    "\n",
    "# Given values\n",
    "population_mean = 10\n",
    "sample_std = 0.5\n",
    "\n",
    "# Function to calculate t-statistic and p-value\n",
    "def calculate_t_p(sample_mean, n, population_mean=population_mean, sample_std=sample_std):\n",
    "    t_statistic = (sample_mean - population_mean) / (sample_std / np.sqrt(n))\n",
    "    p_value = 2 * (1 - t.cdf(abs(t_statistic), df=n-1))\n",
    "    return t_statistic, p_value\n",
    "\n",
    "# Cases\n",
    "cases = [\n",
    "    (9.9, 30),\n",
    "    (9.9, 100),\n",
    "    (9.99, 100),\n",
    "    (9.99, 1000),\n",
    "    (9.99, 10000)\n",
    "]\n",
    "\n",
    "# Calculate for each case\n",
    "results = {}\n",
    "for sample_mean, n in cases:\n",
    "    t_stat, p_val = calculate_t_p(sample_mean, n)\n",
    "    results[(sample_mean, n)] = (t_stat, p_val)\n",
    "\n",
    "results"
   ]
  },
  {
   "cell_type": "code",
   "execution_count": 56,
   "id": "db845ab3-4a79-457f-8e51-763bfbce2529",
   "metadata": {},
   "outputs": [
    {
     "name": "stdout",
     "output_type": "stream",
     "text": [
      "For mean: 9.9, sample_size:30 \n",
      "Decision: you decide that company's claim to be true\n",
      "\n",
      "For mean: 9.9, sample_size:100 \n",
      "Decision: you decide mean of population; that is average weight of candies as claimed by comapany is not true.\n",
      "\n",
      "For mean: 9.99, sample_size:100 \n",
      "Decision: you decide that company's claim to be true\n",
      "\n",
      "For mean: 9.99, sample_size:1000 \n",
      "Decision: you decide that company's claim to be true\n",
      "\n",
      "For mean: 9.99, sample_size:10000 \n",
      "Decision: you decide mean of population; that is average weight of candies as claimed by comapany is not true.\n",
      "\n"
     ]
    }
   ],
   "source": [
    "for key, value in results.items():\n",
    "    print(f\"For mean: {key[0]}, sample_size:{key[1]} \\nDecision: {decision(value[1])}\\n\")"
   ]
  },
  {
   "cell_type": "markdown",
   "id": "d5039f1c-e33f-404b-9cb0-a15e210bf637",
   "metadata": {},
   "source": [
    "## So the result of Hypothesis Testing changes with sample mean and sample_size and significance level : (Power of the Test)\n",
    "\n",
    "1. Sample Mean\n",
    "The sample mean is crucial because it's our best estimate of the population mean.\n",
    "\n",
    "If the sample mean is close to the hypothesized value (10g in our candy example), we're less likely to reject the null hypothesis.\n",
    "If it's far from the hypothesized value, we're more likely to reject the null hypothesis.\n",
    "\n",
    "2. Sample Size\n",
    "Sample size is critical for several reasons:\n",
    "\n",
    "Larger samples give more precise estimates of the population parameters.\n",
    "As sample size increases, the standard error decreases, making it easier to detect small differences.\n",
    "With a very large sample, even tiny differences can become statistically significant.\n",
    "\n",
    "3. Significance Level (α)\n",
    "This is the threshold we use to make our decision:\n",
    "\n",
    "A common choice is α = 0.05 (5% significance level)\n",
    "If we decrease α (e.g., to 0.01), we make it harder to reject the null hypothesis, reducing false positives but potentially increasing false negatives.\n",
    "If we increase α (e.g., to 0.10), we make it easier to reject the null hypothesis, potentially increasing false positives but reducing false negatives."
   ]
  },
  {
   "cell_type": "markdown",
   "id": "d631cb35-10d9-44b2-b09f-3997e79dcd54",
   "metadata": {},
   "source": [
    "In This Hypothesis Testing, we can come to two possible decisions:\n",
    "\n",
    "(In hypothesis testing, you generally consider two hypotheses:)\n",
    "\n",
    "### **1. Company's Claim is True:**\n",
    "   - **Null Hypothesis (H₀):** This is the hypothesis that there is no effect or difference. It represents the status quo or the claim being tested. In this context:\n",
    "     - **H₀:** The average weight of the candies is 10 grams.\n",
    "     - The null hypothesis is that there is no significant difference between the observed average weight of the candies and the claimed average weight.\n",
    "\n",
    "### **2. Company's Claim is False:**\n",
    "   - **Alternative Hypothesis (H₁):** This is the hypothesis that you are trying to find evidence for. It represents an effect or a difference that contradicts the null hypothesis. Here:\n",
    "     - **H₁:** The average weight of the candies is not 10 grams.\n",
    "     - The alternative hypothesis suggests that there is a significant difference between the observed average weight of the candies and the claimed average weight."
   ]
  },
  {
   "cell_type": "markdown",
   "id": "971a2cdd-0bb3-4e7e-ad40-16dc35793139",
   "metadata": {},
   "source": [
    "### Hypothesis Testing Process:\n",
    "\n",
    "1. **State the Hypotheses:**\n",
    "   - **Null Hypothesis (H₀):** The average weight of the candies is 10 grams.\n",
    "   - **Alternative Hypothesis (H₁):** The average weight of the candies is not 10 grams.\n",
    "\n",
    "2. **Collect Data and Perform the Test:**\n",
    "   - Collect sample data (e.g., weights of candies).\n",
    "   - Use statistical methods to calculate the t-statistic and p-value.\n",
    "\n",
    "3. **Make a Decision:**\n",
    "   - **If the p-value is greater than the significance level (α, e.g., 0.05):** Fail to reject the null hypothesis. You decide that the company's claim is true (the average weight is not significantly different from 10 grams).\n",
    "   - **If the p-value is less than the significance level (α, e.g., 0.05):** Reject the null hypothesis. You decide that the company's claim is false (the average weight is significantly different from 10 grams).\n",
    "\n",
    "### Example Summary:\n",
    "\n",
    "- **Null Hypothesis (H₀):** Average weight = 10 grams.\n",
    "- **Alternative Hypothesis (H₁):** Average weight ≠ 10 grams.\n",
    "\n",
    "Based on the p-value obtained from your hypothesis test, you either reject the null hypothesis or fail to reject it, which leads you to conclude whether the company's claim is true or false."
   ]
  },
  {
   "cell_type": "markdown",
   "id": "ab43c432-da5d-4d44-99c5-6a7acadb71a7",
   "metadata": {},
   "source": [
    "## Technical Terms\n",
    "\n",
    "### Significance Level (α)\n",
    "- **Definition:** The threshold used to decide whether the p-value is low enough to reject the null hypothesis.\n",
    "- **Common Value:** Typically set at 0.05, meaning there’s a 5% chance of incorrectly rejecting the null hypothesis when it is true.\n",
    "- **Definition in Example:** The threshold you choose to determine if the evidence from your sample is strong enough to reject the company's claim. In this example, a common significance level is 0.05, meaning you are willing to accept a 5% chance of concluding that the average weight of the candies is different from 10 grams when it actually is not.\n",
    "\n",
    "### Type I Error (False Positive)\n",
    "- **Definition:** Occurs when you reject the null hypothesis when it is actually true.\n",
    "- **Implication:** Concluding there is an effect or difference when there isn't one.\n",
    "- **Definition in Example:** Occurs when you conclude that the average weight of the candies is different from 10 grams (rejecting the company's claim) when, in reality, the average weight is indeed 10 grams. This means you incorrectly detect a difference that does not exist.\n",
    "\n",
    "### Type II Error (False Negative)\n",
    "- **Definition:** Occurs when you fail to reject the null hypothesis when the alternative hypothesis is true.\n",
    "- **Implication:** Failing to detect an effect or difference when there is one.\n",
    "- **Definition in Example:** Occurs when you fail to reject the company's claim (concluding the average weight is 10 grams) when, in reality, the average weight is different from 10 grams. This means you miss detecting a difference that actually exists.\n",
    "\n",
    "### Power of the Test\n",
    "- **Definition:** The probability of correctly rejecting the null hypothesis when it is false.\n",
    "- **Factors Influencing Power:** Sample size, effect size, and significance level.\n",
    "- **Definition in Example:** The probability of correctly detecting a significant difference from the claimed average weight of 10 grams when there actually is a difference. Higher power means a greater chance of detecting this difference if it exists. Factors that influence power include the sample size (larger samples increase power), the true effect size (larger differences are easier to detect), and the significance level (a higher α increases power).\n",
    "\n",
    "### Confidence Intervals\n",
    "- **Definition:** A range of values within which the true population parameter is expected to lie with a certain level of confidence (e.g., 95% confidence interval).\n",
    "- **Purpose:** Provides additional context and insight into the precision of the sample estimate.\n",
    "- **Definition in Example:** After conducting your test, you might also calculate a confidence interval for the average weight of the candies. For example, a 95% confidence interval might give a range of values within which you are 95% confident the true average weight lies. This helps you understand the range of possible average weights based on your sample data.\n",
    "\n",
    "### Effect Size\n",
    "- **Definition:** Measures the magnitude of the difference or effect observed in the study.\n",
    "- **Importance:** Helps in understanding the practical significance of the findings, beyond just statistical significance.\n",
    "- **Definition in Example:** Measures how substantial the difference is between the sample mean and the claimed mean of 10 grams. For instance, if the sample mean is 9.99 grams, the effect size tells you how significant this difference is in practical terms, not just statistically. A small effect size means the difference is minor, while a large effect size indicates a more substantial difference.\n",
    "\n",
    "---\n",
    "- **Significance Level (α):** Set at 0.05, you use this to determine whether the p-value from your test is low enough to reject the null hypothesis.\n",
    "- **Type I Error (False Positive):** Incorrectly concluding that the average weight is not 10 grams when it actually is.\n",
    "- **Type II Error (False Negative):** Failing to detect a difference when the average weight is actually different from 10 grams.\n",
    "- **Power of the Test:** The likelihood of detecting a significant difference if the true average weight is different from 10 grams.\n",
    "- **Confidence Intervals:** Provide a range where the true average weight of the candies is likely to be, given your sample data.\n",
    "- **Effect Size:** Indicates the magnitude of the difference between the sample mean and the claimed mean of 10 grams."
   ]
  },
  {
   "cell_type": "markdown",
   "id": "7f6d479d-91c4-49fb-99a5-16cd4ece1319",
   "metadata": {},
   "source": [
    "## Conclusion: \n",
    "\n",
    "* The above was a two tailed test.\n",
    "* I have successfully learned the essential concepts of Hypothesis Testing."
   ]
  },
  {
   "cell_type": "markdown",
   "id": "26aedf0b-c27f-4f32-85eb-efd0e4ca1f66",
   "metadata": {},
   "source": [
    "## Next:\n",
    "* Different Types of Hypothesis Tests (Available as a Notebook)"
   ]
  },
  {
   "cell_type": "code",
   "execution_count": null,
   "id": "ee06dbf1-3223-46a5-b2d6-e5d089e57717",
   "metadata": {},
   "outputs": [],
   "source": []
  }
 ],
 "metadata": {
  "kernelspec": {
   "display_name": "Python 3 (ipykernel)",
   "language": "python",
   "name": "python3"
  },
  "language_info": {
   "codemirror_mode": {
    "name": "ipython",
    "version": 3
   },
   "file_extension": ".py",
   "mimetype": "text/x-python",
   "name": "python",
   "nbconvert_exporter": "python",
   "pygments_lexer": "ipython3",
   "version": "3.11.7"
  }
 },
 "nbformat": 4,
 "nbformat_minor": 5
}
