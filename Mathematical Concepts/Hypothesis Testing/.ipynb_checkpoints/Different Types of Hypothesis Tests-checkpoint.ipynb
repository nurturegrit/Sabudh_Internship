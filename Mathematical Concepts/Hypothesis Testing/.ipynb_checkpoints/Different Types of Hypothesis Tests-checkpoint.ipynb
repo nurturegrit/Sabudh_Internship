{
 "cells": [
  {
   "cell_type": "markdown",
   "metadata": {},
   "source": [
    "# Different Types of Hypothesis Tests\n",
    "\n",
    "## Goals:\n",
    "* Understand various types of hypothesis tests\n",
    "* Learn when to use each type of test\n",
    "* Implement these tests using Python\n",
    "\n",
    "We will cover the following types of tests:\n",
    "1. One-sample t-test\n",
    "2. Two-sample t-test\n",
    "3. Paired t-test\n",
    "4. One-way ANOVA\n",
    "5. Chi-square test of independence"
   ]
  },
  {
   "cell_type": "code",
   "execution_count": null,
   "metadata": {},
   "outputs": [],
   "source": [
    "# Import necessary libraries\n",
    "import numpy as np\n",
    "import scipy.stats as stats\n",
    "import pandas as pd\n",
    "import matplotlib.pyplot as plt\n",
    "from statsmodels.stats.multicomp import pairwise_tukeyhsd"
   ]
  },
  {
   "cell_type": "markdown",
   "metadata": {},
   "source": [
    "## 1. One-sample t-test\n",
    "\n",
    "The one-sample t-test is used to determine whether a sample mean significantly differs from a hypothesized population mean.\n",
    "\n",
    "### Example: Plant Growth\n",
    "A botanist claims that a new fertilizer increases plant height to an average of 25 cm. You measure the heights of 30 plants treated with this fertilizer."
   ]
  },
  {
   "cell_type": "code",
   "execution_count": null,
   "metadata": {},
   "outputs": [],
   "source": [
    "# Generate sample data\n",
    "np.random.seed(42)\n",
    "plant_heights = np.random.normal(26, 2, 30)  # Mean 26, SD 2, 30 samples\n",
    "\n",
    "# Perform one-sample t-test\n",
    "t_statistic, p_value = stats.ttest_1samp(plant_heights, 25)\n",
    "\n",
    "print(f\"T-statistic: {t_statistic:.4f}\")\n",
    "print(f\"P-value: {p_value:.4f}\")\n",
    "\n",
    "# Decision\n",
    "alpha = 0.05\n",
    "if p_value < alpha:\n",
    "    print(\"Reject the null hypothesis. The fertilizer significantly affects plant height.\")\n",
    "else:\n",
    "    print(\"Fail to reject the null hypothesis. There's not enough evidence to conclude the fertilizer affects plant height.\")"
   ]
  },
  {
   "cell_type": "markdown",
   "metadata": {},
   "source": [
    "## 2. Two-sample t-test\n",
    "\n",
    "The two-sample t-test is used to determine if there is a significant difference between the means of two groups.\n",
    "\n",
    "### Example: Comparing Two Fertilizers\n",
    "Compare the effectiveness of two different fertilizers on plant height."
   ]
  },
  {
   "cell_type": "code",
   "execution_count": null,
   "metadata": {},
   "outputs": [],
   "source": [
    "# Generate sample data\n",
    "fertilizer_A = np.random.normal(26, 2, 30)\n",
    "fertilizer_B = np.random.normal(24, 2, 30)\n",
    "\n",
    "# Perform two-sample t-test\n",
    "t_statistic, p_value = stats.ttest_ind(fertilizer_A, fertilizer_B)\n",
    "\n",
    "print(f\"T-statistic: {t_statistic:.4f}\")\n",
    "print(f\"P-value: {p_value:.4f}\")\n",
    "\n",
    "# Decision\n",
    "alpha = 0.05\n",
    "if p_value < alpha:\n",
    "    print(\"Reject the null hypothesis. There is a significant difference between the two fertilizers.\")\n",
    "else:\n",
    "    print(\"Fail to reject the null hypothesis. There's not enough evidence to conclude a difference between the fertilizers.\")"
   ]
  },
  {
   "cell_type": "markdown",
   "metadata": {},
   "source": [
    "## 3. Paired t-test\n",
    "\n",
    "The paired t-test is used when you have two related samples and want to determine if there's a significant difference between them.\n",
    "\n",
    "### Example: Before and After Treatment\n",
    "Measure plant heights before and after applying a fertilizer to the same plants."
   ]
  },
  {
   "cell_type": "code",
   "execution_count": null,
   "metadata": {},
   "outputs": [],
   "source": [
    "# Generate sample data\n",
    "before_treatment = np.random.normal(20, 2, 30)\n",
    "after_treatment = before_treatment + np.random.normal(2, 1, 30)  # Add some growth\n",
    "\n",
    "# Perform paired t-test\n",
    "t_statistic, p_value = stats.ttest_rel(before_treatment, after_treatment)\n",
    "\n",
    "print(f\"T-statistic: {t_statistic:.4f}\")\n",
    "print(f\"P-value: {p_value:.4f}\")\n",
    "\n",
    "# Decision\n",
    "alpha = 0.05\n",
    "if p_value < alpha:\n",
    "    print(\"Reject the null hypothesis. The treatment has a significant effect on plant height.\")\n",
    "else:\n",
    "    print(\"Fail to reject the null hypothesis. There's not enough evidence to conclude the treatment affects plant height.\")"
   ]
  },
  {
   "cell_type": "markdown",
   "metadata": {},
   "source": [
    "## 4. One-way ANOVA\n",
    "\n",
    "One-way ANOVA (Analysis of Variance) is used to determine whether there are any statistically significant differences between the means of three or more independent groups.\n",
    "\n",
    "### Example: Comparing Multiple Fertilizers\n",
    "Compare the effectiveness of four different fertilizers on plant height."
   ]
  },
  {
   "cell_type": "code",
   "execution_count": null,
   "metadata": {},
   "outputs": [],
   "source": [
    "# Generate sample data\n",
    "fertilizer_A = np.random.normal(26, 2, 30)\n",
    "fertilizer_B = np.random.normal(24, 2, 30)\n",
    "fertilizer_C = np.random.normal(25, 2, 30)\n",
    "fertilizer_D = np.random.normal(23, 2, 30)\n",
    "\n",
    "# Perform one-way ANOVA\n",
    "f_statistic, p_value = stats.f_oneway(fertilizer_A, fertilizer_B, fertilizer_C, fertilizer_D)\n",
    "\n",
    "print(f\"F-statistic: {f_statistic:.4f}\")\n",
    "print(f\"P-value: {p_value:.4f}\")\n",
    "\n",
    "# Decision\n",
    "alpha = 0.05\n",
    "if p_value < alpha:\n",
    "    print(\"Reject the null hypothesis. There are significant differences among the fertilizers.\")\n",
    "else:\n",
    "    print(\"Fail to reject the null hypothesis. There's not enough evidence to conclude differences among the fertilizers.\")\n",
    "\n",
    "# Post-hoc test (Tukey's HSD)\n",
    "if p_value < alpha:\n",
    "    data = np.concatenate([fertilizer_A, fertilizer_B, fertilizer_C, fertilizer_D])\n",
    "    labels = ['A']*30 + ['B']*30 + ['C']*30 + ['D']*30\n",
    "    tukey_results = pairwise_tukeyhsd(data, labels)\n",
    "    print(\"\\nTukey's HSD Results:\")\n",
    "    print(tukey_results)"
   ]
  },
  {
   "cell_type": "markdown",
   "metadata": {},
   "source": [
    "## 5. Chi-square test of independence\n",
    "\n",
    "The Chi-square test of independence is used to determine if there is a significant relationship between two categorical variables.\n",
    "\n",
    "### Example: Plant Survival and Fertilizer Type\n",
    "Investigate if there's a relationship between the type of fertilizer used and whether plants survive or die."
   ]
  },
  {
   "cell_type": "code",
   "execution_count": null,
   "metadata": {},
   "outputs": [],
   "source": [
    "# Create a contingency table\n",
    "observed = pd.DataFrame({\n",
    "    'Survived': [43, 53, 38],\n",
    "    'Died': [9, 5, 11]\n",
    "}, index=['Fertilizer A', 'Fertilizer B', 'Fertilizer C'])\n",
    "\n",
    "print(\"Contingency Table:\")\n",
    "print(observed)\n",
    "\n",
    "# Perform Chi-square test\n",
    "chi2, p_value, dof, expected = stats.chi2_contingency(observed)\n",
    "\n",
    "print(f\"\\nChi-square statistic: {chi2:.4f}\")\n",
    "print(f\"P-value: {p_value:.4f}\")\n",
    "\n",
    "# Decision\n",
    "alpha = 0.05\n",
    "if p_value < alpha:\n",
    "    print(\"Reject the null hypothesis. There is a significant relationship between fertilizer type and plant survival.\")\n",
    "else:\n",
    "    print(\"Fail to reject the null hypothesis. There's not enough evidence to conclude a relationship between fertilizer type and plant survival.\")"
   ]
  },
  {
   "cell_type": "markdown",
   "metadata": {},
   "source": [
    "## Conclusion\n",
    "\n",
    "We've covered five different types of hypothesis tests:\n",
    "1. One-sample t-test: Compare a sample mean to a known population mean.\n",
    "2. Two-sample t-test: Compare means of two independent groups.\n",
    "3. Paired t-test: Compare means of two related groups.\n",
    "4. One-way ANOVA: Compare means of three or more independent groups.\n",
    "5. Chi-square test of independence: Test relationship between categorical variables.\n",
    "\n",
    "Each test has its specific use case and assumptions. Understanding when to use each test is crucial for proper statistical analysis in various fields, including machine learning and data science."
   ]
  }
 ],
 "metadata": {
  "kernelspec": {
   "display_name": "Python 3",
   "language": "python",
   "name": "python3"
  },
  "language_info": {
   "codemirror_mode": {
    "name": "ipython",
    "version": 3
   },
   "file_extension": ".py",
   "mimetype": "text/x-python",
   "name": "python",
   "nbconvert_exporter": "python",
   "pygments_lexer": "ipython3",
   "version": "3.8.8"
  }
 },
 "nbformat": 4,
 "nbformat_minor": 4
}